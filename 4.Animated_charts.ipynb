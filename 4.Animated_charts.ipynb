{
 "cells": [
  {
   "cell_type": "markdown",
   "metadata": {},
   "source": [
    "## 0. Import Packages"
   ]
  },
  {
   "cell_type": "code",
   "execution_count": 126,
   "metadata": {},
   "outputs": [],
   "source": [
    "# for data managaement\n",
    "import numpy as np\n",
    "import pandas as pd\n",
    "import time\n",
    "from datetime import datetime, timedelta\n",
    "\n",
    "# for charting\n",
    "import plotly\n",
    "import plotly.graph_objects as go"
   ]
  },
  {
   "cell_type": "markdown",
   "metadata": {},
   "source": [
    "## 1. Import and Inspect data"
   ]
  },
  {
   "cell_type": "code",
   "execution_count": 127,
   "metadata": {},
   "outputs": [],
   "source": [
    "data = pd.read_csv('https://opendata.ecdc.europa.eu/covid19/casedistribution/csv',usecols = list(range(0,10)))"
   ]
  },
  {
   "cell_type": "markdown",
   "metadata": {},
   "source": [
    "## 2. Data cleaning & wrangling"
   ]
  },
  {
   "cell_type": "code",
   "execution_count": 128,
   "metadata": {},
   "outputs": [],
   "source": [
    "# make datetime\n",
    "data['dateRep'] = pd.to_datetime(data['dateRep'], dayfirst=True)\n",
    "\n",
    "#sort values by country and date\n",
    "data.sort_values(by=['countriesAndTerritories','dateRep'], ascending = True, inplace = True)\n",
    "\n",
    "#reindex the data now its sorted to prevent errors when creating aggregates\n",
    "data = data.reindex()"
   ]
  },
  {
   "cell_type": "code",
   "execution_count": 129,
   "metadata": {},
   "outputs": [],
   "source": [
    "data['total_cases'] = data.groupby(by='countriesAndTerritories')['cases'].cumsum()\n",
    "data['total_deaths'] = data.groupby(by='countriesAndTerritories')['deaths'].cumsum()"
   ]
  },
  {
   "cell_type": "code",
   "execution_count": 19,
   "metadata": {},
   "outputs": [
    {
     "name": "stderr",
     "output_type": "stream",
     "text": [
      "C:\\Users\\lundr\\Miniconda3\\envs\\dsj\\lib\\site-packages\\ipykernel_launcher.py:1: UserWarning:\n",
      "\n",
      "Boolean Series key will be reindexed to match DataFrame index.\n",
      "\n"
     ]
    },
    {
     "data": {
      "application/vnd.plotly.v1+json": {
       "config": {
        "plotlyServerURL": "https://plot.ly"
       },
       "data": [
        {
         "type": "bar",
         "x": [
          "United States of America",
          "Spain",
          "United Kingdom",
          "Italy",
          "France",
          "Belgium",
          "Iran",
          "Germany",
          "Turkey",
          "Brazil",
          "Canada",
          "Switzerland",
          "India",
          "Portugal",
          "Sweden",
          "Algeria",
          "Ireland",
          "Denmark",
          "Austria",
          "Poland",
          "Pakistan",
          "Mexico",
          "Morocco"
         ],
         "y": [
          1146,
          674,
          621,
          527,
          518,
          164,
          151,
          92,
          73,
          54,
          49,
          49,
          32,
          29,
          28,
          22,
          21,
          18,
          18,
          15,
          15,
          15,
          11
         ]
        }
       ],
       "layout": {
        "autosize": true,
        "template": {
         "data": {
          "bar": [
           {
            "error_x": {
             "color": "#2a3f5f"
            },
            "error_y": {
             "color": "#2a3f5f"
            },
            "marker": {
             "line": {
              "color": "#E5ECF6",
              "width": 0.5
             }
            },
            "type": "bar"
           }
          ],
          "barpolar": [
           {
            "marker": {
             "line": {
              "color": "#E5ECF6",
              "width": 0.5
             }
            },
            "type": "barpolar"
           }
          ],
          "carpet": [
           {
            "aaxis": {
             "endlinecolor": "#2a3f5f",
             "gridcolor": "white",
             "linecolor": "white",
             "minorgridcolor": "white",
             "startlinecolor": "#2a3f5f"
            },
            "baxis": {
             "endlinecolor": "#2a3f5f",
             "gridcolor": "white",
             "linecolor": "white",
             "minorgridcolor": "white",
             "startlinecolor": "#2a3f5f"
            },
            "type": "carpet"
           }
          ],
          "choropleth": [
           {
            "colorbar": {
             "outlinewidth": 0,
             "ticks": ""
            },
            "type": "choropleth"
           }
          ],
          "contour": [
           {
            "colorbar": {
             "outlinewidth": 0,
             "ticks": ""
            },
            "colorscale": [
             [
              0,
              "#0d0887"
             ],
             [
              0.1111111111111111,
              "#46039f"
             ],
             [
              0.2222222222222222,
              "#7201a8"
             ],
             [
              0.3333333333333333,
              "#9c179e"
             ],
             [
              0.4444444444444444,
              "#bd3786"
             ],
             [
              0.5555555555555556,
              "#d8576b"
             ],
             [
              0.6666666666666666,
              "#ed7953"
             ],
             [
              0.7777777777777778,
              "#fb9f3a"
             ],
             [
              0.8888888888888888,
              "#fdca26"
             ],
             [
              1,
              "#f0f921"
             ]
            ],
            "type": "contour"
           }
          ],
          "contourcarpet": [
           {
            "colorbar": {
             "outlinewidth": 0,
             "ticks": ""
            },
            "type": "contourcarpet"
           }
          ],
          "heatmap": [
           {
            "colorbar": {
             "outlinewidth": 0,
             "ticks": ""
            },
            "colorscale": [
             [
              0,
              "#0d0887"
             ],
             [
              0.1111111111111111,
              "#46039f"
             ],
             [
              0.2222222222222222,
              "#7201a8"
             ],
             [
              0.3333333333333333,
              "#9c179e"
             ],
             [
              0.4444444444444444,
              "#bd3786"
             ],
             [
              0.5555555555555556,
              "#d8576b"
             ],
             [
              0.6666666666666666,
              "#ed7953"
             ],
             [
              0.7777777777777778,
              "#fb9f3a"
             ],
             [
              0.8888888888888888,
              "#fdca26"
             ],
             [
              1,
              "#f0f921"
             ]
            ],
            "type": "heatmap"
           }
          ],
          "heatmapgl": [
           {
            "colorbar": {
             "outlinewidth": 0,
             "ticks": ""
            },
            "colorscale": [
             [
              0,
              "#0d0887"
             ],
             [
              0.1111111111111111,
              "#46039f"
             ],
             [
              0.2222222222222222,
              "#7201a8"
             ],
             [
              0.3333333333333333,
              "#9c179e"
             ],
             [
              0.4444444444444444,
              "#bd3786"
             ],
             [
              0.5555555555555556,
              "#d8576b"
             ],
             [
              0.6666666666666666,
              "#ed7953"
             ],
             [
              0.7777777777777778,
              "#fb9f3a"
             ],
             [
              0.8888888888888888,
              "#fdca26"
             ],
             [
              1,
              "#f0f921"
             ]
            ],
            "type": "heatmapgl"
           }
          ],
          "histogram": [
           {
            "marker": {
             "colorbar": {
              "outlinewidth": 0,
              "ticks": ""
             }
            },
            "type": "histogram"
           }
          ],
          "histogram2d": [
           {
            "colorbar": {
             "outlinewidth": 0,
             "ticks": ""
            },
            "colorscale": [
             [
              0,
              "#0d0887"
             ],
             [
              0.1111111111111111,
              "#46039f"
             ],
             [
              0.2222222222222222,
              "#7201a8"
             ],
             [
              0.3333333333333333,
              "#9c179e"
             ],
             [
              0.4444444444444444,
              "#bd3786"
             ],
             [
              0.5555555555555556,
              "#d8576b"
             ],
             [
              0.6666666666666666,
              "#ed7953"
             ],
             [
              0.7777777777777778,
              "#fb9f3a"
             ],
             [
              0.8888888888888888,
              "#fdca26"
             ],
             [
              1,
              "#f0f921"
             ]
            ],
            "type": "histogram2d"
           }
          ],
          "histogram2dcontour": [
           {
            "colorbar": {
             "outlinewidth": 0,
             "ticks": ""
            },
            "colorscale": [
             [
              0,
              "#0d0887"
             ],
             [
              0.1111111111111111,
              "#46039f"
             ],
             [
              0.2222222222222222,
              "#7201a8"
             ],
             [
              0.3333333333333333,
              "#9c179e"
             ],
             [
              0.4444444444444444,
              "#bd3786"
             ],
             [
              0.5555555555555556,
              "#d8576b"
             ],
             [
              0.6666666666666666,
              "#ed7953"
             ],
             [
              0.7777777777777778,
              "#fb9f3a"
             ],
             [
              0.8888888888888888,
              "#fdca26"
             ],
             [
              1,
              "#f0f921"
             ]
            ],
            "type": "histogram2dcontour"
           }
          ],
          "mesh3d": [
           {
            "colorbar": {
             "outlinewidth": 0,
             "ticks": ""
            },
            "type": "mesh3d"
           }
          ],
          "parcoords": [
           {
            "line": {
             "colorbar": {
              "outlinewidth": 0,
              "ticks": ""
             }
            },
            "type": "parcoords"
           }
          ],
          "pie": [
           {
            "automargin": true,
            "type": "pie"
           }
          ],
          "scatter": [
           {
            "marker": {
             "colorbar": {
              "outlinewidth": 0,
              "ticks": ""
             }
            },
            "type": "scatter"
           }
          ],
          "scatter3d": [
           {
            "line": {
             "colorbar": {
              "outlinewidth": 0,
              "ticks": ""
             }
            },
            "marker": {
             "colorbar": {
              "outlinewidth": 0,
              "ticks": ""
             }
            },
            "type": "scatter3d"
           }
          ],
          "scattercarpet": [
           {
            "marker": {
             "colorbar": {
              "outlinewidth": 0,
              "ticks": ""
             }
            },
            "type": "scattercarpet"
           }
          ],
          "scattergeo": [
           {
            "marker": {
             "colorbar": {
              "outlinewidth": 0,
              "ticks": ""
             }
            },
            "type": "scattergeo"
           }
          ],
          "scattergl": [
           {
            "marker": {
             "colorbar": {
              "outlinewidth": 0,
              "ticks": ""
             }
            },
            "type": "scattergl"
           }
          ],
          "scattermapbox": [
           {
            "marker": {
             "colorbar": {
              "outlinewidth": 0,
              "ticks": ""
             }
            },
            "type": "scattermapbox"
           }
          ],
          "scatterpolar": [
           {
            "marker": {
             "colorbar": {
              "outlinewidth": 0,
              "ticks": ""
             }
            },
            "type": "scatterpolar"
           }
          ],
          "scatterpolargl": [
           {
            "marker": {
             "colorbar": {
              "outlinewidth": 0,
              "ticks": ""
             }
            },
            "type": "scatterpolargl"
           }
          ],
          "scatterternary": [
           {
            "marker": {
             "colorbar": {
              "outlinewidth": 0,
              "ticks": ""
             }
            },
            "type": "scatterternary"
           }
          ],
          "surface": [
           {
            "colorbar": {
             "outlinewidth": 0,
             "ticks": ""
            },
            "colorscale": [
             [
              0,
              "#0d0887"
             ],
             [
              0.1111111111111111,
              "#46039f"
             ],
             [
              0.2222222222222222,
              "#7201a8"
             ],
             [
              0.3333333333333333,
              "#9c179e"
             ],
             [
              0.4444444444444444,
              "#bd3786"
             ],
             [
              0.5555555555555556,
              "#d8576b"
             ],
             [
              0.6666666666666666,
              "#ed7953"
             ],
             [
              0.7777777777777778,
              "#fb9f3a"
             ],
             [
              0.8888888888888888,
              "#fdca26"
             ],
             [
              1,
              "#f0f921"
             ]
            ],
            "type": "surface"
           }
          ],
          "table": [
           {
            "cells": {
             "fill": {
              "color": "#EBF0F8"
             },
             "line": {
              "color": "white"
             }
            },
            "header": {
             "fill": {
              "color": "#C8D4E3"
             },
             "line": {
              "color": "white"
             }
            },
            "type": "table"
           }
          ]
         },
         "layout": {
          "annotationdefaults": {
           "arrowcolor": "#2a3f5f",
           "arrowhead": 0,
           "arrowwidth": 1
          },
          "coloraxis": {
           "colorbar": {
            "outlinewidth": 0,
            "ticks": ""
           }
          },
          "colorscale": {
           "diverging": [
            [
             0,
             "#8e0152"
            ],
            [
             0.1,
             "#c51b7d"
            ],
            [
             0.2,
             "#de77ae"
            ],
            [
             0.3,
             "#f1b6da"
            ],
            [
             0.4,
             "#fde0ef"
            ],
            [
             0.5,
             "#f7f7f7"
            ],
            [
             0.6,
             "#e6f5d0"
            ],
            [
             0.7,
             "#b8e186"
            ],
            [
             0.8,
             "#7fbc41"
            ],
            [
             0.9,
             "#4d9221"
            ],
            [
             1,
             "#276419"
            ]
           ],
           "sequential": [
            [
             0,
             "#0d0887"
            ],
            [
             0.1111111111111111,
             "#46039f"
            ],
            [
             0.2222222222222222,
             "#7201a8"
            ],
            [
             0.3333333333333333,
             "#9c179e"
            ],
            [
             0.4444444444444444,
             "#bd3786"
            ],
            [
             0.5555555555555556,
             "#d8576b"
            ],
            [
             0.6666666666666666,
             "#ed7953"
            ],
            [
             0.7777777777777778,
             "#fb9f3a"
            ],
            [
             0.8888888888888888,
             "#fdca26"
            ],
            [
             1,
             "#f0f921"
            ]
           ],
           "sequentialminus": [
            [
             0,
             "#0d0887"
            ],
            [
             0.1111111111111111,
             "#46039f"
            ],
            [
             0.2222222222222222,
             "#7201a8"
            ],
            [
             0.3333333333333333,
             "#9c179e"
            ],
            [
             0.4444444444444444,
             "#bd3786"
            ],
            [
             0.5555555555555556,
             "#d8576b"
            ],
            [
             0.6666666666666666,
             "#ed7953"
            ],
            [
             0.7777777777777778,
             "#fb9f3a"
            ],
            [
             0.8888888888888888,
             "#fdca26"
            ],
            [
             1,
             "#f0f921"
            ]
           ]
          },
          "colorway": [
           "#636efa",
           "#EF553B",
           "#00cc96",
           "#ab63fa",
           "#FFA15A",
           "#19d3f3",
           "#FF6692",
           "#B6E880",
           "#FF97FF",
           "#FECB52"
          ],
          "font": {
           "color": "#2a3f5f"
          },
          "geo": {
           "bgcolor": "white",
           "lakecolor": "white",
           "landcolor": "#E5ECF6",
           "showlakes": true,
           "showland": true,
           "subunitcolor": "white"
          },
          "hoverlabel": {
           "align": "left"
          },
          "hovermode": "closest",
          "mapbox": {
           "style": "light"
          },
          "paper_bgcolor": "white",
          "plot_bgcolor": "#E5ECF6",
          "polar": {
           "angularaxis": {
            "gridcolor": "white",
            "linecolor": "white",
            "ticks": ""
           },
           "bgcolor": "#E5ECF6",
           "radialaxis": {
            "gridcolor": "white",
            "linecolor": "white",
            "ticks": ""
           }
          },
          "scene": {
           "xaxis": {
            "backgroundcolor": "#E5ECF6",
            "gridcolor": "white",
            "gridwidth": 2,
            "linecolor": "white",
            "showbackground": true,
            "ticks": "",
            "zerolinecolor": "white"
           },
           "yaxis": {
            "backgroundcolor": "#E5ECF6",
            "gridcolor": "white",
            "gridwidth": 2,
            "linecolor": "white",
            "showbackground": true,
            "ticks": "",
            "zerolinecolor": "white"
           },
           "zaxis": {
            "backgroundcolor": "#E5ECF6",
            "gridcolor": "white",
            "gridwidth": 2,
            "linecolor": "white",
            "showbackground": true,
            "ticks": "",
            "zerolinecolor": "white"
           }
          },
          "shapedefaults": {
           "line": {
            "color": "#2a3f5f"
           }
          },
          "ternary": {
           "aaxis": {
            "gridcolor": "white",
            "linecolor": "white",
            "ticks": ""
           },
           "baxis": {
            "gridcolor": "white",
            "linecolor": "white",
            "ticks": ""
           },
           "bgcolor": "#E5ECF6",
           "caxis": {
            "gridcolor": "white",
            "linecolor": "white",
            "ticks": ""
           }
          },
          "title": {
           "x": 0.05
          },
          "xaxis": {
           "automargin": true,
           "gridcolor": "white",
           "linecolor": "white",
           "ticks": "",
           "title": {
            "standoff": 15
           },
           "zerolinecolor": "white",
           "zerolinewidth": 2
          },
          "yaxis": {
           "automargin": true,
           "gridcolor": "white",
           "linecolor": "white",
           "ticks": "",
           "title": {
            "standoff": 15
           },
           "zerolinecolor": "white",
           "zerolinewidth": 2
          }
         }
        },
        "xaxis": {
         "autorange": true,
         "range": [
          -0.5,
          22.5
         ],
         "type": "category"
        },
        "yaxis": {
         "autorange": true,
         "range": [
          0,
          1206.3157894736842
         ],
         "type": "linear"
        }
       }
      },
      "image/png": "[encoded data removed]",
      "text/html": [
       "<div>\n",
       "        \n",
       "        \n",
       "            <div id=\"d9b4208b-c47d-4074-8259-43f803f6c75a\" class=\"plotly-graph-div\" style=\"height:525px; width:100%;\"></div>\n",
       "            <script type=\"text/javascript\">\n",
       "                require([\"plotly\"], function(Plotly) {\n",
       "                    window.PLOTLYENV=window.PLOTLYENV || {};\n",
       "                    \n",
       "                if (document.getElementById(\"d9b4208b-c47d-4074-8259-43f803f6c75a\")) {\n",
       "                    Plotly.newPlot(\n",
       "                        'd9b4208b-c47d-4074-8259-43f803f6c75a',\n",
       "                        [{\"type\": \"bar\", \"x\": [\"United States of America\", \"Spain\", \"United Kingdom\", \"Italy\", \"France\", \"Belgium\", \"Iran\", \"Germany\", \"Turkey\", \"Brazil\", \"Canada\", \"Switzerland\", \"India\", \"Portugal\", \"Sweden\", \"Algeria\", \"Ireland\", \"Denmark\", \"Austria\", \"Poland\", \"Pakistan\", \"Mexico\", \"Morocco\"], \"y\": [1146, 674, 621, 527, 518, 164, 151, 92, 73, 54, 49, 49, 32, 29, 28, 22, 21, 18, 18, 15, 15, 15, 11]}],\n",
       "                        {\"template\": {\"data\": {\"bar\": [{\"error_x\": {\"color\": \"#2a3f5f\"}, \"error_y\": {\"color\": \"#2a3f5f\"}, \"marker\": {\"line\": {\"color\": \"#E5ECF6\", \"width\": 0.5}}, \"type\": \"bar\"}], \"barpolar\": [{\"marker\": {\"line\": {\"color\": \"#E5ECF6\", \"width\": 0.5}}, \"type\": \"barpolar\"}], \"carpet\": [{\"aaxis\": {\"endlinecolor\": \"#2a3f5f\", \"gridcolor\": \"white\", \"linecolor\": \"white\", \"minorgridcolor\": \"white\", \"startlinecolor\": \"#2a3f5f\"}, \"baxis\": {\"endlinecolor\": \"#2a3f5f\", \"gridcolor\": \"white\", \"linecolor\": \"white\", \"minorgridcolor\": \"white\", \"startlinecolor\": \"#2a3f5f\"}, \"type\": \"carpet\"}], \"choropleth\": [{\"colorbar\": {\"outlinewidth\": 0, \"ticks\": \"\"}, \"type\": \"choropleth\"}], \"contour\": [{\"colorbar\": {\"outlinewidth\": 0, \"ticks\": \"\"}, \"colorscale\": [[0.0, \"#0d0887\"], [0.1111111111111111, \"#46039f\"], [0.2222222222222222, \"#7201a8\"], [0.3333333333333333, \"#9c179e\"], [0.4444444444444444, \"#bd3786\"], [0.5555555555555556, \"#d8576b\"], [0.6666666666666666, \"#ed7953\"], [0.7777777777777778, \"#fb9f3a\"], [0.8888888888888888, \"#fdca26\"], [1.0, \"#f0f921\"]], \"type\": \"contour\"}], \"contourcarpet\": [{\"colorbar\": {\"outlinewidth\": 0, \"ticks\": \"\"}, \"type\": \"contourcarpet\"}], \"heatmap\": [{\"colorbar\": {\"outlinewidth\": 0, \"ticks\": \"\"}, \"colorscale\": [[0.0, \"#0d0887\"], [0.1111111111111111, \"#46039f\"], [0.2222222222222222, \"#7201a8\"], [0.3333333333333333, \"#9c179e\"], [0.4444444444444444, \"#bd3786\"], [0.5555555555555556, \"#d8576b\"], [0.6666666666666666, \"#ed7953\"], [0.7777777777777778, \"#fb9f3a\"], [0.8888888888888888, \"#fdca26\"], [1.0, \"#f0f921\"]], \"type\": \"heatmap\"}], \"heatmapgl\": [{\"colorbar\": {\"outlinewidth\": 0, \"ticks\": \"\"}, \"colorscale\": [[0.0, \"#0d0887\"], [0.1111111111111111, \"#46039f\"], [0.2222222222222222, \"#7201a8\"], [0.3333333333333333, \"#9c179e\"], [0.4444444444444444, \"#bd3786\"], [0.5555555555555556, \"#d8576b\"], [0.6666666666666666, \"#ed7953\"], [0.7777777777777778, \"#fb9f3a\"], [0.8888888888888888, \"#fdca26\"], [1.0, \"#f0f921\"]], \"type\": \"heatmapgl\"}], \"histogram\": [{\"marker\": {\"colorbar\": {\"outlinewidth\": 0, \"ticks\": \"\"}}, \"type\": \"histogram\"}], \"histogram2d\": [{\"colorbar\": {\"outlinewidth\": 0, \"ticks\": \"\"}, \"colorscale\": [[0.0, \"#0d0887\"], [0.1111111111111111, \"#46039f\"], [0.2222222222222222, \"#7201a8\"], [0.3333333333333333, \"#9c179e\"], [0.4444444444444444, \"#bd3786\"], [0.5555555555555556, \"#d8576b\"], [0.6666666666666666, \"#ed7953\"], [0.7777777777777778, \"#fb9f3a\"], [0.8888888888888888, \"#fdca26\"], [1.0, \"#f0f921\"]], \"type\": \"histogram2d\"}], \"histogram2dcontour\": [{\"colorbar\": {\"outlinewidth\": 0, \"ticks\": \"\"}, \"colorscale\": [[0.0, \"#0d0887\"], [0.1111111111111111, \"#46039f\"], [0.2222222222222222, \"#7201a8\"], [0.3333333333333333, \"#9c179e\"], [0.4444444444444444, \"#bd3786\"], [0.5555555555555556, \"#d8576b\"], [0.6666666666666666, \"#ed7953\"], [0.7777777777777778, \"#fb9f3a\"], [0.8888888888888888, \"#fdca26\"], [1.0, \"#f0f921\"]], \"type\": \"histogram2dcontour\"}], \"mesh3d\": [{\"colorbar\": {\"outlinewidth\": 0, \"ticks\": \"\"}, \"type\": \"mesh3d\"}], \"parcoords\": [{\"line\": {\"colorbar\": {\"outlinewidth\": 0, \"ticks\": \"\"}}, \"type\": \"parcoords\"}], \"pie\": [{\"automargin\": true, \"type\": \"pie\"}], \"scatter\": [{\"marker\": {\"colorbar\": {\"outlinewidth\": 0, \"ticks\": \"\"}}, \"type\": \"scatter\"}], \"scatter3d\": [{\"line\": {\"colorbar\": {\"outlinewidth\": 0, \"ticks\": \"\"}}, \"marker\": {\"colorbar\": {\"outlinewidth\": 0, \"ticks\": \"\"}}, \"type\": \"scatter3d\"}], \"scattercarpet\": [{\"marker\": {\"colorbar\": {\"outlinewidth\": 0, \"ticks\": \"\"}}, \"type\": \"scattercarpet\"}], \"scattergeo\": [{\"marker\": {\"colorbar\": {\"outlinewidth\": 0, \"ticks\": \"\"}}, \"type\": \"scattergeo\"}], \"scattergl\": [{\"marker\": {\"colorbar\": {\"outlinewidth\": 0, \"ticks\": \"\"}}, \"type\": \"scattergl\"}], \"scattermapbox\": [{\"marker\": {\"colorbar\": {\"outlinewidth\": 0, \"ticks\": \"\"}}, \"type\": \"scattermapbox\"}], \"scatterpolar\": [{\"marker\": {\"colorbar\": {\"outlinewidth\": 0, \"ticks\": \"\"}}, \"type\": \"scatterpolar\"}], \"scatterpolargl\": [{\"marker\": {\"colorbar\": {\"outlinewidth\": 0, \"ticks\": \"\"}}, \"type\": \"scatterpolargl\"}], \"scatterternary\": [{\"marker\": {\"colorbar\": {\"outlinewidth\": 0, \"ticks\": \"\"}}, \"type\": \"scatterternary\"}], \"surface\": [{\"colorbar\": {\"outlinewidth\": 0, \"ticks\": \"\"}, \"colorscale\": [[0.0, \"#0d0887\"], [0.1111111111111111, \"#46039f\"], [0.2222222222222222, \"#7201a8\"], [0.3333333333333333, \"#9c179e\"], [0.4444444444444444, \"#bd3786\"], [0.5555555555555556, \"#d8576b\"], [0.6666666666666666, \"#ed7953\"], [0.7777777777777778, \"#fb9f3a\"], [0.8888888888888888, \"#fdca26\"], [1.0, \"#f0f921\"]], \"type\": \"surface\"}], \"table\": [{\"cells\": {\"fill\": {\"color\": \"#EBF0F8\"}, \"line\": {\"color\": \"white\"}}, \"header\": {\"fill\": {\"color\": \"#C8D4E3\"}, \"line\": {\"color\": \"white\"}}, \"type\": \"table\"}]}, \"layout\": {\"annotationdefaults\": {\"arrowcolor\": \"#2a3f5f\", \"arrowhead\": 0, \"arrowwidth\": 1}, \"coloraxis\": {\"colorbar\": {\"outlinewidth\": 0, \"ticks\": \"\"}}, \"colorscale\": {\"diverging\": [[0, \"#8e0152\"], [0.1, \"#c51b7d\"], [0.2, \"#de77ae\"], [0.3, \"#f1b6da\"], [0.4, \"#fde0ef\"], [0.5, \"#f7f7f7\"], [0.6, \"#e6f5d0\"], [0.7, \"#b8e186\"], [0.8, \"#7fbc41\"], [0.9, \"#4d9221\"], [1, \"#276419\"]], \"sequential\": [[0.0, \"#0d0887\"], [0.1111111111111111, \"#46039f\"], [0.2222222222222222, \"#7201a8\"], [0.3333333333333333, \"#9c179e\"], [0.4444444444444444, \"#bd3786\"], [0.5555555555555556, \"#d8576b\"], [0.6666666666666666, \"#ed7953\"], [0.7777777777777778, \"#fb9f3a\"], [0.8888888888888888, \"#fdca26\"], [1.0, \"#f0f921\"]], \"sequentialminus\": [[0.0, \"#0d0887\"], [0.1111111111111111, \"#46039f\"], [0.2222222222222222, \"#7201a8\"], [0.3333333333333333, \"#9c179e\"], [0.4444444444444444, \"#bd3786\"], [0.5555555555555556, \"#d8576b\"], [0.6666666666666666, \"#ed7953\"], [0.7777777777777778, \"#fb9f3a\"], [0.8888888888888888, \"#fdca26\"], [1.0, \"#f0f921\"]]}, \"colorway\": [\"#636efa\", \"#EF553B\", \"#00cc96\", \"#ab63fa\", \"#FFA15A\", \"#19d3f3\", \"#FF6692\", \"#B6E880\", \"#FF97FF\", \"#FECB52\"], \"font\": {\"color\": \"#2a3f5f\"}, \"geo\": {\"bgcolor\": \"white\", \"lakecolor\": \"white\", \"landcolor\": \"#E5ECF6\", \"showlakes\": true, \"showland\": true, \"subunitcolor\": \"white\"}, \"hoverlabel\": {\"align\": \"left\"}, \"hovermode\": \"closest\", \"mapbox\": {\"style\": \"light\"}, \"paper_bgcolor\": \"white\", \"plot_bgcolor\": \"#E5ECF6\", \"polar\": {\"angularaxis\": {\"gridcolor\": \"white\", \"linecolor\": \"white\", \"ticks\": \"\"}, \"bgcolor\": \"#E5ECF6\", \"radialaxis\": {\"gridcolor\": \"white\", \"linecolor\": \"white\", \"ticks\": \"\"}}, \"scene\": {\"xaxis\": {\"backgroundcolor\": \"#E5ECF6\", \"gridcolor\": \"white\", \"gridwidth\": 2, \"linecolor\": \"white\", \"showbackground\": true, \"ticks\": \"\", \"zerolinecolor\": \"white\"}, \"yaxis\": {\"backgroundcolor\": \"#E5ECF6\", \"gridcolor\": \"white\", \"gridwidth\": 2, \"linecolor\": \"white\", \"showbackground\": true, \"ticks\": \"\", \"zerolinecolor\": \"white\"}, \"zaxis\": {\"backgroundcolor\": \"#E5ECF6\", \"gridcolor\": \"white\", \"gridwidth\": 2, \"linecolor\": \"white\", \"showbackground\": true, \"ticks\": \"\", \"zerolinecolor\": \"white\"}}, \"shapedefaults\": {\"line\": {\"color\": \"#2a3f5f\"}}, \"ternary\": {\"aaxis\": {\"gridcolor\": \"white\", \"linecolor\": \"white\", \"ticks\": \"\"}, \"baxis\": {\"gridcolor\": \"white\", \"linecolor\": \"white\", \"ticks\": \"\"}, \"bgcolor\": \"#E5ECF6\", \"caxis\": {\"gridcolor\": \"white\", \"linecolor\": \"white\", \"ticks\": \"\"}}, \"title\": {\"x\": 0.05}, \"xaxis\": {\"automargin\": true, \"gridcolor\": \"white\", \"linecolor\": \"white\", \"ticks\": \"\", \"title\": {\"standoff\": 15}, \"zerolinecolor\": \"white\", \"zerolinewidth\": 2}, \"yaxis\": {\"automargin\": true, \"gridcolor\": \"white\", \"linecolor\": \"white\", \"ticks\": \"\", \"title\": {\"standoff\": 15}, \"zerolinecolor\": \"white\", \"zerolinewidth\": 2}}}},\n",
       "                        {\"responsive\": true}\n",
       "                    ).then(function(){\n",
       "                            \n",
       "var gd = document.getElementById('d9b4208b-c47d-4074-8259-43f803f6c75a');\n",
       "var x = new MutationObserver(function (mutations, observer) {{\n",
       "        var display = window.getComputedStyle(gd).display;\n",
       "        if (!display || display === 'none') {{\n",
       "            console.log([gd, 'removed!']);\n",
       "            Plotly.purge(gd);\n",
       "            observer.disconnect();\n",
       "        }}\n",
       "}});\n",
       "\n",
       "// Listen for the removal of the full notebook cells\n",
       "var notebookContainer = gd.closest('#notebook-container');\n",
       "if (notebookContainer) {{\n",
       "    x.observe(notebookContainer, {childList: true});\n",
       "}}\n",
       "\n",
       "// Listen for the clearing of the current output cell\n",
       "var outputEl = gd.closest('.output');\n",
       "if (outputEl) {{\n",
       "    x.observe(outputEl, {childList: true});\n",
       "}}\n",
       "\n",
       "                        })\n",
       "                };\n",
       "                });\n",
       "            </script>\n",
       "        </div>"
      ]
     },
     "metadata": {},
     "output_type": "display_data"
    }
   ],
   "source": [
    "chart_data = data.loc[data['dateRep'] == max(data['dateRep'])][data['deaths']>10].sort_values(by='deaths', ascending = False).reset_index()\n",
    "\n",
    "# choose the series to plot on the x and y axes\n",
    "x = [' '.join(x.split('_')) for x in chart_data['countriesAndTerritories']]\n",
    "y = chart_data ['deaths']\n",
    "\n",
    "# describe the chart you want\n",
    "trace0 = go.Bar(x=x, y=y)\n",
    "\n",
    "# make the chart\n",
    "fig = go.Figure(trace0)\n",
    "\n",
    "# show the chart\n",
    "fig.show()"
   ]
  },
  {
   "cell_type": "code",
   "execution_count": 172,
   "metadata": {},
   "outputs": [
    {
     "name": "stderr",
     "output_type": "stream",
     "text": [
      "C:\\Users\\lundr\\Miniconda3\\envs\\dsj\\lib\\site-packages\\ipykernel_launcher.py:11: UserWarning:\n",
      "\n",
      "Boolean Series key will be reindexed to match DataFrame index.\n",
      "\n",
      "C:\\Users\\lundr\\Miniconda3\\envs\\dsj\\lib\\site-packages\\ipykernel_launcher.py:20: UserWarning:\n",
      "\n",
      "Boolean Series key will be reindexed to match DataFrame index.\n",
      "\n"
     ]
    },
    {
     "data": {
      "application/vnd.plotly.v1+json": {
       "config": {
        "plotlyServerURL": "https://plot.ly"
       },
       "data": [
        {
         "name": "",
         "type": "bar",
         "visible": true,
         "x": [
          "Italy",
          "Spain",
          "United States of America",
          "France",
          "United Kingdom",
          "Iran",
          "China",
          "Belgium",
          "Germany",
          "Switzerland",
          "Turkey",
          "Brazil",
          "Sweden",
          "Portugal",
          "Canada",
          "Austria",
          "Indonesia",
          "South Korea",
          "Ecuador",
          "Denmark",
          "Ireland",
          "Algeria",
          "Philippines",
          "Romania",
          "India",
          "Mexico",
          "Poland",
          "Peru",
          "Dominican Republic",
          "Japan",
          "Greece",
          "Egypt",
          "Morocco",
          "Czech Republic",
          "Malaysia",
          "Iraq",
          "Norway",
          "Panama",
          "Serbia",
          "Pakistan",
          "Israel",
          "Argentina",
          "Russia",
          "Hungary",
          "Luxembourg",
          "Australia",
          "Colombia",
          "Saudi Arabia",
          "Chile",
          "San Marino",
          "Ukraine",
          "Slovenia",
          "Finland",
          "Thailand",
          "Bosnia and Herzegovina",
          "Honduras",
          "Albania"
         ],
         "y": [
          15889,
          12418,
          9647,
          8078,
          4934,
          3603,
          3335,
          1447,
          1434,
          715,
          574,
          486,
          401,
          295,
          280,
          204,
          198,
          186,
          180,
          179,
          158,
          152,
          152,
          148,
          109,
          94,
          94,
          83,
          82,
          73,
          73,
          71,
          70,
          67,
          61,
          61,
          58,
          54,
          51,
          50,
          49,
          46,
          45,
          38,
          36,
          36,
          35,
          34,
          34,
          32,
          32,
          28,
          28,
          26,
          24,
          22,
          21
         ]
        },
        {
         "name": "",
         "type": "bar",
         "visible": false,
         "x": [
          "China"
         ],
         "y": [
          1771
         ]
        },
        {
         "name": "",
         "type": "bar",
         "visible": false,
         "x": [
          "China"
         ],
         "y": [
          1869
         ]
        },
        {
         "name": "",
         "type": "bar",
         "visible": false,
         "x": [
          "China"
         ],
         "y": [
          2008
         ]
        },
        {
         "name": "",
         "type": "bar",
         "visible": false,
         "x": [
          "China"
         ],
         "y": [
          2120
         ]
        },
        {
         "name": "",
         "type": "bar",
         "visible": false,
         "x": [
          "China"
         ],
         "y": [
          2238
         ]
        },
        {
         "name": "",
         "type": "bar",
         "visible": false,
         "x": [
          "China"
         ],
         "y": [
          2347
         ]
        },
        {
         "name": "",
         "type": "bar",
         "visible": false,
         "x": [
          "China"
         ],
         "y": [
          2445
         ]
        },
        {
         "name": "",
         "type": "bar",
         "visible": false,
         "x": [
          "China"
         ],
         "y": [
          2595
         ]
        },
        {
         "name": "",
         "type": "bar",
         "visible": false,
         "x": [
          "China"
         ],
         "y": [
          2665
         ]
        },
        {
         "name": "",
         "type": "bar",
         "visible": false,
         "x": [
          "China"
         ],
         "y": [
          2717
         ]
        },
        {
         "name": "",
         "type": "bar",
         "visible": false,
         "x": [
          "China"
         ],
         "y": [
          2746
         ]
        },
        {
         "name": "",
         "type": "bar",
         "visible": false,
         "x": [
          "China",
          "Iran"
         ],
         "y": [
          2790,
          26
         ]
        },
        {
         "name": "",
         "type": "bar",
         "visible": false,
         "x": [
          "China",
          "Iran",
          "Italy"
         ],
         "y": [
          2837,
          34,
          21
         ]
        },
        {
         "name": "",
         "type": "bar",
         "visible": false,
         "x": [
          "China",
          "Iran",
          "Italy"
         ],
         "y": [
          2872,
          43,
          29
         ]
        },
        {
         "name": "",
         "type": "bar",
         "visible": false,
         "x": [
          "China",
          "Iran",
          "Italy",
          "South Korea"
         ],
         "y": [
          2914,
          54,
          35,
          22
         ]
        },
        {
         "name": "",
         "type": "bar",
         "visible": false,
         "x": [
          "China",
          "Iran",
          "Italy",
          "South Korea"
         ],
         "y": [
          2946,
          66,
          52,
          28
         ]
        },
        {
         "name": "",
         "type": "bar",
         "visible": false,
         "x": [
          "China",
          "Italy",
          "Iran",
          "South Korea"
         ],
         "y": [
          2983,
          80,
          77,
          32
         ]
        },
        {
         "name": "",
         "type": "bar",
         "visible": false,
         "x": [
          "China",
          "Italy",
          "Iran",
          "South Korea"
         ],
         "y": [
          3014,
          107,
          92,
          35
         ]
        },
        {
         "name": "",
         "type": "bar",
         "visible": false,
         "x": [
          "China",
          "Italy",
          "Iran",
          "South Korea"
         ],
         "y": [
          3044,
          148,
          107,
          42
         ]
        },
        {
         "name": "",
         "type": "bar",
         "visible": false,
         "x": [
          "China",
          "Italy",
          "Iran",
          "South Korea"
         ],
         "y": [
          3072,
          197,
          124,
          44
         ]
        },
        {
         "name": "",
         "type": "bar",
         "visible": false,
         "x": [
          "China",
          "Italy",
          "Iran",
          "South Korea"
         ],
         "y": [
          3099,
          233,
          145,
          50
         ]
        },
        {
         "name": "",
         "type": "bar",
         "visible": false,
         "x": [
          "China",
          "Italy",
          "Iran",
          "South Korea",
          "United States of America"
         ],
         "y": [
          3122,
          366,
          194,
          51,
          21
         ]
        },
        {
         "name": "",
         "type": "bar",
         "visible": false,
         "x": [
          "China",
          "Italy",
          "Iran",
          "South Korea",
          "France",
          "Spain",
          "United States of America"
         ],
         "y": [
          3139,
          464,
          237,
          54,
          30,
          28,
          26
         ]
        },
        {
         "name": "",
         "type": "bar",
         "visible": false,
         "x": [
          "China",
          "Italy",
          "Iran",
          "South Korea",
          "Spain",
          "France",
          "United States of America"
         ],
         "y": [
          3161,
          631,
          291,
          60,
          35,
          33,
          28
         ]
        },
        {
         "name": "",
         "type": "bar",
         "visible": false,
         "x": [
          "China",
          "Italy",
          "Iran",
          "South Korea",
          "France",
          "Spain",
          "United States of America"
         ],
         "y": [
          3172,
          827,
          354,
          66,
          48,
          47,
          30
         ]
        },
        {
         "name": "",
         "type": "bar",
         "visible": false,
         "x": [
          "China",
          "Italy",
          "Iran",
          "Spain",
          "South Korea",
          "France",
          "United States of America"
         ],
         "y": [
          3179,
          1016,
          429,
          84,
          67,
          61,
          40
         ]
        },
        {
         "name": "",
         "type": "bar",
         "visible": false,
         "x": [
          "China",
          "Italy",
          "Iran",
          "Spain",
          "France",
          "South Korea",
          "United States of America",
          "Japan"
         ],
         "y": [
          3194,
          1268,
          514,
          121,
          79,
          72,
          47,
          21
         ]
        },
        {
         "name": "",
         "type": "bar",
         "visible": false,
         "x": [
          "China",
          "Italy",
          "Iran",
          "Spain",
          "France",
          "South Korea",
          "United States of America",
          "Japan",
          "United Kingdom"
         ],
         "y": [
          3203,
          1441,
          611,
          136,
          91,
          75,
          57,
          22,
          21
         ]
        },
        {
         "name": "",
         "type": "bar",
         "visible": false,
         "x": [
          "China",
          "Italy",
          "Iran",
          "Spain",
          "France",
          "South Korea",
          "United States of America",
          "United Kingdom",
          "Japan"
         ],
         "y": [
          3216,
          1811,
          724,
          288,
          127,
          75,
          69,
          35,
          24
         ]
        },
        {
         "name": "",
         "type": "bar",
         "visible": false,
         "x": [
          "China",
          "Italy",
          "Iran",
          "Spain",
          "France",
          "United States of America",
          "South Korea",
          "United Kingdom",
          "Japan",
          "Netherlands"
         ],
         "y": [
          3225,
          2158,
          853,
          309,
          148,
          85,
          81,
          55,
          28,
          24
         ]
        },
        {
         "name": "",
         "type": "bar",
         "visible": false,
         "x": [
          "China",
          "Italy",
          "Iran",
          "Spain",
          "France",
          "United States of America",
          "South Korea",
          "United Kingdom",
          "Netherlands",
          "Japan"
         ],
         "y": [
          3241,
          2505,
          988,
          491,
          175,
          108,
          86,
          60,
          43,
          28
         ]
        },
        {
         "name": "",
         "type": "bar",
         "visible": false,
         "x": [
          "China",
          "Italy",
          "Iran",
          "Spain",
          "France",
          "United States of America",
          "United Kingdom",
          "South Korea",
          "Netherlands",
          "Japan",
          "Switzerland"
         ],
         "y": [
          3249,
          2978,
          1135,
          598,
          244,
          150,
          103,
          91,
          58,
          29,
          21
         ]
        },
        {
         "name": "",
         "type": "bar",
         "visible": false,
         "x": [
          "Italy",
          "China",
          "Iran",
          "Spain",
          "France",
          "United States of America",
          "United Kingdom",
          "South Korea",
          "Netherlands",
          "Germany",
          "Japan",
          "Switzerland",
          "Belgium"
         ],
         "y": [
          3407,
          3253,
          1284,
          767,
          372,
          150,
          144,
          100,
          76,
          43,
          33,
          33,
          21
         ]
        },
        {
         "name": "",
         "type": "bar",
         "visible": false,
         "x": [
          "Italy",
          "China",
          "Iran",
          "Spain",
          "France",
          "United States of America",
          "United Kingdom",
          "Netherlands",
          "South Korea",
          "Germany",
          "Switzerland",
          "Belgium",
          "Japan",
          "Indonesia"
         ],
         "y": [
          4032,
          3259,
          1433,
          1002,
          450,
          260,
          177,
          106,
          103,
          45,
          43,
          37,
          35,
          25
         ]
        },
        {
         "name": "",
         "type": "bar",
         "visible": false,
         "x": [
          "Italy",
          "China",
          "Iran",
          "Spain",
          "France",
          "United States of America",
          "United Kingdom",
          "Netherlands",
          "South Korea",
          "Belgium",
          "Germany",
          "Switzerland",
          "Indonesia",
          "Japan",
          "Philippines",
          "Turkey"
         ],
         "y": [
          4827,
          3265,
          1556,
          1326,
          562,
          340,
          233,
          136,
          104,
          67,
          67,
          56,
          38,
          36,
          25,
          21
         ]
        },
        {
         "name": "",
         "type": "bar",
         "visible": false,
         "x": [
          "Italy",
          "China",
          "Spain",
          "Iran",
          "France",
          "United States of America",
          "United Kingdom",
          "Netherlands",
          "South Korea",
          "Germany",
          "Belgium",
          "Switzerland",
          "Indonesia",
          "Japan",
          "Turkey",
          "Brazil",
          "Philippines",
          "Sweden"
         ],
         "y": [
          5476,
          3274,
          1720,
          1685,
          674,
          471,
          281,
          179,
          113,
          94,
          75,
          60,
          48,
          41,
          30,
          25,
          25,
          21
         ]
        },
        {
         "name": "",
         "type": "bar",
         "visible": false,
         "x": [
          "Italy",
          "China",
          "Spain",
          "Iran",
          "France",
          "United States of America",
          "United Kingdom",
          "Netherlands",
          "Germany",
          "South Korea",
          "Belgium",
          "Switzerland",
          "Indonesia",
          "Japan",
          "Turkey",
          "Brazil",
          "Philippines",
          "Sweden",
          "Austria",
          "Canada",
          "Denmark",
          "Portugal",
          "Iraq"
         ],
         "y": [
          6077,
          3281,
          2182,
          1812,
          860,
          590,
          335,
          213,
          126,
          120,
          88,
          66,
          49,
          42,
          37,
          34,
          33,
          25,
          25,
          24,
          24,
          23,
          23
         ]
        },
        {
         "name": "",
         "type": "bar",
         "visible": false,
         "x": [
          "Italy",
          "China",
          "Spain",
          "Iran",
          "France",
          "United States of America",
          "United Kingdom",
          "Netherlands",
          "Germany",
          "South Korea",
          "Belgium",
          "Switzerland",
          "Indonesia",
          "Brazil",
          "Turkey",
          "Japan",
          "Sweden",
          "Philippines",
          "Portugal",
          "Denmark",
          "Austria",
          "Iraq",
          "Canada",
          "Ecuador",
          "San Marino"
         ],
         "y": [
          6820,
          3285,
          2696,
          1934,
          1100,
          801,
          422,
          276,
          149,
          126,
          122,
          86,
          55,
          46,
          44,
          43,
          36,
          35,
          33,
          32,
          30,
          27,
          27,
          27,
          21
         ]
        },
        {
         "name": "",
         "type": "bar",
         "visible": false,
         "x": [
          "Italy",
          "Spain",
          "China",
          "Iran",
          "France",
          "United States of America",
          "United Kingdom",
          "Netherlands",
          "Germany",
          "Belgium",
          "South Korea",
          "Switzerland",
          "Turkey",
          "Indonesia",
          "Brazil",
          "Japan",
          "Portugal",
          "Sweden",
          "Philippines",
          "Canada",
          "Austria",
          "Denmark",
          "Ecuador",
          "Iraq",
          "Greece",
          "San Marino",
          "Egypt"
         ],
         "y": [
          7505,
          3434,
          3291,
          2077,
          1331,
          1050,
          463,
          356,
          198,
          178,
          131,
          103,
          59,
          58,
          57,
          45,
          43,
          42,
          38,
          35,
          34,
          34,
          29,
          29,
          22,
          21,
          21
         ]
        },
        {
         "name": "",
         "type": "bar",
         "visible": false,
         "x": [
          "Italy",
          "Spain",
          "China",
          "Iran",
          "France",
          "United States of America",
          "United Kingdom",
          "Netherlands",
          "Germany",
          "Belgium",
          "Switzerland",
          "South Korea",
          "Indonesia",
          "Brazil",
          "Turkey",
          "Sweden",
          "Portugal",
          "Austria",
          "Japan",
          "Philippines",
          "Denmark",
          "Canada",
          "Iraq",
          "Ecuador",
          "Greece",
          "Malaysia",
          "San Marino",
          "Egypt",
          "Algeria"
         ],
         "y": [
          8165,
          4089,
          3296,
          2234,
          1696,
          1296,
          578,
          434,
          253,
          220,
          161,
          139,
          78,
          77,
          75,
          66,
          60,
          52,
          46,
          45,
          41,
          39,
          36,
          34,
          26,
          23,
          21,
          21,
          21
         ]
        },
        {
         "name": "",
         "type": "bar",
         "visible": false,
         "x": [
          "Italy",
          "Spain",
          "China",
          "Iran",
          "France",
          "United States of America",
          "United Kingdom",
          "Netherlands",
          "Germany",
          "Belgium",
          "Switzerland",
          "South Korea",
          "Sweden",
          "Brazil",
          "Turkey",
          "Indonesia",
          "Portugal",
          "Austria",
          "Philippines",
          "Canada",
          "Denmark",
          "Japan",
          "Ecuador",
          "Iraq",
          "Greece",
          "Malaysia",
          "Romania",
          "Egypt",
          "Morocco",
          "Ireland",
          "San Marino",
          "Algeria"
         ],
         "y": [
          9136,
          4858,
          3299,
          2378,
          1995,
          1707,
          759,
          546,
          325,
          289,
          197,
          144,
          92,
          92,
          92,
          87,
          76,
          68,
          54,
          53,
          52,
          49,
          41,
          40,
          28,
          26,
          24,
          24,
          23,
          22,
          21,
          21
         ]
        },
        {
         "name": "",
         "type": "bar",
         "visible": false,
         "x": [
          "Italy",
          "Spain",
          "China",
          "Iran",
          "France",
          "United States of America",
          "United Kingdom",
          "Netherlands",
          "Germany",
          "Belgium",
          "Switzerland",
          "South Korea",
          "Brazil",
          "Turkey",
          "Sweden",
          "Indonesia",
          "Portugal",
          "Austria",
          "Philippines",
          "Denmark",
          "Canada",
          "Japan",
          "Ecuador",
          "Iraq",
          "Ireland",
          "Greece",
          "Egypt",
          "Romania",
          "Dominican Republic",
          "Malaysia",
          "Algeria",
          "India",
          "Morocco",
          "San Marino"
         ],
         "y": [
          10023,
          5690,
          3304,
          2517,
          2314,
          2191,
          1019,
          639,
          389,
          353,
          235,
          152,
          114,
          108,
          102,
          102,
          100,
          68,
          68,
          65,
          60,
          52,
          48,
          42,
          36,
          32,
          30,
          29,
          28,
          27,
          26,
          25,
          23,
          22
         ]
        },
        {
         "name": "",
         "type": "bar",
         "visible": false,
         "x": [
          "Italy",
          "Spain",
          "China",
          "Iran",
          "France",
          "United States of America",
          "United Kingdom",
          "Netherlands",
          "Germany",
          "Belgium",
          "Switzerland",
          "South Korea",
          "Brazil",
          "Turkey",
          "Portugal",
          "Indonesia",
          "Sweden",
          "Austria",
          "Denmark",
          "Philippines",
          "Canada",
          "Ecuador",
          "Japan",
          "Ireland",
          "Iraq",
          "Romania",
          "Dominican Republic",
          "Greece",
          "Egypt",
          "Malaysia",
          "India",
          "Algeria",
          "Morocco",
          "Panama",
          "San Marino",
          "Norway",
          "Poland",
          "Luxembourg"
         ],
         "y": [
          10781,
          6528,
          3306,
          2640,
          2606,
          2509,
          1228,
          771,
          455,
          431,
          257,
          158,
          136,
          131,
          119,
          114,
          110,
          86,
          72,
          71,
          61,
          58,
          54,
          46,
          42,
          40,
          39,
          38,
          36,
          34,
          29,
          29,
          26,
          24,
          24,
          22,
          22,
          21
         ]
        },
        {
         "name": "",
         "type": "bar",
         "visible": false,
         "x": [
          "Italy",
          "Spain",
          "China",
          "United States of America",
          "France",
          "Iran",
          "United Kingdom",
          "Netherlands",
          "Germany",
          "Belgium",
          "Switzerland",
          "Turkey",
          "South Korea",
          "Brazil",
          "Sweden",
          "Portugal",
          "Indonesia",
          "Austria",
          "Canada",
          "Philippines",
          "Denmark",
          "Ecuador",
          "Japan",
          "Ireland",
          "Iraq",
          "Romania",
          "Greece",
          "Dominican Republic",
          "Egypt",
          "Malaysia",
          "Morocco",
          "India",
          "Poland",
          "Algeria",
          "Mexico",
          "Panama",
          "Norway",
          "San Marino",
          "Argentina",
          "Peru",
          "Czech Republic",
          "Luxembourg"
         ],
         "y": [
          11591,
          7340,
          3309,
          3170,
          3024,
          2757,
          1408,
          864,
          583,
          513,
          295,
          168,
          163,
          159,
          146,
          140,
          122,
          108,
          89,
          88,
          77,
          62,
          56,
          54,
          46,
          44,
          43,
          42,
          40,
          37,
          33,
          32,
          31,
          31,
          28,
          26,
          26,
          25,
          24,
          24,
          24,
          22
         ]
        },
        {
         "name": "",
         "type": "bar",
         "visible": false,
         "x": [
          "Italy",
          "Spain",
          "United States of America",
          "France",
          "China",
          "Iran",
          "United Kingdom",
          "Netherlands",
          "Germany",
          "Belgium",
          "Switzerland",
          "Turkey",
          "Brazil",
          "Sweden",
          "South Korea",
          "Portugal",
          "Indonesia",
          "Austria",
          "Canada",
          "Denmark",
          "Philippines",
          "Ecuador",
          "Ireland",
          "Romania",
          "Japan",
          "Dominican Republic",
          "Iraq",
          "Greece",
          "Egypt",
          "Malaysia",
          "Morocco",
          "Algeria",
          "India",
          "Poland",
          "Czech Republic",
          "Peru",
          "Panama",
          "Mexico",
          "Norway",
          "San Marino",
          "Pakistan",
          "Argentina",
          "Serbia",
          "Luxembourg"
         ],
         "y": [
          12430,
          8189,
          4079,
          3523,
          3310,
          2898,
          1789,
          1039,
          732,
          705,
          373,
          214,
          201,
          180,
          163,
          160,
          136,
          128,
          96,
          90,
          88,
          79,
          71,
          69,
          56,
          51,
          50,
          49,
          41,
          37,
          36,
          35,
          35,
          33,
          31,
          30,
          30,
          29,
          28,
          26,
          26,
          24,
          23,
          23
         ]
        },
        {
         "name": "",
         "type": "bar",
         "visible": false,
         "x": [
          "Italy",
          "Spain",
          "United States of America",
          "France",
          "China",
          "Iran",
          "United Kingdom",
          "Netherlands",
          "Germany",
          "Belgium",
          "Switzerland",
          "Turkey",
          "Brazil",
          "Sweden",
          "Portugal",
          "South Korea",
          "Indonesia",
          "Austria",
          "Ecuador",
          "Canada",
          "Denmark",
          "Philippines",
          "Romania",
          "Ireland",
          "Algeria",
          "Japan",
          "Dominican Republic",
          "India",
          "Greece",
          "Iraq",
          "Peru",
          "Egypt",
          "Malaysia",
          "Poland",
          "Czech Republic",
          "Morocco",
          "Mexico",
          "Norway",
          "Panama",
          "Pakistan",
          "Argentina",
          "Luxembourg",
          "San Marino",
          "Russia",
          "Serbia",
          "Israel",
          "Australia"
         ],
         "y": [
          13157,
          9053,
          5138,
          4032,
          3316,
          3036,
          2532,
          1173,
          872,
          828,
          378,
          277,
          241,
          239,
          187,
          169,
          157,
          146,
          120,
          109,
          104,
          96,
          85,
          85,
          58,
          57,
          57,
          50,
          50,
          50,
          47,
          46,
          45,
          43,
          39,
          39,
          37,
          32,
          32,
          31,
          31,
          29,
          26,
          24,
          23,
          21,
          21
         ]
        },
        {
         "name": "",
         "type": "bar",
         "visible": false,
         "x": [
          "Italy",
          "Spain",
          "United States of America",
          "France",
          "China",
          "Iran",
          "United Kingdom",
          "Netherlands",
          "Germany",
          "Belgium",
          "Switzerland",
          "Turkey",
          "Brazil",
          "Sweden",
          "Portugal",
          "South Korea",
          "Indonesia",
          "Austria",
          "Canada",
          "Denmark",
          "Ecuador",
          "Philippines",
          "Ireland",
          "Romania",
          "Japan",
          "Dominican Republic",
          "Algeria",
          "Poland",
          "India",
          "Peru",
          "Iraq",
          "Greece",
          "Egypt",
          "Malaysia",
          "Morocco",
          "Czech Republic",
          "Norway",
          "Panama",
          "Mexico",
          "Argentina",
          "Israel",
          "Pakistan",
          "Serbia",
          "San Marino",
          "Russia",
          "Luxembourg",
          "Australia",
          "Hungary",
          "Saudi Arabia"
         ],
         "y": [
          13917,
          10003,
          6053,
          4503,
          3326,
          3160,
          2921,
          1339,
          1017,
          1011,
          536,
          356,
          299,
          282,
          209,
          174,
          170,
          158,
          138,
          123,
          120,
          107,
          98,
          94,
          63,
          60,
          58,
          57,
          56,
          55,
          54,
          53,
          52,
          50,
          44,
          44,
          42,
          37,
          37,
          34,
          34,
          31,
          31,
          30,
          30,
          30,
          23,
          21,
          21
         ]
        },
        {
         "name": "",
         "type": "bar",
         "visible": false,
         "x": [
          "Italy",
          "Spain",
          "United States of America",
          "France",
          "United Kingdom",
          "China",
          "Iran",
          "Netherlands",
          "Germany",
          "Belgium",
          "Switzerland",
          "Turkey",
          "Brazil",
          "Sweden",
          "Portugal",
          "Canada",
          "Indonesia",
          "South Korea",
          "Austria",
          "Ecuador",
          "Denmark",
          "Philippines",
          "Romania",
          "Ireland",
          "Algeria",
          "Poland",
          "Japan",
          "Dominican Republic",
          "India",
          "Peru",
          "Mexico",
          "Greece",
          "Iraq",
          "Czech Republic",
          "Malaysia",
          "Egypt",
          "Morocco",
          "Norway",
          "Panama",
          "Serbia",
          "Israel",
          "Argentina",
          "Russia",
          "San Marino",
          "Hungary",
          "Pakistan",
          "Luxembourg",
          "Australia",
          "Colombia",
          "Ukraine",
          "Chile",
          "Saudi Arabia"
         ],
         "y": [
          14681,
          10935,
          7157,
          6507,
          3605,
          3330,
          3160,
          1487,
          1158,
          1143,
          607,
          425,
          359,
          333,
          246,
          187,
          181,
          177,
          168,
          145,
          139,
          136,
          133,
          120,
          83,
          71,
          69,
          68,
          68,
          61,
          60,
          59,
          54,
          53,
          53,
          52,
          44,
          44,
          41,
          39,
          39,
          37,
          34,
          32,
          32,
          31,
          31,
          30,
          25,
          23,
          22,
          21
         ]
        },
        {
         "name": "",
         "type": "bar",
         "visible": false,
         "x": [
          "Italy",
          "Spain",
          "United States of America",
          "France",
          "United Kingdom",
          "Iran",
          "China",
          "Netherlands",
          "Germany",
          "Belgium",
          "Switzerland",
          "Turkey",
          "Brazil",
          "Sweden",
          "Portugal",
          "Canada",
          "Indonesia",
          "Austria",
          "South Korea",
          "Ecuador",
          "Denmark",
          "Philippines",
          "Romania",
          "Ireland",
          "Algeria",
          "Poland",
          "Mexico",
          "Dominican Republic",
          "India",
          "Peru",
          "Japan",
          "Greece",
          "Egypt",
          "Czech Republic",
          "Morocco",
          "Malaysia",
          "Iraq",
          "Norway",
          "Panama",
          "Israel",
          "Serbia",
          "Russia",
          "Argentina",
          "Pakistan",
          "Hungary",
          "Australia",
          "San Marino",
          "Colombia",
          "Luxembourg",
          "Saudi Arabia",
          "Ukraine",
          "Chile",
          "Finland",
          "Thailand",
          "Slovenia",
          "Honduras",
          "Bosnia and Herzegovina"
         ],
         "y": [
          15362,
          11744,
          8501,
          7560,
          4313,
          3452,
          3333,
          1651,
          1342,
          1283,
          666,
          501,
          432,
          373,
          266,
          231,
          191,
          186,
          183,
          172,
          161,
          144,
          141,
          137,
          130,
          79,
          79,
          77,
          77,
          73,
          70,
          68,
          66,
          59,
          59,
          57,
          56,
          50,
          46,
          46,
          44,
          43,
          43,
          35,
          34,
          34,
          32,
          32,
          31,
          29,
          28,
          27,
          25,
          23,
          22,
          22,
          21
         ]
        },
        {
         "name": "",
         "type": "bar",
         "visible": false,
         "x": [
          "Italy",
          "Spain",
          "United States of America",
          "France",
          "United Kingdom",
          "Iran",
          "China",
          "Belgium",
          "Germany",
          "Switzerland",
          "Turkey",
          "Brazil",
          "Sweden",
          "Portugal",
          "Canada",
          "Austria",
          "Indonesia",
          "South Korea",
          "Ecuador",
          "Denmark",
          "Ireland",
          "Algeria",
          "Philippines",
          "Romania",
          "India",
          "Mexico",
          "Poland",
          "Peru",
          "Dominican Republic",
          "Japan",
          "Greece",
          "Egypt",
          "Morocco",
          "Czech Republic",
          "Malaysia",
          "Iraq",
          "Norway",
          "Panama",
          "Serbia",
          "Pakistan",
          "Israel",
          "Argentina",
          "Russia",
          "Hungary",
          "Luxembourg",
          "Australia",
          "Colombia",
          "Saudi Arabia",
          "Chile",
          "San Marino",
          "Ukraine",
          "Slovenia",
          "Finland",
          "Thailand",
          "Bosnia and Herzegovina",
          "Honduras",
          "Albania"
         ],
         "y": [
          15889,
          12418,
          9647,
          8078,
          4934,
          3603,
          3335,
          1447,
          1434,
          715,
          574,
          486,
          401,
          295,
          280,
          204,
          198,
          186,
          180,
          179,
          158,
          152,
          152,
          148,
          109,
          94,
          94,
          83,
          82,
          73,
          73,
          71,
          70,
          67,
          61,
          61,
          58,
          54,
          51,
          50,
          49,
          46,
          45,
          38,
          36,
          36,
          35,
          34,
          34,
          32,
          32,
          28,
          28,
          26,
          24,
          22,
          21
         ]
        }
       ],
       "frames": [
        {
         "data": [
          {
           "name": "",
           "type": "bar",
           "x": [
            "China"
           ],
           "y": [
            1666
           ]
          }
         ]
        },
        {
         "data": [
          {
           "name": "",
           "type": "bar",
           "x": [
            "China"
           ],
           "y": [
            1771
           ]
          }
         ]
        },
        {
         "data": [
          {
           "name": "",
           "type": "bar",
           "x": [
            "China"
           ],
           "y": [
            1869
           ]
          }
         ]
        },
        {
         "data": [
          {
           "name": "",
           "type": "bar",
           "x": [
            "China"
           ],
           "y": [
            2008
           ]
          }
         ]
        },
        {
         "data": [
          {
           "name": "",
           "type": "bar",
           "x": [
            "China"
           ],
           "y": [
            2120
           ]
          }
         ]
        },
        {
         "data": [
          {
           "name": "",
           "type": "bar",
           "x": [
            "China"
           ],
           "y": [
            2238
           ]
          }
         ]
        },
        {
         "data": [
          {
           "name": "",
           "type": "bar",
           "x": [
            "China"
           ],
           "y": [
            2347
           ]
          }
         ]
        },
        {
         "data": [
          {
           "name": "",
           "type": "bar",
           "x": [
            "China"
           ],
           "y": [
            2445
           ]
          }
         ]
        },
        {
         "data": [
          {
           "name": "",
           "type": "bar",
           "x": [
            "China"
           ],
           "y": [
            2595
           ]
          }
         ]
        },
        {
         "data": [
          {
           "name": "",
           "type": "bar",
           "x": [
            "China"
           ],
           "y": [
            2665
           ]
          }
         ]
        },
        {
         "data": [
          {
           "name": "",
           "type": "bar",
           "x": [
            "China"
           ],
           "y": [
            2717
           ]
          }
         ]
        },
        {
         "data": [
          {
           "name": "",
           "type": "bar",
           "x": [
            "China"
           ],
           "y": [
            2746
           ]
          }
         ]
        },
        {
         "data": [
          {
           "name": "",
           "type": "bar",
           "x": [
            "China",
            "Iran"
           ],
           "y": [
            2790,
            26
           ]
          }
         ]
        },
        {
         "data": [
          {
           "name": "",
           "type": "bar",
           "x": [
            "China",
            "Iran",
            "Italy"
           ],
           "y": [
            2837,
            34,
            21
           ]
          }
         ]
        },
        {
         "data": [
          {
           "name": "",
           "type": "bar",
           "x": [
            "China",
            "Iran",
            "Italy"
           ],
           "y": [
            2872,
            43,
            29
           ]
          }
         ]
        },
        {
         "data": [
          {
           "name": "",
           "type": "bar",
           "x": [
            "China",
            "Iran",
            "Italy",
            "South Korea"
           ],
           "y": [
            2914,
            54,
            35,
            22
           ]
          }
         ]
        },
        {
         "data": [
          {
           "name": "",
           "type": "bar",
           "x": [
            "China",
            "Iran",
            "Italy",
            "South Korea"
           ],
           "y": [
            2946,
            66,
            52,
            28
           ]
          }
         ]
        },
        {
         "data": [
          {
           "name": "",
           "type": "bar",
           "x": [
            "China",
            "Italy",
            "Iran",
            "South Korea"
           ],
           "y": [
            2983,
            80,
            77,
            32
           ]
          }
         ]
        },
        {
         "data": [
          {
           "name": "",
           "type": "bar",
           "x": [
            "China",
            "Italy",
            "Iran",
            "South Korea"
           ],
           "y": [
            3014,
            107,
            92,
            35
           ]
          }
         ]
        },
        {
         "data": [
          {
           "name": "",
           "type": "bar",
           "x": [
            "China",
            "Italy",
            "Iran",
            "South Korea"
           ],
           "y": [
            3044,
            148,
            107,
            42
           ]
          }
         ]
        },
        {
         "data": [
          {
           "name": "",
           "type": "bar",
           "x": [
            "China",
            "Italy",
            "Iran",
            "South Korea"
           ],
           "y": [
            3072,
            197,
            124,
            44
           ]
          }
         ]
        },
        {
         "data": [
          {
           "name": "",
           "type": "bar",
           "x": [
            "China",
            "Italy",
            "Iran",
            "South Korea"
           ],
           "y": [
            3099,
            233,
            145,
            50
           ]
          }
         ]
        },
        {
         "data": [
          {
           "name": "",
           "type": "bar",
           "x": [
            "China",
            "Italy",
            "Iran",
            "South Korea",
            "United States of America"
           ],
           "y": [
            3122,
            366,
            194,
            51,
            21
           ]
          }
         ]
        },
        {
         "data": [
          {
           "name": "",
           "type": "bar",
           "x": [
            "China",
            "Italy",
            "Iran",
            "South Korea",
            "France",
            "Spain",
            "United States of America"
           ],
           "y": [
            3139,
            464,
            237,
            54,
            30,
            28,
            26
           ]
          }
         ]
        },
        {
         "data": [
          {
           "name": "",
           "type": "bar",
           "x": [
            "China",
            "Italy",
            "Iran",
            "South Korea",
            "Spain",
            "France",
            "United States of America"
           ],
           "y": [
            3161,
            631,
            291,
            60,
            35,
            33,
            28
           ]
          }
         ]
        },
        {
         "data": [
          {
           "name": "",
           "type": "bar",
           "x": [
            "China",
            "Italy",
            "Iran",
            "South Korea",
            "France",
            "Spain",
            "United States of America"
           ],
           "y": [
            3172,
            827,
            354,
            66,
            48,
            47,
            30
           ]
          }
         ]
        },
        {
         "data": [
          {
           "name": "",
           "type": "bar",
           "x": [
            "China",
            "Italy",
            "Iran",
            "Spain",
            "South Korea",
            "France",
            "United States of America"
           ],
           "y": [
            3179,
            1016,
            429,
            84,
            67,
            61,
            40
           ]
          }
         ]
        },
        {
         "data": [
          {
           "name": "",
           "type": "bar",
           "x": [
            "China",
            "Italy",
            "Iran",
            "Spain",
            "France",
            "South Korea",
            "United States of America",
            "Japan"
           ],
           "y": [
            3194,
            1268,
            514,
            121,
            79,
            72,
            47,
            21
           ]
          }
         ]
        },
        {
         "data": [
          {
           "name": "",
           "type": "bar",
           "x": [
            "China",
            "Italy",
            "Iran",
            "Spain",
            "France",
            "South Korea",
            "United States of America",
            "Japan",
            "United Kingdom"
           ],
           "y": [
            3203,
            1441,
            611,
            136,
            91,
            75,
            57,
            22,
            21
           ]
          }
         ]
        },
        {
         "data": [
          {
           "name": "",
           "type": "bar",
           "x": [
            "China",
            "Italy",
            "Iran",
            "Spain",
            "France",
            "South Korea",
            "United States of America",
            "United Kingdom",
            "Japan"
           ],
           "y": [
            3216,
            1811,
            724,
            288,
            127,
            75,
            69,
            35,
            24
           ]
          }
         ]
        },
        {
         "data": [
          {
           "name": "",
           "type": "bar",
           "x": [
            "China",
            "Italy",
            "Iran",
            "Spain",
            "France",
            "United States of America",
            "South Korea",
            "United Kingdom",
            "Japan",
            "Netherlands"
           ],
           "y": [
            3225,
            2158,
            853,
            309,
            148,
            85,
            81,
            55,
            28,
            24
           ]
          }
         ]
        },
        {
         "data": [
          {
           "name": "",
           "type": "bar",
           "x": [
            "China",
            "Italy",
            "Iran",
            "Spain",
            "France",
            "United States of America",
            "South Korea",
            "United Kingdom",
            "Netherlands",
            "Japan"
           ],
           "y": [
            3241,
            2505,
            988,
            491,
            175,
            108,
            86,
            60,
            43,
            28
           ]
          }
         ]
        },
        {
         "data": [
          {
           "name": "",
           "type": "bar",
           "x": [
            "China",
            "Italy",
            "Iran",
            "Spain",
            "France",
            "United States of America",
            "United Kingdom",
            "South Korea",
            "Netherlands",
            "Japan",
            "Switzerland"
           ],
           "y": [
            3249,
            2978,
            1135,
            598,
            244,
            150,
            103,
            91,
            58,
            29,
            21
           ]
          }
         ]
        },
        {
         "data": [
          {
           "name": "",
           "type": "bar",
           "x": [
            "Italy",
            "China",
            "Iran",
            "Spain",
            "France",
            "United States of America",
            "United Kingdom",
            "South Korea",
            "Netherlands",
            "Germany",
            "Japan",
            "Switzerland",
            "Belgium"
           ],
           "y": [
            3407,
            3253,
            1284,
            767,
            372,
            150,
            144,
            100,
            76,
            43,
            33,
            33,
            21
           ]
          }
         ]
        },
        {
         "data": [
          {
           "name": "",
           "type": "bar",
           "x": [
            "Italy",
            "China",
            "Iran",
            "Spain",
            "France",
            "United States of America",
            "United Kingdom",
            "Netherlands",
            "South Korea",
            "Germany",
            "Switzerland",
            "Belgium",
            "Japan",
            "Indonesia"
           ],
           "y": [
            4032,
            3259,
            1433,
            1002,
            450,
            260,
            177,
            106,
            103,
            45,
            43,
            37,
            35,
            25
           ]
          }
         ]
        },
        {
         "data": [
          {
           "name": "",
           "type": "bar",
           "x": [
            "Italy",
            "China",
            "Iran",
            "Spain",
            "France",
            "United States of America",
            "United Kingdom",
            "Netherlands",
            "South Korea",
            "Belgium",
            "Germany",
            "Switzerland",
            "Indonesia",
            "Japan",
            "Philippines",
            "Turkey"
           ],
           "y": [
            4827,
            3265,
            1556,
            1326,
            562,
            340,
            233,
            136,
            104,
            67,
            67,
            56,
            38,
            36,
            25,
            21
           ]
          }
         ]
        },
        {
         "data": [
          {
           "name": "",
           "type": "bar",
           "x": [
            "Italy",
            "China",
            "Spain",
            "Iran",
            "France",
            "United States of America",
            "United Kingdom",
            "Netherlands",
            "South Korea",
            "Germany",
            "Belgium",
            "Switzerland",
            "Indonesia",
            "Japan",
            "Turkey",
            "Brazil",
            "Philippines",
            "Sweden"
           ],
           "y": [
            5476,
            3274,
            1720,
            1685,
            674,
            471,
            281,
            179,
            113,
            94,
            75,
            60,
            48,
            41,
            30,
            25,
            25,
            21
           ]
          }
         ]
        },
        {
         "data": [
          {
           "name": "",
           "type": "bar",
           "x": [
            "Italy",
            "China",
            "Spain",
            "Iran",
            "France",
            "United States of America",
            "United Kingdom",
            "Netherlands",
            "Germany",
            "South Korea",
            "Belgium",
            "Switzerland",
            "Indonesia",
            "Japan",
            "Turkey",
            "Brazil",
            "Philippines",
            "Sweden",
            "Austria",
            "Canada",
            "Denmark",
            "Portugal",
            "Iraq"
           ],
           "y": [
            6077,
            3281,
            2182,
            1812,
            860,
            590,
            335,
            213,
            126,
            120,
            88,
            66,
            49,
            42,
            37,
            34,
            33,
            25,
            25,
            24,
            24,
            23,
            23
           ]
          }
         ]
        },
        {
         "data": [
          {
           "name": "",
           "type": "bar",
           "x": [
            "Italy",
            "China",
            "Spain",
            "Iran",
            "France",
            "United States of America",
            "United Kingdom",
            "Netherlands",
            "Germany",
            "South Korea",
            "Belgium",
            "Switzerland",
            "Indonesia",
            "Brazil",
            "Turkey",
            "Japan",
            "Sweden",
            "Philippines",
            "Portugal",
            "Denmark",
            "Austria",
            "Iraq",
            "Canada",
            "Ecuador",
            "San Marino"
           ],
           "y": [
            6820,
            3285,
            2696,
            1934,
            1100,
            801,
            422,
            276,
            149,
            126,
            122,
            86,
            55,
            46,
            44,
            43,
            36,
            35,
            33,
            32,
            30,
            27,
            27,
            27,
            21
           ]
          }
         ]
        },
        {
         "data": [
          {
           "name": "",
           "type": "bar",
           "x": [
            "Italy",
            "Spain",
            "China",
            "Iran",
            "France",
            "United States of America",
            "United Kingdom",
            "Netherlands",
            "Germany",
            "Belgium",
            "South Korea",
            "Switzerland",
            "Turkey",
            "Indonesia",
            "Brazil",
            "Japan",
            "Portugal",
            "Sweden",
            "Philippines",
            "Canada",
            "Austria",
            "Denmark",
            "Ecuador",
            "Iraq",
            "Greece",
            "San Marino",
            "Egypt"
           ],
           "y": [
            7505,
            3434,
            3291,
            2077,
            1331,
            1050,
            463,
            356,
            198,
            178,
            131,
            103,
            59,
            58,
            57,
            45,
            43,
            42,
            38,
            35,
            34,
            34,
            29,
            29,
            22,
            21,
            21
           ]
          }
         ]
        },
        {
         "data": [
          {
           "name": "",
           "type": "bar",
           "x": [
            "Italy",
            "Spain",
            "China",
            "Iran",
            "France",
            "United States of America",
            "United Kingdom",
            "Netherlands",
            "Germany",
            "Belgium",
            "Switzerland",
            "South Korea",
            "Indonesia",
            "Brazil",
            "Turkey",
            "Sweden",
            "Portugal",
            "Austria",
            "Japan",
            "Philippines",
            "Denmark",
            "Canada",
            "Iraq",
            "Ecuador",
            "Greece",
            "Malaysia",
            "San Marino",
            "Egypt",
            "Algeria"
           ],
           "y": [
            8165,
            4089,
            3296,
            2234,
            1696,
            1296,
            578,
            434,
            253,
            220,
            161,
            139,
            78,
            77,
            75,
            66,
            60,
            52,
            46,
            45,
            41,
            39,
            36,
            34,
            26,
            23,
            21,
            21,
            21
           ]
          }
         ]
        },
        {
         "data": [
          {
           "name": "",
           "type": "bar",
           "x": [
            "Italy",
            "Spain",
            "China",
            "Iran",
            "France",
            "United States of America",
            "United Kingdom",
            "Netherlands",
            "Germany",
            "Belgium",
            "Switzerland",
            "South Korea",
            "Sweden",
            "Brazil",
            "Turkey",
            "Indonesia",
            "Portugal",
            "Austria",
            "Philippines",
            "Canada",
            "Denmark",
            "Japan",
            "Ecuador",
            "Iraq",
            "Greece",
            "Malaysia",
            "Romania",
            "Egypt",
            "Morocco",
            "Ireland",
            "San Marino",
            "Algeria"
           ],
           "y": [
            9136,
            4858,
            3299,
            2378,
            1995,
            1707,
            759,
            546,
            325,
            289,
            197,
            144,
            92,
            92,
            92,
            87,
            76,
            68,
            54,
            53,
            52,
            49,
            41,
            40,
            28,
            26,
            24,
            24,
            23,
            22,
            21,
            21
           ]
          }
         ]
        },
        {
         "data": [
          {
           "name": "",
           "type": "bar",
           "x": [
            "Italy",
            "Spain",
            "China",
            "Iran",
            "France",
            "United States of America",
            "United Kingdom",
            "Netherlands",
            "Germany",
            "Belgium",
            "Switzerland",
            "South Korea",
            "Brazil",
            "Turkey",
            "Sweden",
            "Indonesia",
            "Portugal",
            "Austria",
            "Philippines",
            "Denmark",
            "Canada",
            "Japan",
            "Ecuador",
            "Iraq",
            "Ireland",
            "Greece",
            "Egypt",
            "Romania",
            "Dominican Republic",
            "Malaysia",
            "Algeria",
            "India",
            "Morocco",
            "San Marino"
           ],
           "y": [
            10023,
            5690,
            3304,
            2517,
            2314,
            2191,
            1019,
            639,
            389,
            353,
            235,
            152,
            114,
            108,
            102,
            102,
            100,
            68,
            68,
            65,
            60,
            52,
            48,
            42,
            36,
            32,
            30,
            29,
            28,
            27,
            26,
            25,
            23,
            22
           ]
          }
         ]
        },
        {
         "data": [
          {
           "name": "",
           "type": "bar",
           "x": [
            "Italy",
            "Spain",
            "China",
            "Iran",
            "France",
            "United States of America",
            "United Kingdom",
            "Netherlands",
            "Germany",
            "Belgium",
            "Switzerland",
            "South Korea",
            "Brazil",
            "Turkey",
            "Portugal",
            "Indonesia",
            "Sweden",
            "Austria",
            "Denmark",
            "Philippines",
            "Canada",
            "Ecuador",
            "Japan",
            "Ireland",
            "Iraq",
            "Romania",
            "Dominican Republic",
            "Greece",
            "Egypt",
            "Malaysia",
            "India",
            "Algeria",
            "Morocco",
            "Panama",
            "San Marino",
            "Norway",
            "Poland",
            "Luxembourg"
           ],
           "y": [
            10781,
            6528,
            3306,
            2640,
            2606,
            2509,
            1228,
            771,
            455,
            431,
            257,
            158,
            136,
            131,
            119,
            114,
            110,
            86,
            72,
            71,
            61,
            58,
            54,
            46,
            42,
            40,
            39,
            38,
            36,
            34,
            29,
            29,
            26,
            24,
            24,
            22,
            22,
            21
           ]
          }
         ]
        },
        {
         "data": [
          {
           "name": "",
           "type": "bar",
           "x": [
            "Italy",
            "Spain",
            "China",
            "United States of America",
            "France",
            "Iran",
            "United Kingdom",
            "Netherlands",
            "Germany",
            "Belgium",
            "Switzerland",
            "Turkey",
            "South Korea",
            "Brazil",
            "Sweden",
            "Portugal",
            "Indonesia",
            "Austria",
            "Canada",
            "Philippines",
            "Denmark",
            "Ecuador",
            "Japan",
            "Ireland",
            "Iraq",
            "Romania",
            "Greece",
            "Dominican Republic",
            "Egypt",
            "Malaysia",
            "Morocco",
            "India",
            "Poland",
            "Algeria",
            "Mexico",
            "Panama",
            "Norway",
            "San Marino",
            "Argentina",
            "Peru",
            "Czech Republic",
            "Luxembourg"
           ],
           "y": [
            11591,
            7340,
            3309,
            3170,
            3024,
            2757,
            1408,
            864,
            583,
            513,
            295,
            168,
            163,
            159,
            146,
            140,
            122,
            108,
            89,
            88,
            77,
            62,
            56,
            54,
            46,
            44,
            43,
            42,
            40,
            37,
            33,
            32,
            31,
            31,
            28,
            26,
            26,
            25,
            24,
            24,
            24,
            22
           ]
          }
         ]
        },
        {
         "data": [
          {
           "name": "",
           "type": "bar",
           "x": [
            "Italy",
            "Spain",
            "United States of America",
            "France",
            "China",
            "Iran",
            "United Kingdom",
            "Netherlands",
            "Germany",
            "Belgium",
            "Switzerland",
            "Turkey",
            "Brazil",
            "Sweden",
            "South Korea",
            "Portugal",
            "Indonesia",
            "Austria",
            "Canada",
            "Denmark",
            "Philippines",
            "Ecuador",
            "Ireland",
            "Romania",
            "Japan",
            "Dominican Republic",
            "Iraq",
            "Greece",
            "Egypt",
            "Malaysia",
            "Morocco",
            "Algeria",
            "India",
            "Poland",
            "Czech Republic",
            "Peru",
            "Panama",
            "Mexico",
            "Norway",
            "San Marino",
            "Pakistan",
            "Argentina",
            "Serbia",
            "Luxembourg"
           ],
           "y": [
            12430,
            8189,
            4079,
            3523,
            3310,
            2898,
            1789,
            1039,
            732,
            705,
            373,
            214,
            201,
            180,
            163,
            160,
            136,
            128,
            96,
            90,
            88,
            79,
            71,
            69,
            56,
            51,
            50,
            49,
            41,
            37,
            36,
            35,
            35,
            33,
            31,
            30,
            30,
            29,
            28,
            26,
            26,
            24,
            23,
            23
           ]
          }
         ]
        },
        {
         "data": [
          {
           "name": "",
           "type": "bar",
           "x": [
            "Italy",
            "Spain",
            "United States of America",
            "France",
            "China",
            "Iran",
            "United Kingdom",
            "Netherlands",
            "Germany",
            "Belgium",
            "Switzerland",
            "Turkey",
            "Brazil",
            "Sweden",
            "Portugal",
            "South Korea",
            "Indonesia",
            "Austria",
            "Ecuador",
            "Canada",
            "Denmark",
            "Philippines",
            "Romania",
            "Ireland",
            "Algeria",
            "Japan",
            "Dominican Republic",
            "India",
            "Greece",
            "Iraq",
            "Peru",
            "Egypt",
            "Malaysia",
            "Poland",
            "Czech Republic",
            "Morocco",
            "Mexico",
            "Norway",
            "Panama",
            "Pakistan",
            "Argentina",
            "Luxembourg",
            "San Marino",
            "Russia",
            "Serbia",
            "Israel",
            "Australia"
           ],
           "y": [
            13157,
            9053,
            5138,
            4032,
            3316,
            3036,
            2532,
            1173,
            872,
            828,
            378,
            277,
            241,
            239,
            187,
            169,
            157,
            146,
            120,
            109,
            104,
            96,
            85,
            85,
            58,
            57,
            57,
            50,
            50,
            50,
            47,
            46,
            45,
            43,
            39,
            39,
            37,
            32,
            32,
            31,
            31,
            29,
            26,
            24,
            23,
            21,
            21
           ]
          }
         ]
        },
        {
         "data": [
          {
           "name": "",
           "type": "bar",
           "x": [
            "Italy",
            "Spain",
            "United States of America",
            "France",
            "China",
            "Iran",
            "United Kingdom",
            "Netherlands",
            "Germany",
            "Belgium",
            "Switzerland",
            "Turkey",
            "Brazil",
            "Sweden",
            "Portugal",
            "South Korea",
            "Indonesia",
            "Austria",
            "Canada",
            "Denmark",
            "Ecuador",
            "Philippines",
            "Ireland",
            "Romania",
            "Japan",
            "Dominican Republic",
            "Algeria",
            "Poland",
            "India",
            "Peru",
            "Iraq",
            "Greece",
            "Egypt",
            "Malaysia",
            "Morocco",
            "Czech Republic",
            "Norway",
            "Panama",
            "Mexico",
            "Argentina",
            "Israel",
            "Pakistan",
            "Serbia",
            "San Marino",
            "Russia",
            "Luxembourg",
            "Australia",
            "Hungary",
            "Saudi Arabia"
           ],
           "y": [
            13917,
            10003,
            6053,
            4503,
            3326,
            3160,
            2921,
            1339,
            1017,
            1011,
            536,
            356,
            299,
            282,
            209,
            174,
            170,
            158,
            138,
            123,
            120,
            107,
            98,
            94,
            63,
            60,
            58,
            57,
            56,
            55,
            54,
            53,
            52,
            50,
            44,
            44,
            42,
            37,
            37,
            34,
            34,
            31,
            31,
            30,
            30,
            30,
            23,
            21,
            21
           ]
          }
         ]
        },
        {
         "data": [
          {
           "name": "",
           "type": "bar",
           "x": [
            "Italy",
            "Spain",
            "United States of America",
            "France",
            "United Kingdom",
            "China",
            "Iran",
            "Netherlands",
            "Germany",
            "Belgium",
            "Switzerland",
            "Turkey",
            "Brazil",
            "Sweden",
            "Portugal",
            "Canada",
            "Indonesia",
            "South Korea",
            "Austria",
            "Ecuador",
            "Denmark",
            "Philippines",
            "Romania",
            "Ireland",
            "Algeria",
            "Poland",
            "Japan",
            "Dominican Republic",
            "India",
            "Peru",
            "Mexico",
            "Greece",
            "Iraq",
            "Czech Republic",
            "Malaysia",
            "Egypt",
            "Morocco",
            "Norway",
            "Panama",
            "Serbia",
            "Israel",
            "Argentina",
            "Russia",
            "San Marino",
            "Hungary",
            "Pakistan",
            "Luxembourg",
            "Australia",
            "Colombia",
            "Ukraine",
            "Chile",
            "Saudi Arabia"
           ],
           "y": [
            14681,
            10935,
            7157,
            6507,
            3605,
            3330,
            3160,
            1487,
            1158,
            1143,
            607,
            425,
            359,
            333,
            246,
            187,
            181,
            177,
            168,
            145,
            139,
            136,
            133,
            120,
            83,
            71,
            69,
            68,
            68,
            61,
            60,
            59,
            54,
            53,
            53,
            52,
            44,
            44,
            41,
            39,
            39,
            37,
            34,
            32,
            32,
            31,
            31,
            30,
            25,
            23,
            22,
            21
           ]
          }
         ]
        },
        {
         "data": [
          {
           "name": "",
           "type": "bar",
           "x": [
            "Italy",
            "Spain",
            "United States of America",
            "France",
            "United Kingdom",
            "Iran",
            "China",
            "Netherlands",
            "Germany",
            "Belgium",
            "Switzerland",
            "Turkey",
            "Brazil",
            "Sweden",
            "Portugal",
            "Canada",
            "Indonesia",
            "Austria",
            "South Korea",
            "Ecuador",
            "Denmark",
            "Philippines",
            "Romania",
            "Ireland",
            "Algeria",
            "Poland",
            "Mexico",
            "Dominican Republic",
            "India",
            "Peru",
            "Japan",
            "Greece",
            "Egypt",
            "Czech Republic",
            "Morocco",
            "Malaysia",
            "Iraq",
            "Norway",
            "Panama",
            "Israel",
            "Serbia",
            "Russia",
            "Argentina",
            "Pakistan",
            "Hungary",
            "Australia",
            "San Marino",
            "Colombia",
            "Luxembourg",
            "Saudi Arabia",
            "Ukraine",
            "Chile",
            "Finland",
            "Thailand",
            "Slovenia",
            "Honduras",
            "Bosnia and Herzegovina"
           ],
           "y": [
            15362,
            11744,
            8501,
            7560,
            4313,
            3452,
            3333,
            1651,
            1342,
            1283,
            666,
            501,
            432,
            373,
            266,
            231,
            191,
            186,
            183,
            172,
            161,
            144,
            141,
            137,
            130,
            79,
            79,
            77,
            77,
            73,
            70,
            68,
            66,
            59,
            59,
            57,
            56,
            50,
            46,
            46,
            44,
            43,
            43,
            35,
            34,
            34,
            32,
            32,
            31,
            29,
            28,
            27,
            25,
            23,
            22,
            22,
            21
           ]
          }
         ]
        },
        {
         "data": [
          {
           "name": "",
           "type": "bar",
           "x": [
            "Italy",
            "Spain",
            "United States of America",
            "France",
            "United Kingdom",
            "Iran",
            "China",
            "Belgium",
            "Germany",
            "Switzerland",
            "Turkey",
            "Brazil",
            "Sweden",
            "Portugal",
            "Canada",
            "Austria",
            "Indonesia",
            "South Korea",
            "Ecuador",
            "Denmark",
            "Ireland",
            "Algeria",
            "Philippines",
            "Romania",
            "India",
            "Mexico",
            "Poland",
            "Peru",
            "Dominican Republic",
            "Japan",
            "Greece",
            "Egypt",
            "Morocco",
            "Czech Republic",
            "Malaysia",
            "Iraq",
            "Norway",
            "Panama",
            "Serbia",
            "Pakistan",
            "Israel",
            "Argentina",
            "Russia",
            "Hungary",
            "Luxembourg",
            "Australia",
            "Colombia",
            "Saudi Arabia",
            "Chile",
            "San Marino",
            "Ukraine",
            "Slovenia",
            "Finland",
            "Thailand",
            "Bosnia and Herzegovina",
            "Honduras",
            "Albania"
           ],
           "y": [
            15889,
            12418,
            9647,
            8078,
            4934,
            3603,
            3335,
            1447,
            1434,
            715,
            574,
            486,
            401,
            295,
            280,
            204,
            198,
            186,
            180,
            179,
            158,
            152,
            152,
            148,
            109,
            94,
            94,
            83,
            82,
            73,
            73,
            71,
            70,
            67,
            61,
            61,
            58,
            54,
            51,
            50,
            49,
            46,
            45,
            38,
            36,
            36,
            35,
            34,
            34,
            32,
            32,
            28,
            28,
            26,
            24,
            22,
            21
           ]
          }
         ]
        }
       ],
       "layout": {
        "autosize": true,
        "sliders": [
         {
          "active": 0,
          "currentvalue": {
           "prefix": "Date: "
          },
          "pad": {
           "t": 50
          },
          "steps": [
           {
            "args": [
             "visible",
             [
              true,
              false,
              false,
              false,
              false,
              false,
              false,
              false,
              false,
              false,
              false,
              false,
              false,
              false,
              false,
              false,
              false,
              false,
              false,
              false,
              false,
              false,
              false,
              false,
              false,
              false,
              false,
              false,
              false,
              false,
              false,
              false,
              false,
              false,
              false,
              false,
              false,
              false,
              false,
              false,
              false,
              false,
              false,
              false,
              false,
              false,
              false,
              false,
              false,
              false,
              false
             ]
            ],
            "label": "16 Feb",
            "method": "restyle"
           },
           {
            "args": [
             "visible",
             [
              false,
              true,
              false,
              false,
              false,
              false,
              false,
              false,
              false,
              false,
              false,
              false,
              false,
              false,
              false,
              false,
              false,
              false,
              false,
              false,
              false,
              false,
              false,
              false,
              false,
              false,
              false,
              false,
              false,
              false,
              false,
              false,
              false,
              false,
              false,
              false,
              false,
              false,
              false,
              false,
              false,
              false,
              false,
              false,
              false,
              false,
              false,
              false,
              false,
              false,
              false
             ]
            ],
            "label": "17 Feb",
            "method": "restyle"
           },
           {
            "args": [
             "visible",
             [
              false,
              false,
              true,
              false,
              false,
              false,
              false,
              false,
              false,
              false,
              false,
              false,
              false,
              false,
              false,
              false,
              false,
              false,
              false,
              false,
              false,
              false,
              false,
              false,
              false,
              false,
              false,
              false,
              false,
              false,
              false,
              false,
              false,
              false,
              false,
              false,
              false,
              false,
              false,
              false,
              false,
              false,
              false,
              false,
              false,
              false,
              false,
              false,
              false,
              false,
              false
             ]
            ],
            "label": "18 Feb",
            "method": "restyle"
           },
           {
            "args": [
             "visible",
             [
              false,
              false,
              false,
              true,
              false,
              false,
              false,
              false,
              false,
              false,
              false,
              false,
              false,
              false,
              false,
              false,
              false,
              false,
              false,
              false,
              false,
              false,
              false,
              false,
              false,
              false,
              false,
              false,
              false,
              false,
              false,
              false,
              false,
              false,
              false,
              false,
              false,
              false,
              false,
              false,
              false,
              false,
              false,
              false,
              false,
              false,
              false,
              false,
              false,
              false,
              false
             ]
            ],
            "label": "19 Feb",
            "method": "restyle"
           },
           {
            "args": [
             "visible",
             [
              false,
              false,
              false,
              false,
              true,
              false,
              false,
              false,
              false,
              false,
              false,
              false,
              false,
              false,
              false,
              false,
              false,
              false,
              false,
              false,
              false,
              false,
              false,
              false,
              false,
              false,
              false,
              false,
              false,
              false,
              false,
              false,
              false,
              false,
              false,
              false,
              false,
              false,
              false,
              false,
              false,
              false,
              false,
              false,
              false,
              false,
              false,
              false,
              false,
              false,
              false
             ]
            ],
            "label": "20 Feb",
            "method": "restyle"
           },
           {
            "args": [
             "visible",
             [
              false,
              false,
              false,
              false,
              false,
              true,
              false,
              false,
              false,
              false,
              false,
              false,
              false,
              false,
              false,
              false,
              false,
              false,
              false,
              false,
              false,
              false,
              false,
              false,
              false,
              false,
              false,
              false,
              false,
              false,
              false,
              false,
              false,
              false,
              false,
              false,
              false,
              false,
              false,
              false,
              false,
              false,
              false,
              false,
              false,
              false,
              false,
              false,
              false,
              false,
              false
             ]
            ],
            "label": "21 Feb",
            "method": "restyle"
           },
           {
            "args": [
             "visible",
             [
              false,
              false,
              false,
              false,
              false,
              false,
              true,
              false,
              false,
              false,
              false,
              false,
              false,
              false,
              false,
              false,
              false,
              false,
              false,
              false,
              false,
              false,
              false,
              false,
              false,
              false,
              false,
              false,
              false,
              false,
              false,
              false,
              false,
              false,
              false,
              false,
              false,
              false,
              false,
              false,
              false,
              false,
              false,
              false,
              false,
              false,
              false,
              false,
              false,
              false,
              false
             ]
            ],
            "label": "22 Feb",
            "method": "restyle"
           },
           {
            "args": [
             "visible",
             [
              false,
              false,
              false,
              false,
              false,
              false,
              false,
              true,
              false,
              false,
              false,
              false,
              false,
              false,
              false,
              false,
              false,
              false,
              false,
              false,
              false,
              false,
              false,
              false,
              false,
              false,
              false,
              false,
              false,
              false,
              false,
              false,
              false,
              false,
              false,
              false,
              false,
              false,
              false,
              false,
              false,
              false,
              false,
              false,
              false,
              false,
              false,
              false,
              false,
              false,
              false
             ]
            ],
            "label": "23 Feb",
            "method": "restyle"
           },
           {
            "args": [
             "visible",
             [
              false,
              false,
              false,
              false,
              false,
              false,
              false,
              false,
              true,
              false,
              false,
              false,
              false,
              false,
              false,
              false,
              false,
              false,
              false,
              false,
              false,
              false,
              false,
              false,
              false,
              false,
              false,
              false,
              false,
              false,
              false,
              false,
              false,
              false,
              false,
              false,
              false,
              false,
              false,
              false,
              false,
              false,
              false,
              false,
              false,
              false,
              false,
              false,
              false,
              false,
              false
             ]
            ],
            "label": "24 Feb",
            "method": "restyle"
           },
           {
            "args": [
             "visible",
             [
              false,
              false,
              false,
              false,
              false,
              false,
              false,
              false,
              false,
              true,
              false,
              false,
              false,
              false,
              false,
              false,
              false,
              false,
              false,
              false,
              false,
              false,
              false,
              false,
              false,
              false,
              false,
              false,
              false,
              false,
              false,
              false,
              false,
              false,
              false,
              false,
              false,
              false,
              false,
              false,
              false,
              false,
              false,
              false,
              false,
              false,
              false,
              false,
              false,
              false,
              false
             ]
            ],
            "label": "25 Feb",
            "method": "restyle"
           },
           {
            "args": [
             "visible",
             [
              false,
              false,
              false,
              false,
              false,
              false,
              false,
              false,
              false,
              false,
              true,
              false,
              false,
              false,
              false,
              false,
              false,
              false,
              false,
              false,
              false,
              false,
              false,
              false,
              false,
              false,
              false,
              false,
              false,
              false,
              false,
              false,
              false,
              false,
              false,
              false,
              false,
              false,
              false,
              false,
              false,
              false,
              false,
              false,
              false,
              false,
              false,
              false,
              false,
              false,
              false
             ]
            ],
            "label": "26 Feb",
            "method": "restyle"
           },
           {
            "args": [
             "visible",
             [
              false,
              false,
              false,
              false,
              false,
              false,
              false,
              false,
              false,
              false,
              false,
              true,
              false,
              false,
              false,
              false,
              false,
              false,
              false,
              false,
              false,
              false,
              false,
              false,
              false,
              false,
              false,
              false,
              false,
              false,
              false,
              false,
              false,
              false,
              false,
              false,
              false,
              false,
              false,
              false,
              false,
              false,
              false,
              false,
              false,
              false,
              false,
              false,
              false,
              false,
              false
             ]
            ],
            "label": "27 Feb",
            "method": "restyle"
           },
           {
            "args": [
             "visible",
             [
              false,
              false,
              false,
              false,
              false,
              false,
              false,
              false,
              false,
              false,
              false,
              false,
              true,
              false,
              false,
              false,
              false,
              false,
              false,
              false,
              false,
              false,
              false,
              false,
              false,
              false,
              false,
              false,
              false,
              false,
              false,
              false,
              false,
              false,
              false,
              false,
              false,
              false,
              false,
              false,
              false,
              false,
              false,
              false,
              false,
              false,
              false,
              false,
              false,
              false,
              false
             ]
            ],
            "label": "28 Feb",
            "method": "restyle"
           },
           {
            "args": [
             "visible",
             [
              false,
              false,
              false,
              false,
              false,
              false,
              false,
              false,
              false,
              false,
              false,
              false,
              false,
              true,
              false,
              false,
              false,
              false,
              false,
              false,
              false,
              false,
              false,
              false,
              false,
              false,
              false,
              false,
              false,
              false,
              false,
              false,
              false,
              false,
              false,
              false,
              false,
              false,
              false,
              false,
              false,
              false,
              false,
              false,
              false,
              false,
              false,
              false,
              false,
              false,
              false
             ]
            ],
            "label": "29 Feb",
            "method": "restyle"
           },
           {
            "args": [
             "visible",
             [
              false,
              false,
              false,
              false,
              false,
              false,
              false,
              false,
              false,
              false,
              false,
              false,
              false,
              false,
              true,
              false,
              false,
              false,
              false,
              false,
              false,
              false,
              false,
              false,
              false,
              false,
              false,
              false,
              false,
              false,
              false,
              false,
              false,
              false,
              false,
              false,
              false,
              false,
              false,
              false,
              false,
              false,
              false,
              false,
              false,
              false,
              false,
              false,
              false,
              false,
              false
             ]
            ],
            "label": "01 Mar",
            "method": "restyle"
           },
           {
            "args": [
             "visible",
             [
              false,
              false,
              false,
              false,
              false,
              false,
              false,
              false,
              false,
              false,
              false,
              false,
              false,
              false,
              false,
              true,
              false,
              false,
              false,
              false,
              false,
              false,
              false,
              false,
              false,
              false,
              false,
              false,
              false,
              false,
              false,
              false,
              false,
              false,
              false,
              false,
              false,
              false,
              false,
              false,
              false,
              false,
              false,
              false,
              false,
              false,
              false,
              false,
              false,
              false,
              false
             ]
            ],
            "label": "02 Mar",
            "method": "restyle"
           },
           {
            "args": [
             "visible",
             [
              false,
              false,
              false,
              false,
              false,
              false,
              false,
              false,
              false,
              false,
              false,
              false,
              false,
              false,
              false,
              false,
              true,
              false,
              false,
              false,
              false,
              false,
              false,
              false,
              false,
              false,
              false,
              false,
              false,
              false,
              false,
              false,
              false,
              false,
              false,
              false,
              false,
              false,
              false,
              false,
              false,
              false,
              false,
              false,
              false,
              false,
              false,
              false,
              false,
              false,
              false
             ]
            ],
            "label": "03 Mar",
            "method": "restyle"
           },
           {
            "args": [
             "visible",
             [
              false,
              false,
              false,
              false,
              false,
              false,
              false,
              false,
              false,
              false,
              false,
              false,
              false,
              false,
              false,
              false,
              false,
              true,
              false,
              false,
              false,
              false,
              false,
              false,
              false,
              false,
              false,
              false,
              false,
              false,
              false,
              false,
              false,
              false,
              false,
              false,
              false,
              false,
              false,
              false,
              false,
              false,
              false,
              false,
              false,
              false,
              false,
              false,
              false,
              false,
              false
             ]
            ],
            "label": "04 Mar",
            "method": "restyle"
           },
           {
            "args": [
             "visible",
             [
              false,
              false,
              false,
              false,
              false,
              false,
              false,
              false,
              false,
              false,
              false,
              false,
              false,
              false,
              false,
              false,
              false,
              false,
              true,
              false,
              false,
              false,
              false,
              false,
              false,
              false,
              false,
              false,
              false,
              false,
              false,
              false,
              false,
              false,
              false,
              false,
              false,
              false,
              false,
              false,
              false,
              false,
              false,
              false,
              false,
              false,
              false,
              false,
              false,
              false,
              false
             ]
            ],
            "label": "05 Mar",
            "method": "restyle"
           },
           {
            "args": [
             "visible",
             [
              false,
              false,
              false,
              false,
              false,
              false,
              false,
              false,
              false,
              false,
              false,
              false,
              false,
              false,
              false,
              false,
              false,
              false,
              false,
              true,
              false,
              false,
              false,
              false,
              false,
              false,
              false,
              false,
              false,
              false,
              false,
              false,
              false,
              false,
              false,
              false,
              false,
              false,
              false,
              false,
              false,
              false,
              false,
              false,
              false,
              false,
              false,
              false,
              false,
              false,
              false
             ]
            ],
            "label": "06 Mar",
            "method": "restyle"
           },
           {
            "args": [
             "visible",
             [
              false,
              false,
              false,
              false,
              false,
              false,
              false,
              false,
              false,
              false,
              false,
              false,
              false,
              false,
              false,
              false,
              false,
              false,
              false,
              false,
              true,
              false,
              false,
              false,
              false,
              false,
              false,
              false,
              false,
              false,
              false,
              false,
              false,
              false,
              false,
              false,
              false,
              false,
              false,
              false,
              false,
              false,
              false,
              false,
              false,
              false,
              false,
              false,
              false,
              false,
              false
             ]
            ],
            "label": "07 Mar",
            "method": "restyle"
           },
           {
            "args": [
             "visible",
             [
              false,
              false,
              false,
              false,
              false,
              false,
              false,
              false,
              false,
              false,
              false,
              false,
              false,
              false,
              false,
              false,
              false,
              false,
              false,
              false,
              false,
              true,
              false,
              false,
              false,
              false,
              false,
              false,
              false,
              false,
              false,
              false,
              false,
              false,
              false,
              false,
              false,
              false,
              false,
              false,
              false,
              false,
              false,
              false,
              false,
              false,
              false,
              false,
              false,
              false,
              false
             ]
            ],
            "label": "08 Mar",
            "method": "restyle"
           },
           {
            "args": [
             "visible",
             [
              false,
              false,
              false,
              false,
              false,
              false,
              false,
              false,
              false,
              false,
              false,
              false,
              false,
              false,
              false,
              false,
              false,
              false,
              false,
              false,
              false,
              false,
              true,
              false,
              false,
              false,
              false,
              false,
              false,
              false,
              false,
              false,
              false,
              false,
              false,
              false,
              false,
              false,
              false,
              false,
              false,
              false,
              false,
              false,
              false,
              false,
              false,
              false,
              false,
              false,
              false
             ]
            ],
            "label": "09 Mar",
            "method": "restyle"
           },
           {
            "args": [
             "visible",
             [
              false,
              false,
              false,
              false,
              false,
              false,
              false,
              false,
              false,
              false,
              false,
              false,
              false,
              false,
              false,
              false,
              false,
              false,
              false,
              false,
              false,
              false,
              false,
              true,
              false,
              false,
              false,
              false,
              false,
              false,
              false,
              false,
              false,
              false,
              false,
              false,
              false,
              false,
              false,
              false,
              false,
              false,
              false,
              false,
              false,
              false,
              false,
              false,
              false,
              false,
              false
             ]
            ],
            "label": "10 Mar",
            "method": "restyle"
           },
           {
            "args": [
             "visible",
             [
              false,
              false,
              false,
              false,
              false,
              false,
              false,
              false,
              false,
              false,
              false,
              false,
              false,
              false,
              false,
              false,
              false,
              false,
              false,
              false,
              false,
              false,
              false,
              false,
              true,
              false,
              false,
              false,
              false,
              false,
              false,
              false,
              false,
              false,
              false,
              false,
              false,
              false,
              false,
              false,
              false,
              false,
              false,
              false,
              false,
              false,
              false,
              false,
              false,
              false,
              false
             ]
            ],
            "label": "11 Mar",
            "method": "restyle"
           },
           {
            "args": [
             "visible",
             [
              false,
              false,
              false,
              false,
              false,
              false,
              false,
              false,
              false,
              false,
              false,
              false,
              false,
              false,
              false,
              false,
              false,
              false,
              false,
              false,
              false,
              false,
              false,
              false,
              false,
              true,
              false,
              false,
              false,
              false,
              false,
              false,
              false,
              false,
              false,
              false,
              false,
              false,
              false,
              false,
              false,
              false,
              false,
              false,
              false,
              false,
              false,
              false,
              false,
              false,
              false
             ]
            ],
            "label": "12 Mar",
            "method": "restyle"
           },
           {
            "args": [
             "visible",
             [
              false,
              false,
              false,
              false,
              false,
              false,
              false,
              false,
              false,
              false,
              false,
              false,
              false,
              false,
              false,
              false,
              false,
              false,
              false,
              false,
              false,
              false,
              false,
              false,
              false,
              false,
              true,
              false,
              false,
              false,
              false,
              false,
              false,
              false,
              false,
              false,
              false,
              false,
              false,
              false,
              false,
              false,
              false,
              false,
              false,
              false,
              false,
              false,
              false,
              false,
              false
             ]
            ],
            "label": "13 Mar",
            "method": "restyle"
           },
           {
            "args": [
             "visible",
             [
              false,
              false,
              false,
              false,
              false,
              false,
              false,
              false,
              false,
              false,
              false,
              false,
              false,
              false,
              false,
              false,
              false,
              false,
              false,
              false,
              false,
              false,
              false,
              false,
              false,
              false,
              false,
              true,
              false,
              false,
              false,
              false,
              false,
              false,
              false,
              false,
              false,
              false,
              false,
              false,
              false,
              false,
              false,
              false,
              false,
              false,
              false,
              false,
              false,
              false,
              false
             ]
            ],
            "label": "14 Mar",
            "method": "restyle"
           },
           {
            "args": [
             "visible",
             [
              false,
              false,
              false,
              false,
              false,
              false,
              false,
              false,
              false,
              false,
              false,
              false,
              false,
              false,
              false,
              false,
              false,
              false,
              false,
              false,
              false,
              false,
              false,
              false,
              false,
              false,
              false,
              false,
              true,
              false,
              false,
              false,
              false,
              false,
              false,
              false,
              false,
              false,
              false,
              false,
              false,
              false,
              false,
              false,
              false,
              false,
              false,
              false,
              false,
              false,
              false
             ]
            ],
            "label": "15 Mar",
            "method": "restyle"
           },
           {
            "args": [
             "visible",
             [
              false,
              false,
              false,
              false,
              false,
              false,
              false,
              false,
              false,
              false,
              false,
              false,
              false,
              false,
              false,
              false,
              false,
              false,
              false,
              false,
              false,
              false,
              false,
              false,
              false,
              false,
              false,
              false,
              false,
              true,
              false,
              false,
              false,
              false,
              false,
              false,
              false,
              false,
              false,
              false,
              false,
              false,
              false,
              false,
              false,
              false,
              false,
              false,
              false,
              false,
              false
             ]
            ],
            "label": "16 Mar",
            "method": "restyle"
           },
           {
            "args": [
             "visible",
             [
              false,
              false,
              false,
              false,
              false,
              false,
              false,
              false,
              false,
              false,
              false,
              false,
              false,
              false,
              false,
              false,
              false,
              false,
              false,
              false,
              false,
              false,
              false,
              false,
              false,
              false,
              false,
              false,
              false,
              false,
              true,
              false,
              false,
              false,
              false,
              false,
              false,
              false,
              false,
              false,
              false,
              false,
              false,
              false,
              false,
              false,
              false,
              false,
              false,
              false,
              false
             ]
            ],
            "label": "17 Mar",
            "method": "restyle"
           },
           {
            "args": [
             "visible",
             [
              false,
              false,
              false,
              false,
              false,
              false,
              false,
              false,
              false,
              false,
              false,
              false,
              false,
              false,
              false,
              false,
              false,
              false,
              false,
              false,
              false,
              false,
              false,
              false,
              false,
              false,
              false,
              false,
              false,
              false,
              false,
              true,
              false,
              false,
              false,
              false,
              false,
              false,
              false,
              false,
              false,
              false,
              false,
              false,
              false,
              false,
              false,
              false,
              false,
              false,
              false
             ]
            ],
            "label": "18 Mar",
            "method": "restyle"
           },
           {
            "args": [
             "visible",
             [
              false,
              false,
              false,
              false,
              false,
              false,
              false,
              false,
              false,
              false,
              false,
              false,
              false,
              false,
              false,
              false,
              false,
              false,
              false,
              false,
              false,
              false,
              false,
              false,
              false,
              false,
              false,
              false,
              false,
              false,
              false,
              false,
              true,
              false,
              false,
              false,
              false,
              false,
              false,
              false,
              false,
              false,
              false,
              false,
              false,
              false,
              false,
              false,
              false,
              false,
              false
             ]
            ],
            "label": "19 Mar",
            "method": "restyle"
           },
           {
            "args": [
             "visible",
             [
              false,
              false,
              false,
              false,
              false,
              false,
              false,
              false,
              false,
              false,
              false,
              false,
              false,
              false,
              false,
              false,
              false,
              false,
              false,
              false,
              false,
              false,
              false,
              false,
              false,
              false,
              false,
              false,
              false,
              false,
              false,
              false,
              false,
              true,
              false,
              false,
              false,
              false,
              false,
              false,
              false,
              false,
              false,
              false,
              false,
              false,
              false,
              false,
              false,
              false,
              false
             ]
            ],
            "label": "20 Mar",
            "method": "restyle"
           },
           {
            "args": [
             "visible",
             [
              false,
              false,
              false,
              false,
              false,
              false,
              false,
              false,
              false,
              false,
              false,
              false,
              false,
              false,
              false,
              false,
              false,
              false,
              false,
              false,
              false,
              false,
              false,
              false,
              false,
              false,
              false,
              false,
              false,
              false,
              false,
              false,
              false,
              false,
              true,
              false,
              false,
              false,
              false,
              false,
              false,
              false,
              false,
              false,
              false,
              false,
              false,
              false,
              false,
              false,
              false
             ]
            ],
            "label": "21 Mar",
            "method": "restyle"
           },
           {
            "args": [
             "visible",
             [
              false,
              false,
              false,
              false,
              false,
              false,
              false,
              false,
              false,
              false,
              false,
              false,
              false,
              false,
              false,
              false,
              false,
              false,
              false,
              false,
              false,
              false,
              false,
              false,
              false,
              false,
              false,
              false,
              false,
              false,
              false,
              false,
              false,
              false,
              false,
              true,
              false,
              false,
              false,
              false,
              false,
              false,
              false,
              false,
              false,
              false,
              false,
              false,
              false,
              false,
              false
             ]
            ],
            "label": "22 Mar",
            "method": "restyle"
           },
           {
            "args": [
             "visible",
             [
              false,
              false,
              false,
              false,
              false,
              false,
              false,
              false,
              false,
              false,
              false,
              false,
              false,
              false,
              false,
              false,
              false,
              false,
              false,
              false,
              false,
              false,
              false,
              false,
              false,
              false,
              false,
              false,
              false,
              false,
              false,
              false,
              false,
              false,
              false,
              false,
              true,
              false,
              false,
              false,
              false,
              false,
              false,
              false,
              false,
              false,
              false,
              false,
              false,
              false,
              false
             ]
            ],
            "label": "23 Mar",
            "method": "restyle"
           },
           {
            "args": [
             "visible",
             [
              false,
              false,
              false,
              false,
              false,
              false,
              false,
              false,
              false,
              false,
              false,
              false,
              false,
              false,
              false,
              false,
              false,
              false,
              false,
              false,
              false,
              false,
              false,
              false,
              false,
              false,
              false,
              false,
              false,
              false,
              false,
              false,
              false,
              false,
              false,
              false,
              false,
              true,
              false,
              false,
              false,
              false,
              false,
              false,
              false,
              false,
              false,
              false,
              false,
              false,
              false
             ]
            ],
            "label": "24 Mar",
            "method": "restyle"
           },
           {
            "args": [
             "visible",
             [
              false,
              false,
              false,
              false,
              false,
              false,
              false,
              false,
              false,
              false,
              false,
              false,
              false,
              false,
              false,
              false,
              false,
              false,
              false,
              false,
              false,
              false,
              false,
              false,
              false,
              false,
              false,
              false,
              false,
              false,
              false,
              false,
              false,
              false,
              false,
              false,
              false,
              false,
              true,
              false,
              false,
              false,
              false,
              false,
              false,
              false,
              false,
              false,
              false,
              false,
              false
             ]
            ],
            "label": "25 Mar",
            "method": "restyle"
           },
           {
            "args": [
             "visible",
             [
              false,
              false,
              false,
              false,
              false,
              false,
              false,
              false,
              false,
              false,
              false,
              false,
              false,
              false,
              false,
              false,
              false,
              false,
              false,
              false,
              false,
              false,
              false,
              false,
              false,
              false,
              false,
              false,
              false,
              false,
              false,
              false,
              false,
              false,
              false,
              false,
              false,
              false,
              false,
              true,
              false,
              false,
              false,
              false,
              false,
              false,
              false,
              false,
              false,
              false,
              false
             ]
            ],
            "label": "26 Mar",
            "method": "restyle"
           },
           {
            "args": [
             "visible",
             [
              false,
              false,
              false,
              false,
              false,
              false,
              false,
              false,
              false,
              false,
              false,
              false,
              false,
              false,
              false,
              false,
              false,
              false,
              false,
              false,
              false,
              false,
              false,
              false,
              false,
              false,
              false,
              false,
              false,
              false,
              false,
              false,
              false,
              false,
              false,
              false,
              false,
              false,
              false,
              false,
              true,
              false,
              false,
              false,
              false,
              false,
              false,
              false,
              false,
              false,
              false
             ]
            ],
            "label": "27 Mar",
            "method": "restyle"
           },
           {
            "args": [
             "visible",
             [
              false,
              false,
              false,
              false,
              false,
              false,
              false,
              false,
              false,
              false,
              false,
              false,
              false,
              false,
              false,
              false,
              false,
              false,
              false,
              false,
              false,
              false,
              false,
              false,
              false,
              false,
              false,
              false,
              false,
              false,
              false,
              false,
              false,
              false,
              false,
              false,
              false,
              false,
              false,
              false,
              false,
              true,
              false,
              false,
              false,
              false,
              false,
              false,
              false,
              false,
              false
             ]
            ],
            "label": "28 Mar",
            "method": "restyle"
           },
           {
            "args": [
             "visible",
             [
              false,
              false,
              false,
              false,
              false,
              false,
              false,
              false,
              false,
              false,
              false,
              false,
              false,
              false,
              false,
              false,
              false,
              false,
              false,
              false,
              false,
              false,
              false,
              false,
              false,
              false,
              false,
              false,
              false,
              false,
              false,
              false,
              false,
              false,
              false,
              false,
              false,
              false,
              false,
              false,
              false,
              false,
              true,
              false,
              false,
              false,
              false,
              false,
              false,
              false,
              false
             ]
            ],
            "label": "29 Mar",
            "method": "restyle"
           },
           {
            "args": [
             "visible",
             [
              false,
              false,
              false,
              false,
              false,
              false,
              false,
              false,
              false,
              false,
              false,
              false,
              false,
              false,
              false,
              false,
              false,
              false,
              false,
              false,
              false,
              false,
              false,
              false,
              false,
              false,
              false,
              false,
              false,
              false,
              false,
              false,
              false,
              false,
              false,
              false,
              false,
              false,
              false,
              false,
              false,
              false,
              false,
              true,
              false,
              false,
              false,
              false,
              false,
              false,
              false
             ]
            ],
            "label": "30 Mar",
            "method": "restyle"
           },
           {
            "args": [
             "visible",
             [
              false,
              false,
              false,
              false,
              false,
              false,
              false,
              false,
              false,
              false,
              false,
              false,
              false,
              false,
              false,
              false,
              false,
              false,
              false,
              false,
              false,
              false,
              false,
              false,
              false,
              false,
              false,
              false,
              false,
              false,
              false,
              false,
              false,
              false,
              false,
              false,
              false,
              false,
              false,
              false,
              false,
              false,
              false,
              false,
              true,
              false,
              false,
              false,
              false,
              false,
              false
             ]
            ],
            "label": "31 Mar",
            "method": "restyle"
           },
           {
            "args": [
             "visible",
             [
              false,
              false,
              false,
              false,
              false,
              false,
              false,
              false,
              false,
              false,
              false,
              false,
              false,
              false,
              false,
              false,
              false,
              false,
              false,
              false,
              false,
              false,
              false,
              false,
              false,
              false,
              false,
              false,
              false,
              false,
              false,
              false,
              false,
              false,
              false,
              false,
              false,
              false,
              false,
              false,
              false,
              false,
              false,
              false,
              false,
              true,
              false,
              false,
              false,
              false,
              false
             ]
            ],
            "label": "01 Apr",
            "method": "restyle"
           },
           {
            "args": [
             "visible",
             [
              false,
              false,
              false,
              false,
              false,
              false,
              false,
              false,
              false,
              false,
              false,
              false,
              false,
              false,
              false,
              false,
              false,
              false,
              false,
              false,
              false,
              false,
              false,
              false,
              false,
              false,
              false,
              false,
              false,
              false,
              false,
              false,
              false,
              false,
              false,
              false,
              false,
              false,
              false,
              false,
              false,
              false,
              false,
              false,
              false,
              false,
              true,
              false,
              false,
              false,
              false
             ]
            ],
            "label": "02 Apr",
            "method": "restyle"
           },
           {
            "args": [
             "visible",
             [
              false,
              false,
              false,
              false,
              false,
              false,
              false,
              false,
              false,
              false,
              false,
              false,
              false,
              false,
              false,
              false,
              false,
              false,
              false,
              false,
              false,
              false,
              false,
              false,
              false,
              false,
              false,
              false,
              false,
              false,
              false,
              false,
              false,
              false,
              false,
              false,
              false,
              false,
              false,
              false,
              false,
              false,
              false,
              false,
              false,
              false,
              false,
              true,
              false,
              false,
              false
             ]
            ],
            "label": "03 Apr",
            "method": "restyle"
           },
           {
            "args": [
             "visible",
             [
              false,
              false,
              false,
              false,
              false,
              false,
              false,
              false,
              false,
              false,
              false,
              false,
              false,
              false,
              false,
              false,
              false,
              false,
              false,
              false,
              false,
              false,
              false,
              false,
              false,
              false,
              false,
              false,
              false,
              false,
              false,
              false,
              false,
              false,
              false,
              false,
              false,
              false,
              false,
              false,
              false,
              false,
              false,
              false,
              false,
              false,
              false,
              false,
              true,
              false,
              false
             ]
            ],
            "label": "04 Apr",
            "method": "restyle"
           },
           {
            "args": [
             "visible",
             [
              false,
              false,
              false,
              false,
              false,
              false,
              false,
              false,
              false,
              false,
              false,
              false,
              false,
              false,
              false,
              false,
              false,
              false,
              false,
              false,
              false,
              false,
              false,
              false,
              false,
              false,
              false,
              false,
              false,
              false,
              false,
              false,
              false,
              false,
              false,
              false,
              false,
              false,
              false,
              false,
              false,
              false,
              false,
              false,
              false,
              false,
              false,
              false,
              false,
              true,
              false
             ]
            ],
            "label": "05 Apr",
            "method": "restyle"
           },
           {
            "args": [
             "visible",
             [
              false,
              false,
              false,
              false,
              false,
              false,
              false,
              false,
              false,
              false,
              false,
              false,
              false,
              false,
              false,
              false,
              false,
              false,
              false,
              false,
              false,
              false,
              false,
              false,
              false,
              false,
              false,
              false,
              false,
              false,
              false,
              false,
              false,
              false,
              false,
              false,
              false,
              false,
              false,
              false,
              false,
              false,
              false,
              false,
              false,
              false,
              false,
              false,
              false,
              false,
              true
             ]
            ],
            "label": "06 Apr",
            "method": "restyle"
           }
          ],
          "x": 0,
          "y": 2
         }
        ],
        "template": {
         "data": {
          "bar": [
           {
            "error_x": {
             "color": "#2a3f5f"
            },
            "error_y": {
             "color": "#2a3f5f"
            },
            "marker": {
             "line": {
              "color": "#E5ECF6",
              "width": 0.5
             }
            },
            "type": "bar"
           }
          ],
          "barpolar": [
           {
            "marker": {
             "line": {
              "color": "#E5ECF6",
              "width": 0.5
             }
            },
            "type": "barpolar"
           }
          ],
          "carpet": [
           {
            "aaxis": {
             "endlinecolor": "#2a3f5f",
             "gridcolor": "white",
             "linecolor": "white",
             "minorgridcolor": "white",
             "startlinecolor": "#2a3f5f"
            },
            "baxis": {
             "endlinecolor": "#2a3f5f",
             "gridcolor": "white",
             "linecolor": "white",
             "minorgridcolor": "white",
             "startlinecolor": "#2a3f5f"
            },
            "type": "carpet"
           }
          ],
          "choropleth": [
           {
            "colorbar": {
             "outlinewidth": 0,
             "ticks": ""
            },
            "type": "choropleth"
           }
          ],
          "contour": [
           {
            "colorbar": {
             "outlinewidth": 0,
             "ticks": ""
            },
            "colorscale": [
             [
              0,
              "#0d0887"
             ],
             [
              0.1111111111111111,
              "#46039f"
             ],
             [
              0.2222222222222222,
              "#7201a8"
             ],
             [
              0.3333333333333333,
              "#9c179e"
             ],
             [
              0.4444444444444444,
              "#bd3786"
             ],
             [
              0.5555555555555556,
              "#d8576b"
             ],
             [
              0.6666666666666666,
              "#ed7953"
             ],
             [
              0.7777777777777778,
              "#fb9f3a"
             ],
             [
              0.8888888888888888,
              "#fdca26"
             ],
             [
              1,
              "#f0f921"
             ]
            ],
            "type": "contour"
           }
          ],
          "contourcarpet": [
           {
            "colorbar": {
             "outlinewidth": 0,
             "ticks": ""
            },
            "type": "contourcarpet"
           }
          ],
          "heatmap": [
           {
            "colorbar": {
             "outlinewidth": 0,
             "ticks": ""
            },
            "colorscale": [
             [
              0,
              "#0d0887"
             ],
             [
              0.1111111111111111,
              "#46039f"
             ],
             [
              0.2222222222222222,
              "#7201a8"
             ],
             [
              0.3333333333333333,
              "#9c179e"
             ],
             [
              0.4444444444444444,
              "#bd3786"
             ],
             [
              0.5555555555555556,
              "#d8576b"
             ],
             [
              0.6666666666666666,
              "#ed7953"
             ],
             [
              0.7777777777777778,
              "#fb9f3a"
             ],
             [
              0.8888888888888888,
              "#fdca26"
             ],
             [
              1,
              "#f0f921"
             ]
            ],
            "type": "heatmap"
           }
          ],
          "heatmapgl": [
           {
            "colorbar": {
             "outlinewidth": 0,
             "ticks": ""
            },
            "colorscale": [
             [
              0,
              "#0d0887"
             ],
             [
              0.1111111111111111,
              "#46039f"
             ],
             [
              0.2222222222222222,
              "#7201a8"
             ],
             [
              0.3333333333333333,
              "#9c179e"
             ],
             [
              0.4444444444444444,
              "#bd3786"
             ],
             [
              0.5555555555555556,
              "#d8576b"
             ],
             [
              0.6666666666666666,
              "#ed7953"
             ],
             [
              0.7777777777777778,
              "#fb9f3a"
             ],
             [
              0.8888888888888888,
              "#fdca26"
             ],
             [
              1,
              "#f0f921"
             ]
            ],
            "type": "heatmapgl"
           }
          ],
          "histogram": [
           {
            "marker": {
             "colorbar": {
              "outlinewidth": 0,
              "ticks": ""
             }
            },
            "type": "histogram"
           }
          ],
          "histogram2d": [
           {
            "colorbar": {
             "outlinewidth": 0,
             "ticks": ""
            },
            "colorscale": [
             [
              0,
              "#0d0887"
             ],
             [
              0.1111111111111111,
              "#46039f"
             ],
             [
              0.2222222222222222,
              "#7201a8"
             ],
             [
              0.3333333333333333,
              "#9c179e"
             ],
             [
              0.4444444444444444,
              "#bd3786"
             ],
             [
              0.5555555555555556,
              "#d8576b"
             ],
             [
              0.6666666666666666,
              "#ed7953"
             ],
             [
              0.7777777777777778,
              "#fb9f3a"
             ],
             [
              0.8888888888888888,
              "#fdca26"
             ],
             [
              1,
              "#f0f921"
             ]
            ],
            "type": "histogram2d"
           }
          ],
          "histogram2dcontour": [
           {
            "colorbar": {
             "outlinewidth": 0,
             "ticks": ""
            },
            "colorscale": [
             [
              0,
              "#0d0887"
             ],
             [
              0.1111111111111111,
              "#46039f"
             ],
             [
              0.2222222222222222,
              "#7201a8"
             ],
             [
              0.3333333333333333,
              "#9c179e"
             ],
             [
              0.4444444444444444,
              "#bd3786"
             ],
             [
              0.5555555555555556,
              "#d8576b"
             ],
             [
              0.6666666666666666,
              "#ed7953"
             ],
             [
              0.7777777777777778,
              "#fb9f3a"
             ],
             [
              0.8888888888888888,
              "#fdca26"
             ],
             [
              1,
              "#f0f921"
             ]
            ],
            "type": "histogram2dcontour"
           }
          ],
          "mesh3d": [
           {
            "colorbar": {
             "outlinewidth": 0,
             "ticks": ""
            },
            "type": "mesh3d"
           }
          ],
          "parcoords": [
           {
            "line": {
             "colorbar": {
              "outlinewidth": 0,
              "ticks": ""
             }
            },
            "type": "parcoords"
           }
          ],
          "pie": [
           {
            "automargin": true,
            "type": "pie"
           }
          ],
          "scatter": [
           {
            "marker": {
             "colorbar": {
              "outlinewidth": 0,
              "ticks": ""
             }
            },
            "type": "scatter"
           }
          ],
          "scatter3d": [
           {
            "line": {
             "colorbar": {
              "outlinewidth": 0,
              "ticks": ""
             }
            },
            "marker": {
             "colorbar": {
              "outlinewidth": 0,
              "ticks": ""
             }
            },
            "type": "scatter3d"
           }
          ],
          "scattercarpet": [
           {
            "marker": {
             "colorbar": {
              "outlinewidth": 0,
              "ticks": ""
             }
            },
            "type": "scattercarpet"
           }
          ],
          "scattergeo": [
           {
            "marker": {
             "colorbar": {
              "outlinewidth": 0,
              "ticks": ""
             }
            },
            "type": "scattergeo"
           }
          ],
          "scattergl": [
           {
            "marker": {
             "colorbar": {
              "outlinewidth": 0,
              "ticks": ""
             }
            },
            "type": "scattergl"
           }
          ],
          "scattermapbox": [
           {
            "marker": {
             "colorbar": {
              "outlinewidth": 0,
              "ticks": ""
             }
            },
            "type": "scattermapbox"
           }
          ],
          "scatterpolar": [
           {
            "marker": {
             "colorbar": {
              "outlinewidth": 0,
              "ticks": ""
             }
            },
            "type": "scatterpolar"
           }
          ],
          "scatterpolargl": [
           {
            "marker": {
             "colorbar": {
              "outlinewidth": 0,
              "ticks": ""
             }
            },
            "type": "scatterpolargl"
           }
          ],
          "scatterternary": [
           {
            "marker": {
             "colorbar": {
              "outlinewidth": 0,
              "ticks": ""
             }
            },
            "type": "scatterternary"
           }
          ],
          "surface": [
           {
            "colorbar": {
             "outlinewidth": 0,
             "ticks": ""
            },
            "colorscale": [
             [
              0,
              "#0d0887"
             ],
             [
              0.1111111111111111,
              "#46039f"
             ],
             [
              0.2222222222222222,
              "#7201a8"
             ],
             [
              0.3333333333333333,
              "#9c179e"
             ],
             [
              0.4444444444444444,
              "#bd3786"
             ],
             [
              0.5555555555555556,
              "#d8576b"
             ],
             [
              0.6666666666666666,
              "#ed7953"
             ],
             [
              0.7777777777777778,
              "#fb9f3a"
             ],
             [
              0.8888888888888888,
              "#fdca26"
             ],
             [
              1,
              "#f0f921"
             ]
            ],
            "type": "surface"
           }
          ],
          "table": [
           {
            "cells": {
             "fill": {
              "color": "#EBF0F8"
             },
             "line": {
              "color": "white"
             }
            },
            "header": {
             "fill": {
              "color": "#C8D4E3"
             },
             "line": {
              "color": "white"
             }
            },
            "type": "table"
           }
          ]
         },
         "layout": {
          "annotationdefaults": {
           "arrowcolor": "#2a3f5f",
           "arrowhead": 0,
           "arrowwidth": 1
          },
          "coloraxis": {
           "colorbar": {
            "outlinewidth": 0,
            "ticks": ""
           }
          },
          "colorscale": {
           "diverging": [
            [
             0,
             "#8e0152"
            ],
            [
             0.1,
             "#c51b7d"
            ],
            [
             0.2,
             "#de77ae"
            ],
            [
             0.3,
             "#f1b6da"
            ],
            [
             0.4,
             "#fde0ef"
            ],
            [
             0.5,
             "#f7f7f7"
            ],
            [
             0.6,
             "#e6f5d0"
            ],
            [
             0.7,
             "#b8e186"
            ],
            [
             0.8,
             "#7fbc41"
            ],
            [
             0.9,
             "#4d9221"
            ],
            [
             1,
             "#276419"
            ]
           ],
           "sequential": [
            [
             0,
             "#0d0887"
            ],
            [
             0.1111111111111111,
             "#46039f"
            ],
            [
             0.2222222222222222,
             "#7201a8"
            ],
            [
             0.3333333333333333,
             "#9c179e"
            ],
            [
             0.4444444444444444,
             "#bd3786"
            ],
            [
             0.5555555555555556,
             "#d8576b"
            ],
            [
             0.6666666666666666,
             "#ed7953"
            ],
            [
             0.7777777777777778,
             "#fb9f3a"
            ],
            [
             0.8888888888888888,
             "#fdca26"
            ],
            [
             1,
             "#f0f921"
            ]
           ],
           "sequentialminus": [
            [
             0,
             "#0d0887"
            ],
            [
             0.1111111111111111,
             "#46039f"
            ],
            [
             0.2222222222222222,
             "#7201a8"
            ],
            [
             0.3333333333333333,
             "#9c179e"
            ],
            [
             0.4444444444444444,
             "#bd3786"
            ],
            [
             0.5555555555555556,
             "#d8576b"
            ],
            [
             0.6666666666666666,
             "#ed7953"
            ],
            [
             0.7777777777777778,
             "#fb9f3a"
            ],
            [
             0.8888888888888888,
             "#fdca26"
            ],
            [
             1,
             "#f0f921"
            ]
           ]
          },
          "colorway": [
           "#636efa",
           "#EF553B",
           "#00cc96",
           "#ab63fa",
           "#FFA15A",
           "#19d3f3",
           "#FF6692",
           "#B6E880",
           "#FF97FF",
           "#FECB52"
          ],
          "font": {
           "color": "#2a3f5f"
          },
          "geo": {
           "bgcolor": "white",
           "lakecolor": "white",
           "landcolor": "#E5ECF6",
           "showlakes": true,
           "showland": true,
           "subunitcolor": "white"
          },
          "hoverlabel": {
           "align": "left"
          },
          "hovermode": "closest",
          "mapbox": {
           "style": "light"
          },
          "paper_bgcolor": "white",
          "plot_bgcolor": "#E5ECF6",
          "polar": {
           "angularaxis": {
            "gridcolor": "white",
            "linecolor": "white",
            "ticks": ""
           },
           "bgcolor": "#E5ECF6",
           "radialaxis": {
            "gridcolor": "white",
            "linecolor": "white",
            "ticks": ""
           }
          },
          "scene": {
           "xaxis": {
            "backgroundcolor": "#E5ECF6",
            "gridcolor": "white",
            "gridwidth": 2,
            "linecolor": "white",
            "showbackground": true,
            "ticks": "",
            "zerolinecolor": "white"
           },
           "yaxis": {
            "backgroundcolor": "#E5ECF6",
            "gridcolor": "white",
            "gridwidth": 2,
            "linecolor": "white",
            "showbackground": true,
            "ticks": "",
            "zerolinecolor": "white"
           },
           "zaxis": {
            "backgroundcolor": "#E5ECF6",
            "gridcolor": "white",
            "gridwidth": 2,
            "linecolor": "white",
            "showbackground": true,
            "ticks": "",
            "zerolinecolor": "white"
           }
          },
          "shapedefaults": {
           "line": {
            "color": "#2a3f5f"
           }
          },
          "ternary": {
           "aaxis": {
            "gridcolor": "white",
            "linecolor": "white",
            "ticks": ""
           },
           "baxis": {
            "gridcolor": "white",
            "linecolor": "white",
            "ticks": ""
           },
           "bgcolor": "#E5ECF6",
           "caxis": {
            "gridcolor": "white",
            "linecolor": "white",
            "ticks": ""
           }
          },
          "title": {
           "x": 0.05
          },
          "xaxis": {
           "automargin": true,
           "gridcolor": "white",
           "linecolor": "white",
           "ticks": "",
           "title": {
            "standoff": 15
           },
           "zerolinecolor": "white",
           "zerolinewidth": 2
          },
          "yaxis": {
           "automargin": true,
           "gridcolor": "white",
           "linecolor": "white",
           "ticks": "",
           "title": {
            "standoff": 15
           },
           "zerolinecolor": "white",
           "zerolinewidth": 2
          }
         }
        },
        "title": {
         "text": "Total deaths"
        },
        "updatemenus": [
         {
          "active": 0,
          "buttons": [
           {
            "args": [
             null
            ],
            "label": "Play",
            "method": "animate"
           },
           {
            "args": [
             null,
             {
              "mode": "immediate"
             }
            ],
            "label": "Pause",
            "method": "animate"
           }
          ],
          "type": "buttons"
         }
        ],
        "xaxis": {
         "autorange": true,
         "range": [
          -0.5,
          56.5
         ],
         "type": "category"
        },
        "yaxis": {
         "range": [
          0,
          18000
         ],
         "type": "linear"
        }
       }
      },
      "image/png": "[encoded data removed]",
      "text/html": [
       "<div>\n",
       "        \n",
       "        \n",
       "            <div id=\"19fd2e73-9926-455a-8aae-815c3466ebec\" class=\"plotly-graph-div\" style=\"height:800px; width:100%;\"></div>\n",
       "            <script type=\"text/javascript\">\n",
       "                require([\"plotly\"], function(Plotly) {\n",
       "                    window.PLOTLYENV=window.PLOTLYENV || {};\n",
       "                    \n",
       "                if (document.getElementById(\"19fd2e73-9926-455a-8aae-815c3466ebec\")) {\n",
       "                    Plotly.newPlot(\n",
       "                        '19fd2e73-9926-455a-8aae-815c3466ebec',\n",
       "                        [{\"name\": \"\", \"type\": \"bar\", \"visible\": true, \"x\": [\"China\"], \"y\": [1666]}, {\"name\": \"\", \"type\": \"bar\", \"visible\": false, \"x\": [\"China\"], \"y\": [1771]}, {\"name\": \"\", \"type\": \"bar\", \"visible\": false, \"x\": [\"China\"], \"y\": [1869]}, {\"name\": \"\", \"type\": \"bar\", \"visible\": false, \"x\": [\"China\"], \"y\": [2008]}, {\"name\": \"\", \"type\": \"bar\", \"visible\": false, \"x\": [\"China\"], \"y\": [2120]}, {\"name\": \"\", \"type\": \"bar\", \"visible\": false, \"x\": [\"China\"], \"y\": [2238]}, {\"name\": \"\", \"type\": \"bar\", \"visible\": false, \"x\": [\"China\"], \"y\": [2347]}, {\"name\": \"\", \"type\": \"bar\", \"visible\": false, \"x\": [\"China\"], \"y\": [2445]}, {\"name\": \"\", \"type\": \"bar\", \"visible\": false, \"x\": [\"China\"], \"y\": [2595]}, {\"name\": \"\", \"type\": \"bar\", \"visible\": false, \"x\": [\"China\"], \"y\": [2665]}, {\"name\": \"\", \"type\": \"bar\", \"visible\": false, \"x\": [\"China\"], \"y\": [2717]}, {\"name\": \"\", \"type\": \"bar\", \"visible\": false, \"x\": [\"China\"], \"y\": [2746]}, {\"name\": \"\", \"type\": \"bar\", \"visible\": false, \"x\": [\"China\", \"Iran\"], \"y\": [2790, 26]}, {\"name\": \"\", \"type\": \"bar\", \"visible\": false, \"x\": [\"China\", \"Iran\", \"Italy\"], \"y\": [2837, 34, 21]}, {\"name\": \"\", \"type\": \"bar\", \"visible\": false, \"x\": [\"China\", \"Iran\", \"Italy\"], \"y\": [2872, 43, 29]}, {\"name\": \"\", \"type\": \"bar\", \"visible\": false, \"x\": [\"China\", \"Iran\", \"Italy\", \"South Korea\"], \"y\": [2914, 54, 35, 22]}, {\"name\": \"\", \"type\": \"bar\", \"visible\": false, \"x\": [\"China\", \"Iran\", \"Italy\", \"South Korea\"], \"y\": [2946, 66, 52, 28]}, {\"name\": \"\", \"type\": \"bar\", \"visible\": false, \"x\": [\"China\", \"Italy\", \"Iran\", \"South Korea\"], \"y\": [2983, 80, 77, 32]}, {\"name\": \"\", \"type\": \"bar\", \"visible\": false, \"x\": [\"China\", \"Italy\", \"Iran\", \"South Korea\"], \"y\": [3014, 107, 92, 35]}, {\"name\": \"\", \"type\": \"bar\", \"visible\": false, \"x\": [\"China\", \"Italy\", \"Iran\", \"South Korea\"], \"y\": [3044, 148, 107, 42]}, {\"name\": \"\", \"type\": \"bar\", \"visible\": false, \"x\": [\"China\", \"Italy\", \"Iran\", \"South Korea\"], \"y\": [3072, 197, 124, 44]}, {\"name\": \"\", \"type\": \"bar\", \"visible\": false, \"x\": [\"China\", \"Italy\", \"Iran\", \"South Korea\"], \"y\": [3099, 233, 145, 50]}, {\"name\": \"\", \"type\": \"bar\", \"visible\": false, \"x\": [\"China\", \"Italy\", \"Iran\", \"South Korea\", \"United States of America\"], \"y\": [3122, 366, 194, 51, 21]}, {\"name\": \"\", \"type\": \"bar\", \"visible\": false, \"x\": [\"China\", \"Italy\", \"Iran\", \"South Korea\", \"France\", \"Spain\", \"United States of America\"], \"y\": [3139, 464, 237, 54, 30, 28, 26]}, {\"name\": \"\", \"type\": \"bar\", \"visible\": false, \"x\": [\"China\", \"Italy\", \"Iran\", \"South Korea\", \"Spain\", \"France\", \"United States of America\"], \"y\": [3161, 631, 291, 60, 35, 33, 28]}, {\"name\": \"\", \"type\": \"bar\", \"visible\": false, \"x\": [\"China\", \"Italy\", \"Iran\", \"South Korea\", \"France\", \"Spain\", \"United States of America\"], \"y\": [3172, 827, 354, 66, 48, 47, 30]}, {\"name\": \"\", \"type\": \"bar\", \"visible\": false, \"x\": [\"China\", \"Italy\", \"Iran\", \"Spain\", \"South Korea\", \"France\", \"United States of America\"], \"y\": [3179, 1016, 429, 84, 67, 61, 40]}, {\"name\": \"\", \"type\": \"bar\", \"visible\": false, \"x\": [\"China\", \"Italy\", \"Iran\", \"Spain\", \"France\", \"South Korea\", \"United States of America\", \"Japan\"], \"y\": [3194, 1268, 514, 121, 79, 72, 47, 21]}, {\"name\": \"\", \"type\": \"bar\", \"visible\": false, \"x\": [\"China\", \"Italy\", \"Iran\", \"Spain\", \"France\", \"South Korea\", \"United States of America\", \"Japan\", \"United Kingdom\"], \"y\": [3203, 1441, 611, 136, 91, 75, 57, 22, 21]}, {\"name\": \"\", \"type\": \"bar\", \"visible\": false, \"x\": [\"China\", \"Italy\", \"Iran\", \"Spain\", \"France\", \"South Korea\", \"United States of America\", \"United Kingdom\", \"Japan\"], \"y\": [3216, 1811, 724, 288, 127, 75, 69, 35, 24]}, {\"name\": \"\", \"type\": \"bar\", \"visible\": false, \"x\": [\"China\", \"Italy\", \"Iran\", \"Spain\", \"France\", \"United States of America\", \"South Korea\", \"United Kingdom\", \"Japan\", \"Netherlands\"], \"y\": [3225, 2158, 853, 309, 148, 85, 81, 55, 28, 24]}, {\"name\": \"\", \"type\": \"bar\", \"visible\": false, \"x\": [\"China\", \"Italy\", \"Iran\", \"Spain\", \"France\", \"United States of America\", \"South Korea\", \"United Kingdom\", \"Netherlands\", \"Japan\"], \"y\": [3241, 2505, 988, 491, 175, 108, 86, 60, 43, 28]}, {\"name\": \"\", \"type\": \"bar\", \"visible\": false, \"x\": [\"China\", \"Italy\", \"Iran\", \"Spain\", \"France\", \"United States of America\", \"United Kingdom\", \"South Korea\", \"Netherlands\", \"Japan\", \"Switzerland\"], \"y\": [3249, 2978, 1135, 598, 244, 150, 103, 91, 58, 29, 21]}, {\"name\": \"\", \"type\": \"bar\", \"visible\": false, \"x\": [\"Italy\", \"China\", \"Iran\", \"Spain\", \"France\", \"United States of America\", \"United Kingdom\", \"South Korea\", \"Netherlands\", \"Germany\", \"Japan\", \"Switzerland\", \"Belgium\"], \"y\": [3407, 3253, 1284, 767, 372, 150, 144, 100, 76, 43, 33, 33, 21]}, {\"name\": \"\", \"type\": \"bar\", \"visible\": false, \"x\": [\"Italy\", \"China\", \"Iran\", \"Spain\", \"France\", \"United States of America\", \"United Kingdom\", \"Netherlands\", \"South Korea\", \"Germany\", \"Switzerland\", \"Belgium\", \"Japan\", \"Indonesia\"], \"y\": [4032, 3259, 1433, 1002, 450, 260, 177, 106, 103, 45, 43, 37, 35, 25]}, {\"name\": \"\", \"type\": \"bar\", \"visible\": false, \"x\": [\"Italy\", \"China\", \"Iran\", \"Spain\", \"France\", \"United States of America\", \"United Kingdom\", \"Netherlands\", \"South Korea\", \"Belgium\", \"Germany\", \"Switzerland\", \"Indonesia\", \"Japan\", \"Philippines\", \"Turkey\"], \"y\": [4827, 3265, 1556, 1326, 562, 340, 233, 136, 104, 67, 67, 56, 38, 36, 25, 21]}, {\"name\": \"\", \"type\": \"bar\", \"visible\": false, \"x\": [\"Italy\", \"China\", \"Spain\", \"Iran\", \"France\", \"United States of America\", \"United Kingdom\", \"Netherlands\", \"South Korea\", \"Germany\", \"Belgium\", \"Switzerland\", \"Indonesia\", \"Japan\", \"Turkey\", \"Brazil\", \"Philippines\", \"Sweden\"], \"y\": [5476, 3274, 1720, 1685, 674, 471, 281, 179, 113, 94, 75, 60, 48, 41, 30, 25, 25, 21]}, {\"name\": \"\", \"type\": \"bar\", \"visible\": false, \"x\": [\"Italy\", \"China\", \"Spain\", \"Iran\", \"France\", \"United States of America\", \"United Kingdom\", \"Netherlands\", \"Germany\", \"South Korea\", \"Belgium\", \"Switzerland\", \"Indonesia\", \"Japan\", \"Turkey\", \"Brazil\", \"Philippines\", \"Sweden\", \"Austria\", \"Canada\", \"Denmark\", \"Portugal\", \"Iraq\"], \"y\": [6077, 3281, 2182, 1812, 860, 590, 335, 213, 126, 120, 88, 66, 49, 42, 37, 34, 33, 25, 25, 24, 24, 23, 23]}, {\"name\": \"\", \"type\": \"bar\", \"visible\": false, \"x\": [\"Italy\", \"China\", \"Spain\", \"Iran\", \"France\", \"United States of America\", \"United Kingdom\", \"Netherlands\", \"Germany\", \"South Korea\", \"Belgium\", \"Switzerland\", \"Indonesia\", \"Brazil\", \"Turkey\", \"Japan\", \"Sweden\", \"Philippines\", \"Portugal\", \"Denmark\", \"Austria\", \"Iraq\", \"Canada\", \"Ecuador\", \"San Marino\"], \"y\": [6820, 3285, 2696, 1934, 1100, 801, 422, 276, 149, 126, 122, 86, 55, 46, 44, 43, 36, 35, 33, 32, 30, 27, 27, 27, 21]}, {\"name\": \"\", \"type\": \"bar\", \"visible\": false, \"x\": [\"Italy\", \"Spain\", \"China\", \"Iran\", \"France\", \"United States of America\", \"United Kingdom\", \"Netherlands\", \"Germany\", \"Belgium\", \"South Korea\", \"Switzerland\", \"Turkey\", \"Indonesia\", \"Brazil\", \"Japan\", \"Portugal\", \"Sweden\", \"Philippines\", \"Canada\", \"Austria\", \"Denmark\", \"Ecuador\", \"Iraq\", \"Greece\", \"San Marino\", \"Egypt\"], \"y\": [7505, 3434, 3291, 2077, 1331, 1050, 463, 356, 198, 178, 131, 103, 59, 58, 57, 45, 43, 42, 38, 35, 34, 34, 29, 29, 22, 21, 21]}, {\"name\": \"\", \"type\": \"bar\", \"visible\": false, \"x\": [\"Italy\", \"Spain\", \"China\", \"Iran\", \"France\", \"United States of America\", \"United Kingdom\", \"Netherlands\", \"Germany\", \"Belgium\", \"Switzerland\", \"South Korea\", \"Indonesia\", \"Brazil\", \"Turkey\", \"Sweden\", \"Portugal\", \"Austria\", \"Japan\", \"Philippines\", \"Denmark\", \"Canada\", \"Iraq\", \"Ecuador\", \"Greece\", \"Malaysia\", \"San Marino\", \"Egypt\", \"Algeria\"], \"y\": [8165, 4089, 3296, 2234, 1696, 1296, 578, 434, 253, 220, 161, 139, 78, 77, 75, 66, 60, 52, 46, 45, 41, 39, 36, 34, 26, 23, 21, 21, 21]}, {\"name\": \"\", \"type\": \"bar\", \"visible\": false, \"x\": [\"Italy\", \"Spain\", \"China\", \"Iran\", \"France\", \"United States of America\", \"United Kingdom\", \"Netherlands\", \"Germany\", \"Belgium\", \"Switzerland\", \"South Korea\", \"Sweden\", \"Brazil\", \"Turkey\", \"Indonesia\", \"Portugal\", \"Austria\", \"Philippines\", \"Canada\", \"Denmark\", \"Japan\", \"Ecuador\", \"Iraq\", \"Greece\", \"Malaysia\", \"Romania\", \"Egypt\", \"Morocco\", \"Ireland\", \"San Marino\", \"Algeria\"], \"y\": [9136, 4858, 3299, 2378, 1995, 1707, 759, 546, 325, 289, 197, 144, 92, 92, 92, 87, 76, 68, 54, 53, 52, 49, 41, 40, 28, 26, 24, 24, 23, 22, 21, 21]}, {\"name\": \"\", \"type\": \"bar\", \"visible\": false, \"x\": [\"Italy\", \"Spain\", \"China\", \"Iran\", \"France\", \"United States of America\", \"United Kingdom\", \"Netherlands\", \"Germany\", \"Belgium\", \"Switzerland\", \"South Korea\", \"Brazil\", \"Turkey\", \"Sweden\", \"Indonesia\", \"Portugal\", \"Austria\", \"Philippines\", \"Denmark\", \"Canada\", \"Japan\", \"Ecuador\", \"Iraq\", \"Ireland\", \"Greece\", \"Egypt\", \"Romania\", \"Dominican Republic\", \"Malaysia\", \"Algeria\", \"India\", \"Morocco\", \"San Marino\"], \"y\": [10023, 5690, 3304, 2517, 2314, 2191, 1019, 639, 389, 353, 235, 152, 114, 108, 102, 102, 100, 68, 68, 65, 60, 52, 48, 42, 36, 32, 30, 29, 28, 27, 26, 25, 23, 22]}, {\"name\": \"\", \"type\": \"bar\", \"visible\": false, \"x\": [\"Italy\", \"Spain\", \"China\", \"Iran\", \"France\", \"United States of America\", \"United Kingdom\", \"Netherlands\", \"Germany\", \"Belgium\", \"Switzerland\", \"South Korea\", \"Brazil\", \"Turkey\", \"Portugal\", \"Indonesia\", \"Sweden\", \"Austria\", \"Denmark\", \"Philippines\", \"Canada\", \"Ecuador\", \"Japan\", \"Ireland\", \"Iraq\", \"Romania\", \"Dominican Republic\", \"Greece\", \"Egypt\", \"Malaysia\", \"India\", \"Algeria\", \"Morocco\", \"Panama\", \"San Marino\", \"Norway\", \"Poland\", \"Luxembourg\"], \"y\": [10781, 6528, 3306, 2640, 2606, 2509, 1228, 771, 455, 431, 257, 158, 136, 131, 119, 114, 110, 86, 72, 71, 61, 58, 54, 46, 42, 40, 39, 38, 36, 34, 29, 29, 26, 24, 24, 22, 22, 21]}, {\"name\": \"\", \"type\": \"bar\", \"visible\": false, \"x\": [\"Italy\", \"Spain\", \"China\", \"United States of America\", \"France\", \"Iran\", \"United Kingdom\", \"Netherlands\", \"Germany\", \"Belgium\", \"Switzerland\", \"Turkey\", \"South Korea\", \"Brazil\", \"Sweden\", \"Portugal\", \"Indonesia\", \"Austria\", \"Canada\", \"Philippines\", \"Denmark\", \"Ecuador\", \"Japan\", \"Ireland\", \"Iraq\", \"Romania\", \"Greece\", \"Dominican Republic\", \"Egypt\", \"Malaysia\", \"Morocco\", \"India\", \"Poland\", \"Algeria\", \"Mexico\", \"Panama\", \"Norway\", \"San Marino\", \"Argentina\", \"Peru\", \"Czech Republic\", \"Luxembourg\"], \"y\": [11591, 7340, 3309, 3170, 3024, 2757, 1408, 864, 583, 513, 295, 168, 163, 159, 146, 140, 122, 108, 89, 88, 77, 62, 56, 54, 46, 44, 43, 42, 40, 37, 33, 32, 31, 31, 28, 26, 26, 25, 24, 24, 24, 22]}, {\"name\": \"\", \"type\": \"bar\", \"visible\": false, \"x\": [\"Italy\", \"Spain\", \"United States of America\", \"France\", \"China\", \"Iran\", \"United Kingdom\", \"Netherlands\", \"Germany\", \"Belgium\", \"Switzerland\", \"Turkey\", \"Brazil\", \"Sweden\", \"South Korea\", \"Portugal\", \"Indonesia\", \"Austria\", \"Canada\", \"Denmark\", \"Philippines\", \"Ecuador\", \"Ireland\", \"Romania\", \"Japan\", \"Dominican Republic\", \"Iraq\", \"Greece\", \"Egypt\", \"Malaysia\", \"Morocco\", \"Algeria\", \"India\", \"Poland\", \"Czech Republic\", \"Peru\", \"Panama\", \"Mexico\", \"Norway\", \"San Marino\", \"Pakistan\", \"Argentina\", \"Serbia\", \"Luxembourg\"], \"y\": [12430, 8189, 4079, 3523, 3310, 2898, 1789, 1039, 732, 705, 373, 214, 201, 180, 163, 160, 136, 128, 96, 90, 88, 79, 71, 69, 56, 51, 50, 49, 41, 37, 36, 35, 35, 33, 31, 30, 30, 29, 28, 26, 26, 24, 23, 23]}, {\"name\": \"\", \"type\": \"bar\", \"visible\": false, \"x\": [\"Italy\", \"Spain\", \"United States of America\", \"France\", \"China\", \"Iran\", \"United Kingdom\", \"Netherlands\", \"Germany\", \"Belgium\", \"Switzerland\", \"Turkey\", \"Brazil\", \"Sweden\", \"Portugal\", \"South Korea\", \"Indonesia\", \"Austria\", \"Ecuador\", \"Canada\", \"Denmark\", \"Philippines\", \"Romania\", \"Ireland\", \"Algeria\", \"Japan\", \"Dominican Republic\", \"India\", \"Greece\", \"Iraq\", \"Peru\", \"Egypt\", \"Malaysia\", \"Poland\", \"Czech Republic\", \"Morocco\", \"Mexico\", \"Norway\", \"Panama\", \"Pakistan\", \"Argentina\", \"Luxembourg\", \"San Marino\", \"Russia\", \"Serbia\", \"Israel\", \"Australia\"], \"y\": [13157, 9053, 5138, 4032, 3316, 3036, 2532, 1173, 872, 828, 378, 277, 241, 239, 187, 169, 157, 146, 120, 109, 104, 96, 85, 85, 58, 57, 57, 50, 50, 50, 47, 46, 45, 43, 39, 39, 37, 32, 32, 31, 31, 29, 26, 24, 23, 21, 21]}, {\"name\": \"\", \"type\": \"bar\", \"visible\": false, \"x\": [\"Italy\", \"Spain\", \"United States of America\", \"France\", \"China\", \"Iran\", \"United Kingdom\", \"Netherlands\", \"Germany\", \"Belgium\", \"Switzerland\", \"Turkey\", \"Brazil\", \"Sweden\", \"Portugal\", \"South Korea\", \"Indonesia\", \"Austria\", \"Canada\", \"Denmark\", \"Ecuador\", \"Philippines\", \"Ireland\", \"Romania\", \"Japan\", \"Dominican Republic\", \"Algeria\", \"Poland\", \"India\", \"Peru\", \"Iraq\", \"Greece\", \"Egypt\", \"Malaysia\", \"Morocco\", \"Czech Republic\", \"Norway\", \"Panama\", \"Mexico\", \"Argentina\", \"Israel\", \"Pakistan\", \"Serbia\", \"San Marino\", \"Russia\", \"Luxembourg\", \"Australia\", \"Hungary\", \"Saudi Arabia\"], \"y\": [13917, 10003, 6053, 4503, 3326, 3160, 2921, 1339, 1017, 1011, 536, 356, 299, 282, 209, 174, 170, 158, 138, 123, 120, 107, 98, 94, 63, 60, 58, 57, 56, 55, 54, 53, 52, 50, 44, 44, 42, 37, 37, 34, 34, 31, 31, 30, 30, 30, 23, 21, 21]}, {\"name\": \"\", \"type\": \"bar\", \"visible\": false, \"x\": [\"Italy\", \"Spain\", \"United States of America\", \"France\", \"United Kingdom\", \"China\", \"Iran\", \"Netherlands\", \"Germany\", \"Belgium\", \"Switzerland\", \"Turkey\", \"Brazil\", \"Sweden\", \"Portugal\", \"Canada\", \"Indonesia\", \"South Korea\", \"Austria\", \"Ecuador\", \"Denmark\", \"Philippines\", \"Romania\", \"Ireland\", \"Algeria\", \"Poland\", \"Japan\", \"Dominican Republic\", \"India\", \"Peru\", \"Mexico\", \"Greece\", \"Iraq\", \"Czech Republic\", \"Malaysia\", \"Egypt\", \"Morocco\", \"Norway\", \"Panama\", \"Serbia\", \"Israel\", \"Argentina\", \"Russia\", \"San Marino\", \"Hungary\", \"Pakistan\", \"Luxembourg\", \"Australia\", \"Colombia\", \"Ukraine\", \"Chile\", \"Saudi Arabia\"], \"y\": [14681, 10935, 7157, 6507, 3605, 3330, 3160, 1487, 1158, 1143, 607, 425, 359, 333, 246, 187, 181, 177, 168, 145, 139, 136, 133, 120, 83, 71, 69, 68, 68, 61, 60, 59, 54, 53, 53, 52, 44, 44, 41, 39, 39, 37, 34, 32, 32, 31, 31, 30, 25, 23, 22, 21]}, {\"name\": \"\", \"type\": \"bar\", \"visible\": false, \"x\": [\"Italy\", \"Spain\", \"United States of America\", \"France\", \"United Kingdom\", \"Iran\", \"China\", \"Netherlands\", \"Germany\", \"Belgium\", \"Switzerland\", \"Turkey\", \"Brazil\", \"Sweden\", \"Portugal\", \"Canada\", \"Indonesia\", \"Austria\", \"South Korea\", \"Ecuador\", \"Denmark\", \"Philippines\", \"Romania\", \"Ireland\", \"Algeria\", \"Poland\", \"Mexico\", \"Dominican Republic\", \"India\", \"Peru\", \"Japan\", \"Greece\", \"Egypt\", \"Czech Republic\", \"Morocco\", \"Malaysia\", \"Iraq\", \"Norway\", \"Panama\", \"Israel\", \"Serbia\", \"Russia\", \"Argentina\", \"Pakistan\", \"Hungary\", \"Australia\", \"San Marino\", \"Colombia\", \"Luxembourg\", \"Saudi Arabia\", \"Ukraine\", \"Chile\", \"Finland\", \"Thailand\", \"Slovenia\", \"Honduras\", \"Bosnia and Herzegovina\"], \"y\": [15362, 11744, 8501, 7560, 4313, 3452, 3333, 1651, 1342, 1283, 666, 501, 432, 373, 266, 231, 191, 186, 183, 172, 161, 144, 141, 137, 130, 79, 79, 77, 77, 73, 70, 68, 66, 59, 59, 57, 56, 50, 46, 46, 44, 43, 43, 35, 34, 34, 32, 32, 31, 29, 28, 27, 25, 23, 22, 22, 21]}, {\"name\": \"\", \"type\": \"bar\", \"visible\": false, \"x\": [\"Italy\", \"Spain\", \"United States of America\", \"France\", \"United Kingdom\", \"Iran\", \"China\", \"Belgium\", \"Germany\", \"Switzerland\", \"Turkey\", \"Brazil\", \"Sweden\", \"Portugal\", \"Canada\", \"Austria\", \"Indonesia\", \"South Korea\", \"Ecuador\", \"Denmark\", \"Ireland\", \"Algeria\", \"Philippines\", \"Romania\", \"India\", \"Mexico\", \"Poland\", \"Peru\", \"Dominican Republic\", \"Japan\", \"Greece\", \"Egypt\", \"Morocco\", \"Czech Republic\", \"Malaysia\", \"Iraq\", \"Norway\", \"Panama\", \"Serbia\", \"Pakistan\", \"Israel\", \"Argentina\", \"Russia\", \"Hungary\", \"Luxembourg\", \"Australia\", \"Colombia\", \"Saudi Arabia\", \"Chile\", \"San Marino\", \"Ukraine\", \"Slovenia\", \"Finland\", \"Thailand\", \"Bosnia and Herzegovina\", \"Honduras\", \"Albania\"], \"y\": [15889, 12418, 9647, 8078, 4934, 3603, 3335, 1447, 1434, 715, 574, 486, 401, 295, 280, 204, 198, 186, 180, 179, 158, 152, 152, 148, 109, 94, 94, 83, 82, 73, 73, 71, 70, 67, 61, 61, 58, 54, 51, 50, 49, 46, 45, 38, 36, 36, 35, 34, 34, 32, 32, 28, 28, 26, 24, 22, 21]}],\n",
       "                        {\"height\": 800, \"sliders\": [{\"active\": 0, \"currentvalue\": {\"prefix\": \"Date: \"}, \"pad\": {\"t\": 50}, \"steps\": [{\"args\": [\"visible\", [true, false, false, false, false, false, false, false, false, false, false, false, false, false, false, false, false, false, false, false, false, false, false, false, false, false, false, false, false, false, false, false, false, false, false, false, false, false, false, false, false, false, false, false, false, false, false, false, false, false, false]], \"label\": \"16 Feb\", \"method\": \"restyle\"}, {\"args\": [\"visible\", [false, true, false, false, false, false, false, false, false, false, false, false, false, false, false, false, false, false, false, false, false, false, false, false, false, false, false, false, false, false, false, false, false, false, false, false, false, false, false, false, false, false, false, false, false, false, false, false, false, false, false]], \"label\": \"17 Feb\", \"method\": \"restyle\"}, {\"args\": [\"visible\", [false, false, true, false, false, false, false, false, false, false, false, false, false, false, false, false, false, false, false, false, false, false, false, false, false, false, false, false, false, false, false, false, false, false, false, false, false, false, false, false, false, false, false, false, false, false, false, false, false, false, false]], \"label\": \"18 Feb\", \"method\": \"restyle\"}, {\"args\": [\"visible\", [false, false, false, true, false, false, false, false, false, false, false, false, false, false, false, false, false, false, false, false, false, false, false, false, false, false, false, false, false, false, false, false, false, false, false, false, false, false, false, false, false, false, false, false, false, false, false, false, false, false, false]], \"label\": \"19 Feb\", \"method\": \"restyle\"}, {\"args\": [\"visible\", [false, false, false, false, true, false, false, false, false, false, false, false, false, false, false, false, false, false, false, false, false, false, false, false, false, false, false, false, false, false, false, false, false, false, false, false, false, false, false, false, false, false, false, false, false, false, false, false, false, false, false]], \"label\": \"20 Feb\", \"method\": \"restyle\"}, {\"args\": [\"visible\", [false, false, false, false, false, true, false, false, false, false, false, false, false, false, false, false, false, false, false, false, false, false, false, false, false, false, false, false, false, false, false, false, false, false, false, false, false, false, false, false, false, false, false, false, false, false, false, false, false, false, false]], \"label\": \"21 Feb\", \"method\": \"restyle\"}, {\"args\": [\"visible\", [false, false, false, false, false, false, true, false, false, false, false, false, false, false, false, false, false, false, false, false, false, false, false, false, false, false, false, false, false, false, false, false, false, false, false, false, false, false, false, false, false, false, false, false, false, false, false, false, false, false, false]], \"label\": \"22 Feb\", \"method\": \"restyle\"}, {\"args\": [\"visible\", [false, false, false, false, false, false, false, true, false, false, false, false, false, false, false, false, false, false, false, false, false, false, false, false, false, false, false, false, false, false, false, false, false, false, false, false, false, false, false, false, false, false, false, false, false, false, false, false, false, false, false]], \"label\": \"23 Feb\", \"method\": \"restyle\"}, {\"args\": [\"visible\", [false, false, false, false, false, false, false, false, true, false, false, false, false, false, false, false, false, false, false, false, false, false, false, false, false, false, false, false, false, false, false, false, false, false, false, false, false, false, false, false, false, false, false, false, false, false, false, false, false, false, false]], \"label\": \"24 Feb\", \"method\": \"restyle\"}, {\"args\": [\"visible\", [false, false, false, false, false, false, false, false, false, true, false, false, false, false, false, false, false, false, false, false, false, false, false, false, false, false, false, false, false, false, false, false, false, false, false, false, false, false, false, false, false, false, false, false, false, false, false, false, false, false, false]], \"label\": \"25 Feb\", \"method\": \"restyle\"}, {\"args\": [\"visible\", [false, false, false, false, false, false, false, false, false, false, true, false, false, false, false, false, false, false, false, false, false, false, false, false, false, false, false, false, false, false, false, false, false, false, false, false, false, false, false, false, false, false, false, false, false, false, false, false, false, false, false]], \"label\": \"26 Feb\", \"method\": \"restyle\"}, {\"args\": [\"visible\", [false, false, false, false, false, false, false, false, false, false, false, true, false, false, false, false, false, false, false, false, false, false, false, false, false, false, false, false, false, false, false, false, false, false, false, false, false, false, false, false, false, false, false, false, false, false, false, false, false, false, false]], \"label\": \"27 Feb\", \"method\": \"restyle\"}, {\"args\": [\"visible\", [false, false, false, false, false, false, false, false, false, false, false, false, true, false, false, false, false, false, false, false, false, false, false, false, false, false, false, false, false, false, false, false, false, false, false, false, false, false, false, false, false, false, false, false, false, false, false, false, false, false, false]], \"label\": \"28 Feb\", \"method\": \"restyle\"}, {\"args\": [\"visible\", [false, false, false, false, false, false, false, false, false, false, false, false, false, true, false, false, false, false, false, false, false, false, false, false, false, false, false, false, false, false, false, false, false, false, false, false, false, false, false, false, false, false, false, false, false, false, false, false, false, false, false]], \"label\": \"29 Feb\", \"method\": \"restyle\"}, {\"args\": [\"visible\", [false, false, false, false, false, false, false, false, false, false, false, false, false, false, true, false, false, false, false, false, false, false, false, false, false, false, false, false, false, false, false, false, false, false, false, false, false, false, false, false, false, false, false, false, false, false, false, false, false, false, false]], \"label\": \"01 Mar\", \"method\": \"restyle\"}, {\"args\": [\"visible\", [false, false, false, false, false, false, false, false, false, false, false, false, false, false, false, true, false, false, false, false, false, false, false, false, false, false, false, false, false, false, false, false, false, false, false, false, false, false, false, false, false, false, false, false, false, false, false, false, false, false, false]], \"label\": \"02 Mar\", \"method\": \"restyle\"}, {\"args\": [\"visible\", [false, false, false, false, false, false, false, false, false, false, false, false, false, false, false, false, true, false, false, false, false, false, false, false, false, false, false, false, false, false, false, false, false, false, false, false, false, false, false, false, false, false, false, false, false, false, false, false, false, false, false]], \"label\": \"03 Mar\", \"method\": \"restyle\"}, {\"args\": [\"visible\", [false, false, false, false, false, false, false, false, false, false, false, false, false, false, false, false, false, true, false, false, false, false, false, false, false, false, false, false, false, false, false, false, false, false, false, false, false, false, false, false, false, false, false, false, false, false, false, false, false, false, false]], \"label\": \"04 Mar\", \"method\": \"restyle\"}, {\"args\": [\"visible\", [false, false, false, false, false, false, false, false, false, false, false, false, false, false, false, false, false, false, true, false, false, false, false, false, false, false, false, false, false, false, false, false, false, false, false, false, false, false, false, false, false, false, false, false, false, false, false, false, false, false, false]], \"label\": \"05 Mar\", \"method\": \"restyle\"}, {\"args\": [\"visible\", [false, false, false, false, false, false, false, false, false, false, false, false, false, false, false, false, false, false, false, true, false, false, false, false, false, false, false, false, false, false, false, false, false, false, false, false, false, false, false, false, false, false, false, false, false, false, false, false, false, false, false]], \"label\": \"06 Mar\", \"method\": \"restyle\"}, {\"args\": [\"visible\", [false, false, false, false, false, false, false, false, false, false, false, false, false, false, false, false, false, false, false, false, true, false, false, false, false, false, false, false, false, false, false, false, false, false, false, false, false, false, false, false, false, false, false, false, false, false, false, false, false, false, false]], \"label\": \"07 Mar\", \"method\": \"restyle\"}, {\"args\": [\"visible\", [false, false, false, false, false, false, false, false, false, false, false, false, false, false, false, false, false, false, false, false, false, true, false, false, false, false, false, false, false, false, false, false, false, false, false, false, false, false, false, false, false, false, false, false, false, false, false, false, false, false, false]], \"label\": \"08 Mar\", \"method\": \"restyle\"}, {\"args\": [\"visible\", [false, false, false, false, false, false, false, false, false, false, false, false, false, false, false, false, false, false, false, false, false, false, true, false, false, false, false, false, false, false, false, false, false, false, false, false, false, false, false, false, false, false, false, false, false, false, false, false, false, false, false]], \"label\": \"09 Mar\", \"method\": \"restyle\"}, {\"args\": [\"visible\", [false, false, false, false, false, false, false, false, false, false, false, false, false, false, false, false, false, false, false, false, false, false, false, true, false, false, false, false, false, false, false, false, false, false, false, false, false, false, false, false, false, false, false, false, false, false, false, false, false, false, false]], \"label\": \"10 Mar\", \"method\": \"restyle\"}, {\"args\": [\"visible\", [false, false, false, false, false, false, false, false, false, false, false, false, false, false, false, false, false, false, false, false, false, false, false, false, true, false, false, false, false, false, false, false, false, false, false, false, false, false, false, false, false, false, false, false, false, false, false, false, false, false, false]], \"label\": \"11 Mar\", \"method\": \"restyle\"}, {\"args\": [\"visible\", [false, false, false, false, false, false, false, false, false, false, false, false, false, false, false, false, false, false, false, false, false, false, false, false, false, true, false, false, false, false, false, false, false, false, false, false, false, false, false, false, false, false, false, false, false, false, false, false, false, false, false]], \"label\": \"12 Mar\", \"method\": \"restyle\"}, {\"args\": [\"visible\", [false, false, false, false, false, false, false, false, false, false, false, false, false, false, false, false, false, false, false, false, false, false, false, false, false, false, true, false, false, false, false, false, false, false, false, false, false, false, false, false, false, false, false, false, false, false, false, false, false, false, false]], \"label\": \"13 Mar\", \"method\": \"restyle\"}, {\"args\": [\"visible\", [false, false, false, false, false, false, false, false, false, false, false, false, false, false, false, false, false, false, false, false, false, false, false, false, false, false, false, true, false, false, false, false, false, false, false, false, false, false, false, false, false, false, false, false, false, false, false, false, false, false, false]], \"label\": \"14 Mar\", \"method\": \"restyle\"}, {\"args\": [\"visible\", [false, false, false, false, false, false, false, false, false, false, false, false, false, false, false, false, false, false, false, false, false, false, false, false, false, false, false, false, true, false, false, false, false, false, false, false, false, false, false, false, false, false, false, false, false, false, false, false, false, false, false]], \"label\": \"15 Mar\", \"method\": \"restyle\"}, {\"args\": [\"visible\", [false, false, false, false, false, false, false, false, false, false, false, false, false, false, false, false, false, false, false, false, false, false, false, false, false, false, false, false, false, true, false, false, false, false, false, false, false, false, false, false, false, false, false, false, false, false, false, false, false, false, false]], \"label\": \"16 Mar\", \"method\": \"restyle\"}, {\"args\": [\"visible\", [false, false, false, false, false, false, false, false, false, false, false, false, false, false, false, false, false, false, false, false, false, false, false, false, false, false, false, false, false, false, true, false, false, false, false, false, false, false, false, false, false, false, false, false, false, false, false, false, false, false, false]], \"label\": \"17 Mar\", \"method\": \"restyle\"}, {\"args\": [\"visible\", [false, false, false, false, false, false, false, false, false, false, false, false, false, false, false, false, false, false, false, false, false, false, false, false, false, false, false, false, false, false, false, true, false, false, false, false, false, false, false, false, false, false, false, false, false, false, false, false, false, false, false]], \"label\": \"18 Mar\", \"method\": \"restyle\"}, {\"args\": [\"visible\", [false, false, false, false, false, false, false, false, false, false, false, false, false, false, false, false, false, false, false, false, false, false, false, false, false, false, false, false, false, false, false, false, true, false, false, false, false, false, false, false, false, false, false, false, false, false, false, false, false, false, false]], \"label\": \"19 Mar\", \"method\": \"restyle\"}, {\"args\": [\"visible\", [false, false, false, false, false, false, false, false, false, false, false, false, false, false, false, false, false, false, false, false, false, false, false, false, false, false, false, false, false, false, false, false, false, true, false, false, false, false, false, false, false, false, false, false, false, false, false, false, false, false, false]], \"label\": \"20 Mar\", \"method\": \"restyle\"}, {\"args\": [\"visible\", [false, false, false, false, false, false, false, false, false, false, false, false, false, false, false, false, false, false, false, false, false, false, false, false, false, false, false, false, false, false, false, false, false, false, true, false, false, false, false, false, false, false, false, false, false, false, false, false, false, false, false]], \"label\": \"21 Mar\", \"method\": \"restyle\"}, {\"args\": [\"visible\", [false, false, false, false, false, false, false, false, false, false, false, false, false, false, false, false, false, false, false, false, false, false, false, false, false, false, false, false, false, false, false, false, false, false, false, true, false, false, false, false, false, false, false, false, false, false, false, false, false, false, false]], \"label\": \"22 Mar\", \"method\": \"restyle\"}, {\"args\": [\"visible\", [false, false, false, false, false, false, false, false, false, false, false, false, false, false, false, false, false, false, false, false, false, false, false, false, false, false, false, false, false, false, false, false, false, false, false, false, true, false, false, false, false, false, false, false, false, false, false, false, false, false, false]], \"label\": \"23 Mar\", \"method\": \"restyle\"}, {\"args\": [\"visible\", [false, false, false, false, false, false, false, false, false, false, false, false, false, false, false, false, false, false, false, false, false, false, false, false, false, false, false, false, false, false, false, false, false, false, false, false, false, true, false, false, false, false, false, false, false, false, false, false, false, false, false]], \"label\": \"24 Mar\", \"method\": \"restyle\"}, {\"args\": [\"visible\", [false, false, false, false, false, false, false, false, false, false, false, false, false, false, false, false, false, false, false, false, false, false, false, false, false, false, false, false, false, false, false, false, false, false, false, false, false, false, true, false, false, false, false, false, false, false, false, false, false, false, false]], \"label\": \"25 Mar\", \"method\": \"restyle\"}, {\"args\": [\"visible\", [false, false, false, false, false, false, false, false, false, false, false, false, false, false, false, false, false, false, false, false, false, false, false, false, false, false, false, false, false, false, false, false, false, false, false, false, false, false, false, true, false, false, false, false, false, false, false, false, false, false, false]], \"label\": \"26 Mar\", \"method\": \"restyle\"}, {\"args\": [\"visible\", [false, false, false, false, false, false, false, false, false, false, false, false, false, false, false, false, false, false, false, false, false, false, false, false, false, false, false, false, false, false, false, false, false, false, false, false, false, false, false, false, true, false, false, false, false, false, false, false, false, false, false]], \"label\": \"27 Mar\", \"method\": \"restyle\"}, {\"args\": [\"visible\", [false, false, false, false, false, false, false, false, false, false, false, false, false, false, false, false, false, false, false, false, false, false, false, false, false, false, false, false, false, false, false, false, false, false, false, false, false, false, false, false, false, true, false, false, false, false, false, false, false, false, false]], \"label\": \"28 Mar\", \"method\": \"restyle\"}, {\"args\": [\"visible\", [false, false, false, false, false, false, false, false, false, false, false, false, false, false, false, false, false, false, false, false, false, false, false, false, false, false, false, false, false, false, false, false, false, false, false, false, false, false, false, false, false, false, true, false, false, false, false, false, false, false, false]], \"label\": \"29 Mar\", \"method\": \"restyle\"}, {\"args\": [\"visible\", [false, false, false, false, false, false, false, false, false, false, false, false, false, false, false, false, false, false, false, false, false, false, false, false, false, false, false, false, false, false, false, false, false, false, false, false, false, false, false, false, false, false, false, true, false, false, false, false, false, false, false]], \"label\": \"30 Mar\", \"method\": \"restyle\"}, {\"args\": [\"visible\", [false, false, false, false, false, false, false, false, false, false, false, false, false, false, false, false, false, false, false, false, false, false, false, false, false, false, false, false, false, false, false, false, false, false, false, false, false, false, false, false, false, false, false, false, true, false, false, false, false, false, false]], \"label\": \"31 Mar\", \"method\": \"restyle\"}, {\"args\": [\"visible\", [false, false, false, false, false, false, false, false, false, false, false, false, false, false, false, false, false, false, false, false, false, false, false, false, false, false, false, false, false, false, false, false, false, false, false, false, false, false, false, false, false, false, false, false, false, true, false, false, false, false, false]], \"label\": \"01 Apr\", \"method\": \"restyle\"}, {\"args\": [\"visible\", [false, false, false, false, false, false, false, false, false, false, false, false, false, false, false, false, false, false, false, false, false, false, false, false, false, false, false, false, false, false, false, false, false, false, false, false, false, false, false, false, false, false, false, false, false, false, true, false, false, false, false]], \"label\": \"02 Apr\", \"method\": \"restyle\"}, {\"args\": [\"visible\", [false, false, false, false, false, false, false, false, false, false, false, false, false, false, false, false, false, false, false, false, false, false, false, false, false, false, false, false, false, false, false, false, false, false, false, false, false, false, false, false, false, false, false, false, false, false, false, true, false, false, false]], \"label\": \"03 Apr\", \"method\": \"restyle\"}, {\"args\": [\"visible\", [false, false, false, false, false, false, false, false, false, false, false, false, false, false, false, false, false, false, false, false, false, false, false, false, false, false, false, false, false, false, false, false, false, false, false, false, false, false, false, false, false, false, false, false, false, false, false, false, true, false, false]], \"label\": \"04 Apr\", \"method\": \"restyle\"}, {\"args\": [\"visible\", [false, false, false, false, false, false, false, false, false, false, false, false, false, false, false, false, false, false, false, false, false, false, false, false, false, false, false, false, false, false, false, false, false, false, false, false, false, false, false, false, false, false, false, false, false, false, false, false, false, true, false]], \"label\": \"05 Apr\", \"method\": \"restyle\"}, {\"args\": [\"visible\", [false, false, false, false, false, false, false, false, false, false, false, false, false, false, false, false, false, false, false, false, false, false, false, false, false, false, false, false, false, false, false, false, false, false, false, false, false, false, false, false, false, false, false, false, false, false, false, false, false, false, true]], \"label\": \"06 Apr\", \"method\": \"restyle\"}], \"y\": 2}], \"template\": {\"data\": {\"bar\": [{\"error_x\": {\"color\": \"#2a3f5f\"}, \"error_y\": {\"color\": \"#2a3f5f\"}, \"marker\": {\"line\": {\"color\": \"#E5ECF6\", \"width\": 0.5}}, \"type\": \"bar\"}], \"barpolar\": [{\"marker\": {\"line\": {\"color\": \"#E5ECF6\", \"width\": 0.5}}, \"type\": \"barpolar\"}], \"carpet\": [{\"aaxis\": {\"endlinecolor\": \"#2a3f5f\", \"gridcolor\": \"white\", \"linecolor\": \"white\", \"minorgridcolor\": \"white\", \"startlinecolor\": \"#2a3f5f\"}, \"baxis\": {\"endlinecolor\": \"#2a3f5f\", \"gridcolor\": \"white\", \"linecolor\": \"white\", \"minorgridcolor\": \"white\", \"startlinecolor\": \"#2a3f5f\"}, \"type\": \"carpet\"}], \"choropleth\": [{\"colorbar\": {\"outlinewidth\": 0, \"ticks\": \"\"}, \"type\": \"choropleth\"}], \"contour\": [{\"colorbar\": {\"outlinewidth\": 0, \"ticks\": \"\"}, \"colorscale\": [[0.0, \"#0d0887\"], [0.1111111111111111, \"#46039f\"], [0.2222222222222222, \"#7201a8\"], [0.3333333333333333, \"#9c179e\"], [0.4444444444444444, \"#bd3786\"], [0.5555555555555556, \"#d8576b\"], [0.6666666666666666, \"#ed7953\"], [0.7777777777777778, \"#fb9f3a\"], [0.8888888888888888, \"#fdca26\"], [1.0, \"#f0f921\"]], \"type\": \"contour\"}], \"contourcarpet\": [{\"colorbar\": {\"outlinewidth\": 0, \"ticks\": \"\"}, \"type\": \"contourcarpet\"}], \"heatmap\": [{\"colorbar\": {\"outlinewidth\": 0, \"ticks\": \"\"}, \"colorscale\": [[0.0, \"#0d0887\"], [0.1111111111111111, \"#46039f\"], [0.2222222222222222, \"#7201a8\"], [0.3333333333333333, \"#9c179e\"], [0.4444444444444444, \"#bd3786\"], [0.5555555555555556, \"#d8576b\"], [0.6666666666666666, \"#ed7953\"], [0.7777777777777778, \"#fb9f3a\"], [0.8888888888888888, \"#fdca26\"], [1.0, \"#f0f921\"]], \"type\": \"heatmap\"}], \"heatmapgl\": [{\"colorbar\": {\"outlinewidth\": 0, \"ticks\": \"\"}, \"colorscale\": [[0.0, \"#0d0887\"], [0.1111111111111111, \"#46039f\"], [0.2222222222222222, \"#7201a8\"], [0.3333333333333333, \"#9c179e\"], [0.4444444444444444, \"#bd3786\"], [0.5555555555555556, \"#d8576b\"], [0.6666666666666666, \"#ed7953\"], [0.7777777777777778, \"#fb9f3a\"], [0.8888888888888888, \"#fdca26\"], [1.0, \"#f0f921\"]], \"type\": \"heatmapgl\"}], \"histogram\": [{\"marker\": {\"colorbar\": {\"outlinewidth\": 0, \"ticks\": \"\"}}, \"type\": \"histogram\"}], \"histogram2d\": [{\"colorbar\": {\"outlinewidth\": 0, \"ticks\": \"\"}, \"colorscale\": [[0.0, \"#0d0887\"], [0.1111111111111111, \"#46039f\"], [0.2222222222222222, \"#7201a8\"], [0.3333333333333333, \"#9c179e\"], [0.4444444444444444, \"#bd3786\"], [0.5555555555555556, \"#d8576b\"], [0.6666666666666666, \"#ed7953\"], [0.7777777777777778, \"#fb9f3a\"], [0.8888888888888888, \"#fdca26\"], [1.0, \"#f0f921\"]], \"type\": \"histogram2d\"}], \"histogram2dcontour\": [{\"colorbar\": {\"outlinewidth\": 0, \"ticks\": \"\"}, \"colorscale\": [[0.0, \"#0d0887\"], [0.1111111111111111, \"#46039f\"], [0.2222222222222222, \"#7201a8\"], [0.3333333333333333, \"#9c179e\"], [0.4444444444444444, \"#bd3786\"], [0.5555555555555556, \"#d8576b\"], [0.6666666666666666, \"#ed7953\"], [0.7777777777777778, \"#fb9f3a\"], [0.8888888888888888, \"#fdca26\"], [1.0, \"#f0f921\"]], \"type\": \"histogram2dcontour\"}], \"mesh3d\": [{\"colorbar\": {\"outlinewidth\": 0, \"ticks\": \"\"}, \"type\": \"mesh3d\"}], \"parcoords\": [{\"line\": {\"colorbar\": {\"outlinewidth\": 0, \"ticks\": \"\"}}, \"type\": \"parcoords\"}], \"pie\": [{\"automargin\": true, \"type\": \"pie\"}], \"scatter\": [{\"marker\": {\"colorbar\": {\"outlinewidth\": 0, \"ticks\": \"\"}}, \"type\": \"scatter\"}], \"scatter3d\": [{\"line\": {\"colorbar\": {\"outlinewidth\": 0, \"ticks\": \"\"}}, \"marker\": {\"colorbar\": {\"outlinewidth\": 0, \"ticks\": \"\"}}, \"type\": \"scatter3d\"}], \"scattercarpet\": [{\"marker\": {\"colorbar\": {\"outlinewidth\": 0, \"ticks\": \"\"}}, \"type\": \"scattercarpet\"}], \"scattergeo\": [{\"marker\": {\"colorbar\": {\"outlinewidth\": 0, \"ticks\": \"\"}}, \"type\": \"scattergeo\"}], \"scattergl\": [{\"marker\": {\"colorbar\": {\"outlinewidth\": 0, \"ticks\": \"\"}}, \"type\": \"scattergl\"}], \"scattermapbox\": [{\"marker\": {\"colorbar\": {\"outlinewidth\": 0, \"ticks\": \"\"}}, \"type\": \"scattermapbox\"}], \"scatterpolar\": [{\"marker\": {\"colorbar\": {\"outlinewidth\": 0, \"ticks\": \"\"}}, \"type\": \"scatterpolar\"}], \"scatterpolargl\": [{\"marker\": {\"colorbar\": {\"outlinewidth\": 0, \"ticks\": \"\"}}, \"type\": \"scatterpolargl\"}], \"scatterternary\": [{\"marker\": {\"colorbar\": {\"outlinewidth\": 0, \"ticks\": \"\"}}, \"type\": \"scatterternary\"}], \"surface\": [{\"colorbar\": {\"outlinewidth\": 0, \"ticks\": \"\"}, \"colorscale\": [[0.0, \"#0d0887\"], [0.1111111111111111, \"#46039f\"], [0.2222222222222222, \"#7201a8\"], [0.3333333333333333, \"#9c179e\"], [0.4444444444444444, \"#bd3786\"], [0.5555555555555556, \"#d8576b\"], [0.6666666666666666, \"#ed7953\"], [0.7777777777777778, \"#fb9f3a\"], [0.8888888888888888, \"#fdca26\"], [1.0, \"#f0f921\"]], \"type\": \"surface\"}], \"table\": [{\"cells\": {\"fill\": {\"color\": \"#EBF0F8\"}, \"line\": {\"color\": \"white\"}}, \"header\": {\"fill\": {\"color\": \"#C8D4E3\"}, \"line\": {\"color\": \"white\"}}, \"type\": \"table\"}]}, \"layout\": {\"annotationdefaults\": {\"arrowcolor\": \"#2a3f5f\", \"arrowhead\": 0, \"arrowwidth\": 1}, \"coloraxis\": {\"colorbar\": {\"outlinewidth\": 0, \"ticks\": \"\"}}, \"colorscale\": {\"diverging\": [[0, \"#8e0152\"], [0.1, \"#c51b7d\"], [0.2, \"#de77ae\"], [0.3, \"#f1b6da\"], [0.4, \"#fde0ef\"], [0.5, \"#f7f7f7\"], [0.6, \"#e6f5d0\"], [0.7, \"#b8e186\"], [0.8, \"#7fbc41\"], [0.9, \"#4d9221\"], [1, \"#276419\"]], \"sequential\": [[0.0, \"#0d0887\"], [0.1111111111111111, \"#46039f\"], [0.2222222222222222, \"#7201a8\"], [0.3333333333333333, \"#9c179e\"], [0.4444444444444444, \"#bd3786\"], [0.5555555555555556, \"#d8576b\"], [0.6666666666666666, \"#ed7953\"], [0.7777777777777778, \"#fb9f3a\"], [0.8888888888888888, \"#fdca26\"], [1.0, \"#f0f921\"]], \"sequentialminus\": [[0.0, \"#0d0887\"], [0.1111111111111111, \"#46039f\"], [0.2222222222222222, \"#7201a8\"], [0.3333333333333333, \"#9c179e\"], [0.4444444444444444, \"#bd3786\"], [0.5555555555555556, \"#d8576b\"], [0.6666666666666666, \"#ed7953\"], [0.7777777777777778, \"#fb9f3a\"], [0.8888888888888888, \"#fdca26\"], [1.0, \"#f0f921\"]]}, \"colorway\": [\"#636efa\", \"#EF553B\", \"#00cc96\", \"#ab63fa\", \"#FFA15A\", \"#19d3f3\", \"#FF6692\", \"#B6E880\", \"#FF97FF\", \"#FECB52\"], \"font\": {\"color\": \"#2a3f5f\"}, \"geo\": {\"bgcolor\": \"white\", \"lakecolor\": \"white\", \"landcolor\": \"#E5ECF6\", \"showlakes\": true, \"showland\": true, \"subunitcolor\": \"white\"}, \"hoverlabel\": {\"align\": \"left\"}, \"hovermode\": \"closest\", \"mapbox\": {\"style\": \"light\"}, \"paper_bgcolor\": \"white\", \"plot_bgcolor\": \"#E5ECF6\", \"polar\": {\"angularaxis\": {\"gridcolor\": \"white\", \"linecolor\": \"white\", \"ticks\": \"\"}, \"bgcolor\": \"#E5ECF6\", \"radialaxis\": {\"gridcolor\": \"white\", \"linecolor\": \"white\", \"ticks\": \"\"}}, \"scene\": {\"xaxis\": {\"backgroundcolor\": \"#E5ECF6\", \"gridcolor\": \"white\", \"gridwidth\": 2, \"linecolor\": \"white\", \"showbackground\": true, \"ticks\": \"\", \"zerolinecolor\": \"white\"}, \"yaxis\": {\"backgroundcolor\": \"#E5ECF6\", \"gridcolor\": \"white\", \"gridwidth\": 2, \"linecolor\": \"white\", \"showbackground\": true, \"ticks\": \"\", \"zerolinecolor\": \"white\"}, \"zaxis\": {\"backgroundcolor\": \"#E5ECF6\", \"gridcolor\": \"white\", \"gridwidth\": 2, \"linecolor\": \"white\", \"showbackground\": true, \"ticks\": \"\", \"zerolinecolor\": \"white\"}}, \"shapedefaults\": {\"line\": {\"color\": \"#2a3f5f\"}}, \"ternary\": {\"aaxis\": {\"gridcolor\": \"white\", \"linecolor\": \"white\", \"ticks\": \"\"}, \"baxis\": {\"gridcolor\": \"white\", \"linecolor\": \"white\", \"ticks\": \"\"}, \"bgcolor\": \"#E5ECF6\", \"caxis\": {\"gridcolor\": \"white\", \"linecolor\": \"white\", \"ticks\": \"\"}}, \"title\": {\"x\": 0.05}, \"xaxis\": {\"automargin\": true, \"gridcolor\": \"white\", \"linecolor\": \"white\", \"ticks\": \"\", \"title\": {\"standoff\": 15}, \"zerolinecolor\": \"white\", \"zerolinewidth\": 2}, \"yaxis\": {\"automargin\": true, \"gridcolor\": \"white\", \"linecolor\": \"white\", \"ticks\": \"\", \"title\": {\"standoff\": 15}, \"zerolinecolor\": \"white\", \"zerolinewidth\": 2}}}, \"title\": {\"text\": \"Total deaths\"}, \"updatemenus\": [{\"buttons\": [{\"args\": [null], \"label\": \"Play\", \"method\": \"animate\"}, {\"args\": [null, {\"mode\": \"immediate\"}], \"label\": \"Pause\", \"method\": \"animate\"}], \"type\": \"buttons\"}], \"yaxis\": {\"range\": [0, 18000]}},\n",
       "                        {\"responsive\": true}\n",
       "                    ).then(function(){\n",
       "                            Plotly.addFrames('19fd2e73-9926-455a-8aae-815c3466ebec', [{\"data\": [{\"name\": \"\", \"x\": [\"China\"], \"y\": [1666], \"type\": \"bar\"}]}, {\"data\": [{\"name\": \"\", \"x\": [\"China\"], \"y\": [1771], \"type\": \"bar\"}]}, {\"data\": [{\"name\": \"\", \"x\": [\"China\"], \"y\": [1869], \"type\": \"bar\"}]}, {\"data\": [{\"name\": \"\", \"x\": [\"China\"], \"y\": [2008], \"type\": \"bar\"}]}, {\"data\": [{\"name\": \"\", \"x\": [\"China\"], \"y\": [2120], \"type\": \"bar\"}]}, {\"data\": [{\"name\": \"\", \"x\": [\"China\"], \"y\": [2238], \"type\": \"bar\"}]}, {\"data\": [{\"name\": \"\", \"x\": [\"China\"], \"y\": [2347], \"type\": \"bar\"}]}, {\"data\": [{\"name\": \"\", \"x\": [\"China\"], \"y\": [2445], \"type\": \"bar\"}]}, {\"data\": [{\"name\": \"\", \"x\": [\"China\"], \"y\": [2595], \"type\": \"bar\"}]}, {\"data\": [{\"name\": \"\", \"x\": [\"China\"], \"y\": [2665], \"type\": \"bar\"}]}, {\"data\": [{\"name\": \"\", \"x\": [\"China\"], \"y\": [2717], \"type\": \"bar\"}]}, {\"data\": [{\"name\": \"\", \"x\": [\"China\"], \"y\": [2746], \"type\": \"bar\"}]}, {\"data\": [{\"name\": \"\", \"x\": [\"China\", \"Iran\"], \"y\": [2790, 26], \"type\": \"bar\"}]}, {\"data\": [{\"name\": \"\", \"x\": [\"China\", \"Iran\", \"Italy\"], \"y\": [2837, 34, 21], \"type\": \"bar\"}]}, {\"data\": [{\"name\": \"\", \"x\": [\"China\", \"Iran\", \"Italy\"], \"y\": [2872, 43, 29], \"type\": \"bar\"}]}, {\"data\": [{\"name\": \"\", \"x\": [\"China\", \"Iran\", \"Italy\", \"South Korea\"], \"y\": [2914, 54, 35, 22], \"type\": \"bar\"}]}, {\"data\": [{\"name\": \"\", \"x\": [\"China\", \"Iran\", \"Italy\", \"South Korea\"], \"y\": [2946, 66, 52, 28], \"type\": \"bar\"}]}, {\"data\": [{\"name\": \"\", \"x\": [\"China\", \"Italy\", \"Iran\", \"South Korea\"], \"y\": [2983, 80, 77, 32], \"type\": \"bar\"}]}, {\"data\": [{\"name\": \"\", \"x\": [\"China\", \"Italy\", \"Iran\", \"South Korea\"], \"y\": [3014, 107, 92, 35], \"type\": \"bar\"}]}, {\"data\": [{\"name\": \"\", \"x\": [\"China\", \"Italy\", \"Iran\", \"South Korea\"], \"y\": [3044, 148, 107, 42], \"type\": \"bar\"}]}, {\"data\": [{\"name\": \"\", \"x\": [\"China\", \"Italy\", \"Iran\", \"South Korea\"], \"y\": [3072, 197, 124, 44], \"type\": \"bar\"}]}, {\"data\": [{\"name\": \"\", \"x\": [\"China\", \"Italy\", \"Iran\", \"South Korea\"], \"y\": [3099, 233, 145, 50], \"type\": \"bar\"}]}, {\"data\": [{\"name\": \"\", \"x\": [\"China\", \"Italy\", \"Iran\", \"South Korea\", \"United States of America\"], \"y\": [3122, 366, 194, 51, 21], \"type\": \"bar\"}]}, {\"data\": [{\"name\": \"\", \"x\": [\"China\", \"Italy\", \"Iran\", \"South Korea\", \"France\", \"Spain\", \"United States of America\"], \"y\": [3139, 464, 237, 54, 30, 28, 26], \"type\": \"bar\"}]}, {\"data\": [{\"name\": \"\", \"x\": [\"China\", \"Italy\", \"Iran\", \"South Korea\", \"Spain\", \"France\", \"United States of America\"], \"y\": [3161, 631, 291, 60, 35, 33, 28], \"type\": \"bar\"}]}, {\"data\": [{\"name\": \"\", \"x\": [\"China\", \"Italy\", \"Iran\", \"South Korea\", \"France\", \"Spain\", \"United States of America\"], \"y\": [3172, 827, 354, 66, 48, 47, 30], \"type\": \"bar\"}]}, {\"data\": [{\"name\": \"\", \"x\": [\"China\", \"Italy\", \"Iran\", \"Spain\", \"South Korea\", \"France\", \"United States of America\"], \"y\": [3179, 1016, 429, 84, 67, 61, 40], \"type\": \"bar\"}]}, {\"data\": [{\"name\": \"\", \"x\": [\"China\", \"Italy\", \"Iran\", \"Spain\", \"France\", \"South Korea\", \"United States of America\", \"Japan\"], \"y\": [3194, 1268, 514, 121, 79, 72, 47, 21], \"type\": \"bar\"}]}, {\"data\": [{\"name\": \"\", \"x\": [\"China\", \"Italy\", \"Iran\", \"Spain\", \"France\", \"South Korea\", \"United States of America\", \"Japan\", \"United Kingdom\"], \"y\": [3203, 1441, 611, 136, 91, 75, 57, 22, 21], \"type\": \"bar\"}]}, {\"data\": [{\"name\": \"\", \"x\": [\"China\", \"Italy\", \"Iran\", \"Spain\", \"France\", \"South Korea\", \"United States of America\", \"United Kingdom\", \"Japan\"], \"y\": [3216, 1811, 724, 288, 127, 75, 69, 35, 24], \"type\": \"bar\"}]}, {\"data\": [{\"name\": \"\", \"x\": [\"China\", \"Italy\", \"Iran\", \"Spain\", \"France\", \"United States of America\", \"South Korea\", \"United Kingdom\", \"Japan\", \"Netherlands\"], \"y\": [3225, 2158, 853, 309, 148, 85, 81, 55, 28, 24], \"type\": \"bar\"}]}, {\"data\": [{\"name\": \"\", \"x\": [\"China\", \"Italy\", \"Iran\", \"Spain\", \"France\", \"United States of America\", \"South Korea\", \"United Kingdom\", \"Netherlands\", \"Japan\"], \"y\": [3241, 2505, 988, 491, 175, 108, 86, 60, 43, 28], \"type\": \"bar\"}]}, {\"data\": [{\"name\": \"\", \"x\": [\"China\", \"Italy\", \"Iran\", \"Spain\", \"France\", \"United States of America\", \"United Kingdom\", \"South Korea\", \"Netherlands\", \"Japan\", \"Switzerland\"], \"y\": [3249, 2978, 1135, 598, 244, 150, 103, 91, 58, 29, 21], \"type\": \"bar\"}]}, {\"data\": [{\"name\": \"\", \"x\": [\"Italy\", \"China\", \"Iran\", \"Spain\", \"France\", \"United States of America\", \"United Kingdom\", \"South Korea\", \"Netherlands\", \"Germany\", \"Japan\", \"Switzerland\", \"Belgium\"], \"y\": [3407, 3253, 1284, 767, 372, 150, 144, 100, 76, 43, 33, 33, 21], \"type\": \"bar\"}]}, {\"data\": [{\"name\": \"\", \"x\": [\"Italy\", \"China\", \"Iran\", \"Spain\", \"France\", \"United States of America\", \"United Kingdom\", \"Netherlands\", \"South Korea\", \"Germany\", \"Switzerland\", \"Belgium\", \"Japan\", \"Indonesia\"], \"y\": [4032, 3259, 1433, 1002, 450, 260, 177, 106, 103, 45, 43, 37, 35, 25], \"type\": \"bar\"}]}, {\"data\": [{\"name\": \"\", \"x\": [\"Italy\", \"China\", \"Iran\", \"Spain\", \"France\", \"United States of America\", \"United Kingdom\", \"Netherlands\", \"South Korea\", \"Belgium\", \"Germany\", \"Switzerland\", \"Indonesia\", \"Japan\", \"Philippines\", \"Turkey\"], \"y\": [4827, 3265, 1556, 1326, 562, 340, 233, 136, 104, 67, 67, 56, 38, 36, 25, 21], \"type\": \"bar\"}]}, {\"data\": [{\"name\": \"\", \"x\": [\"Italy\", \"China\", \"Spain\", \"Iran\", \"France\", \"United States of America\", \"United Kingdom\", \"Netherlands\", \"South Korea\", \"Germany\", \"Belgium\", \"Switzerland\", \"Indonesia\", \"Japan\", \"Turkey\", \"Brazil\", \"Philippines\", \"Sweden\"], \"y\": [5476, 3274, 1720, 1685, 674, 471, 281, 179, 113, 94, 75, 60, 48, 41, 30, 25, 25, 21], \"type\": \"bar\"}]}, {\"data\": [{\"name\": \"\", \"x\": [\"Italy\", \"China\", \"Spain\", \"Iran\", \"France\", \"United States of America\", \"United Kingdom\", \"Netherlands\", \"Germany\", \"South Korea\", \"Belgium\", \"Switzerland\", \"Indonesia\", \"Japan\", \"Turkey\", \"Brazil\", \"Philippines\", \"Sweden\", \"Austria\", \"Canada\", \"Denmark\", \"Portugal\", \"Iraq\"], \"y\": [6077, 3281, 2182, 1812, 860, 590, 335, 213, 126, 120, 88, 66, 49, 42, 37, 34, 33, 25, 25, 24, 24, 23, 23], \"type\": \"bar\"}]}, {\"data\": [{\"name\": \"\", \"x\": [\"Italy\", \"China\", \"Spain\", \"Iran\", \"France\", \"United States of America\", \"United Kingdom\", \"Netherlands\", \"Germany\", \"South Korea\", \"Belgium\", \"Switzerland\", \"Indonesia\", \"Brazil\", \"Turkey\", \"Japan\", \"Sweden\", \"Philippines\", \"Portugal\", \"Denmark\", \"Austria\", \"Iraq\", \"Canada\", \"Ecuador\", \"San Marino\"], \"y\": [6820, 3285, 2696, 1934, 1100, 801, 422, 276, 149, 126, 122, 86, 55, 46, 44, 43, 36, 35, 33, 32, 30, 27, 27, 27, 21], \"type\": \"bar\"}]}, {\"data\": [{\"name\": \"\", \"x\": [\"Italy\", \"Spain\", \"China\", \"Iran\", \"France\", \"United States of America\", \"United Kingdom\", \"Netherlands\", \"Germany\", \"Belgium\", \"South Korea\", \"Switzerland\", \"Turkey\", \"Indonesia\", \"Brazil\", \"Japan\", \"Portugal\", \"Sweden\", \"Philippines\", \"Canada\", \"Austria\", \"Denmark\", \"Ecuador\", \"Iraq\", \"Greece\", \"San Marino\", \"Egypt\"], \"y\": [7505, 3434, 3291, 2077, 1331, 1050, 463, 356, 198, 178, 131, 103, 59, 58, 57, 45, 43, 42, 38, 35, 34, 34, 29, 29, 22, 21, 21], \"type\": \"bar\"}]}, {\"data\": [{\"name\": \"\", \"x\": [\"Italy\", \"Spain\", \"China\", \"Iran\", \"France\", \"United States of America\", \"United Kingdom\", \"Netherlands\", \"Germany\", \"Belgium\", \"Switzerland\", \"South Korea\", \"Indonesia\", \"Brazil\", \"Turkey\", \"Sweden\", \"Portugal\", \"Austria\", \"Japan\", \"Philippines\", \"Denmark\", \"Canada\", \"Iraq\", \"Ecuador\", \"Greece\", \"Malaysia\", \"San Marino\", \"Egypt\", \"Algeria\"], \"y\": [8165, 4089, 3296, 2234, 1696, 1296, 578, 434, 253, 220, 161, 139, 78, 77, 75, 66, 60, 52, 46, 45, 41, 39, 36, 34, 26, 23, 21, 21, 21], \"type\": \"bar\"}]}, {\"data\": [{\"name\": \"\", \"x\": [\"Italy\", \"Spain\", \"China\", \"Iran\", \"France\", \"United States of America\", \"United Kingdom\", \"Netherlands\", \"Germany\", \"Belgium\", \"Switzerland\", \"South Korea\", \"Sweden\", \"Brazil\", \"Turkey\", \"Indonesia\", \"Portugal\", \"Austria\", \"Philippines\", \"Canada\", \"Denmark\", \"Japan\", \"Ecuador\", \"Iraq\", \"Greece\", \"Malaysia\", \"Romania\", \"Egypt\", \"Morocco\", \"Ireland\", \"San Marino\", \"Algeria\"], \"y\": [9136, 4858, 3299, 2378, 1995, 1707, 759, 546, 325, 289, 197, 144, 92, 92, 92, 87, 76, 68, 54, 53, 52, 49, 41, 40, 28, 26, 24, 24, 23, 22, 21, 21], \"type\": \"bar\"}]}, {\"data\": [{\"name\": \"\", \"x\": [\"Italy\", \"Spain\", \"China\", \"Iran\", \"France\", \"United States of America\", \"United Kingdom\", \"Netherlands\", \"Germany\", \"Belgium\", \"Switzerland\", \"South Korea\", \"Brazil\", \"Turkey\", \"Sweden\", \"Indonesia\", \"Portugal\", \"Austria\", \"Philippines\", \"Denmark\", \"Canada\", \"Japan\", \"Ecuador\", \"Iraq\", \"Ireland\", \"Greece\", \"Egypt\", \"Romania\", \"Dominican Republic\", \"Malaysia\", \"Algeria\", \"India\", \"Morocco\", \"San Marino\"], \"y\": [10023, 5690, 3304, 2517, 2314, 2191, 1019, 639, 389, 353, 235, 152, 114, 108, 102, 102, 100, 68, 68, 65, 60, 52, 48, 42, 36, 32, 30, 29, 28, 27, 26, 25, 23, 22], \"type\": \"bar\"}]}, {\"data\": [{\"name\": \"\", \"x\": [\"Italy\", \"Spain\", \"China\", \"Iran\", \"France\", \"United States of America\", \"United Kingdom\", \"Netherlands\", \"Germany\", \"Belgium\", \"Switzerland\", \"South Korea\", \"Brazil\", \"Turkey\", \"Portugal\", \"Indonesia\", \"Sweden\", \"Austria\", \"Denmark\", \"Philippines\", \"Canada\", \"Ecuador\", \"Japan\", \"Ireland\", \"Iraq\", \"Romania\", \"Dominican Republic\", \"Greece\", \"Egypt\", \"Malaysia\", \"India\", \"Algeria\", \"Morocco\", \"Panama\", \"San Marino\", \"Norway\", \"Poland\", \"Luxembourg\"], \"y\": [10781, 6528, 3306, 2640, 2606, 2509, 1228, 771, 455, 431, 257, 158, 136, 131, 119, 114, 110, 86, 72, 71, 61, 58, 54, 46, 42, 40, 39, 38, 36, 34, 29, 29, 26, 24, 24, 22, 22, 21], \"type\": \"bar\"}]}, {\"data\": [{\"name\": \"\", \"x\": [\"Italy\", \"Spain\", \"China\", \"United States of America\", \"France\", \"Iran\", \"United Kingdom\", \"Netherlands\", \"Germany\", \"Belgium\", \"Switzerland\", \"Turkey\", \"South Korea\", \"Brazil\", \"Sweden\", \"Portugal\", \"Indonesia\", \"Austria\", \"Canada\", \"Philippines\", \"Denmark\", \"Ecuador\", \"Japan\", \"Ireland\", \"Iraq\", \"Romania\", \"Greece\", \"Dominican Republic\", \"Egypt\", \"Malaysia\", \"Morocco\", \"India\", \"Poland\", \"Algeria\", \"Mexico\", \"Panama\", \"Norway\", \"San Marino\", \"Argentina\", \"Peru\", \"Czech Republic\", \"Luxembourg\"], \"y\": [11591, 7340, 3309, 3170, 3024, 2757, 1408, 864, 583, 513, 295, 168, 163, 159, 146, 140, 122, 108, 89, 88, 77, 62, 56, 54, 46, 44, 43, 42, 40, 37, 33, 32, 31, 31, 28, 26, 26, 25, 24, 24, 24, 22], \"type\": \"bar\"}]}, {\"data\": [{\"name\": \"\", \"x\": [\"Italy\", \"Spain\", \"United States of America\", \"France\", \"China\", \"Iran\", \"United Kingdom\", \"Netherlands\", \"Germany\", \"Belgium\", \"Switzerland\", \"Turkey\", \"Brazil\", \"Sweden\", \"South Korea\", \"Portugal\", \"Indonesia\", \"Austria\", \"Canada\", \"Denmark\", \"Philippines\", \"Ecuador\", \"Ireland\", \"Romania\", \"Japan\", \"Dominican Republic\", \"Iraq\", \"Greece\", \"Egypt\", \"Malaysia\", \"Morocco\", \"Algeria\", \"India\", \"Poland\", \"Czech Republic\", \"Peru\", \"Panama\", \"Mexico\", \"Norway\", \"San Marino\", \"Pakistan\", \"Argentina\", \"Serbia\", \"Luxembourg\"], \"y\": [12430, 8189, 4079, 3523, 3310, 2898, 1789, 1039, 732, 705, 373, 214, 201, 180, 163, 160, 136, 128, 96, 90, 88, 79, 71, 69, 56, 51, 50, 49, 41, 37, 36, 35, 35, 33, 31, 30, 30, 29, 28, 26, 26, 24, 23, 23], \"type\": \"bar\"}]}, {\"data\": [{\"name\": \"\", \"x\": [\"Italy\", \"Spain\", \"United States of America\", \"France\", \"China\", \"Iran\", \"United Kingdom\", \"Netherlands\", \"Germany\", \"Belgium\", \"Switzerland\", \"Turkey\", \"Brazil\", \"Sweden\", \"Portugal\", \"South Korea\", \"Indonesia\", \"Austria\", \"Ecuador\", \"Canada\", \"Denmark\", \"Philippines\", \"Romania\", \"Ireland\", \"Algeria\", \"Japan\", \"Dominican Republic\", \"India\", \"Greece\", \"Iraq\", \"Peru\", \"Egypt\", \"Malaysia\", \"Poland\", \"Czech Republic\", \"Morocco\", \"Mexico\", \"Norway\", \"Panama\", \"Pakistan\", \"Argentina\", \"Luxembourg\", \"San Marino\", \"Russia\", \"Serbia\", \"Israel\", \"Australia\"], \"y\": [13157, 9053, 5138, 4032, 3316, 3036, 2532, 1173, 872, 828, 378, 277, 241, 239, 187, 169, 157, 146, 120, 109, 104, 96, 85, 85, 58, 57, 57, 50, 50, 50, 47, 46, 45, 43, 39, 39, 37, 32, 32, 31, 31, 29, 26, 24, 23, 21, 21], \"type\": \"bar\"}]}, {\"data\": [{\"name\": \"\", \"x\": [\"Italy\", \"Spain\", \"United States of America\", \"France\", \"China\", \"Iran\", \"United Kingdom\", \"Netherlands\", \"Germany\", \"Belgium\", \"Switzerland\", \"Turkey\", \"Brazil\", \"Sweden\", \"Portugal\", \"South Korea\", \"Indonesia\", \"Austria\", \"Canada\", \"Denmark\", \"Ecuador\", \"Philippines\", \"Ireland\", \"Romania\", \"Japan\", \"Dominican Republic\", \"Algeria\", \"Poland\", \"India\", \"Peru\", \"Iraq\", \"Greece\", \"Egypt\", \"Malaysia\", \"Morocco\", \"Czech Republic\", \"Norway\", \"Panama\", \"Mexico\", \"Argentina\", \"Israel\", \"Pakistan\", \"Serbia\", \"San Marino\", \"Russia\", \"Luxembourg\", \"Australia\", \"Hungary\", \"Saudi Arabia\"], \"y\": [13917, 10003, 6053, 4503, 3326, 3160, 2921, 1339, 1017, 1011, 536, 356, 299, 282, 209, 174, 170, 158, 138, 123, 120, 107, 98, 94, 63, 60, 58, 57, 56, 55, 54, 53, 52, 50, 44, 44, 42, 37, 37, 34, 34, 31, 31, 30, 30, 30, 23, 21, 21], \"type\": \"bar\"}]}, {\"data\": [{\"name\": \"\", \"x\": [\"Italy\", \"Spain\", \"United States of America\", \"France\", \"United Kingdom\", \"China\", \"Iran\", \"Netherlands\", \"Germany\", \"Belgium\", \"Switzerland\", \"Turkey\", \"Brazil\", \"Sweden\", \"Portugal\", \"Canada\", \"Indonesia\", \"South Korea\", \"Austria\", \"Ecuador\", \"Denmark\", \"Philippines\", \"Romania\", \"Ireland\", \"Algeria\", \"Poland\", \"Japan\", \"Dominican Republic\", \"India\", \"Peru\", \"Mexico\", \"Greece\", \"Iraq\", \"Czech Republic\", \"Malaysia\", \"Egypt\", \"Morocco\", \"Norway\", \"Panama\", \"Serbia\", \"Israel\", \"Argentina\", \"Russia\", \"San Marino\", \"Hungary\", \"Pakistan\", \"Luxembourg\", \"Australia\", \"Colombia\", \"Ukraine\", \"Chile\", \"Saudi Arabia\"], \"y\": [14681, 10935, 7157, 6507, 3605, 3330, 3160, 1487, 1158, 1143, 607, 425, 359, 333, 246, 187, 181, 177, 168, 145, 139, 136, 133, 120, 83, 71, 69, 68, 68, 61, 60, 59, 54, 53, 53, 52, 44, 44, 41, 39, 39, 37, 34, 32, 32, 31, 31, 30, 25, 23, 22, 21], \"type\": \"bar\"}]}, {\"data\": [{\"name\": \"\", \"x\": [\"Italy\", \"Spain\", \"United States of America\", \"France\", \"United Kingdom\", \"Iran\", \"China\", \"Netherlands\", \"Germany\", \"Belgium\", \"Switzerland\", \"Turkey\", \"Brazil\", \"Sweden\", \"Portugal\", \"Canada\", \"Indonesia\", \"Austria\", \"South Korea\", \"Ecuador\", \"Denmark\", \"Philippines\", \"Romania\", \"Ireland\", \"Algeria\", \"Poland\", \"Mexico\", \"Dominican Republic\", \"India\", \"Peru\", \"Japan\", \"Greece\", \"Egypt\", \"Czech Republic\", \"Morocco\", \"Malaysia\", \"Iraq\", \"Norway\", \"Panama\", \"Israel\", \"Serbia\", \"Russia\", \"Argentina\", \"Pakistan\", \"Hungary\", \"Australia\", \"San Marino\", \"Colombia\", \"Luxembourg\", \"Saudi Arabia\", \"Ukraine\", \"Chile\", \"Finland\", \"Thailand\", \"Slovenia\", \"Honduras\", \"Bosnia and Herzegovina\"], \"y\": [15362, 11744, 8501, 7560, 4313, 3452, 3333, 1651, 1342, 1283, 666, 501, 432, 373, 266, 231, 191, 186, 183, 172, 161, 144, 141, 137, 130, 79, 79, 77, 77, 73, 70, 68, 66, 59, 59, 57, 56, 50, 46, 46, 44, 43, 43, 35, 34, 34, 32, 32, 31, 29, 28, 27, 25, 23, 22, 22, 21], \"type\": \"bar\"}]}, {\"data\": [{\"name\": \"\", \"x\": [\"Italy\", \"Spain\", \"United States of America\", \"France\", \"United Kingdom\", \"Iran\", \"China\", \"Belgium\", \"Germany\", \"Switzerland\", \"Turkey\", \"Brazil\", \"Sweden\", \"Portugal\", \"Canada\", \"Austria\", \"Indonesia\", \"South Korea\", \"Ecuador\", \"Denmark\", \"Ireland\", \"Algeria\", \"Philippines\", \"Romania\", \"India\", \"Mexico\", \"Poland\", \"Peru\", \"Dominican Republic\", \"Japan\", \"Greece\", \"Egypt\", \"Morocco\", \"Czech Republic\", \"Malaysia\", \"Iraq\", \"Norway\", \"Panama\", \"Serbia\", \"Pakistan\", \"Israel\", \"Argentina\", \"Russia\", \"Hungary\", \"Luxembourg\", \"Australia\", \"Colombia\", \"Saudi Arabia\", \"Chile\", \"San Marino\", \"Ukraine\", \"Slovenia\", \"Finland\", \"Thailand\", \"Bosnia and Herzegovina\", \"Honduras\", \"Albania\"], \"y\": [15889, 12418, 9647, 8078, 4934, 3603, 3335, 1447, 1434, 715, 574, 486, 401, 295, 280, 204, 198, 186, 180, 179, 158, 152, 152, 148, 109, 94, 94, 83, 82, 73, 73, 71, 70, 67, 61, 61, 58, 54, 51, 50, 49, 46, 45, 38, 36, 36, 35, 34, 34, 32, 32, 28, 28, 26, 24, 22, 21], \"type\": \"bar\"}]}]);\n",
       "                        }).then(function(){\n",
       "                            \n",
       "var gd = document.getElementById('19fd2e73-9926-455a-8aae-815c3466ebec');\n",
       "var x = new MutationObserver(function (mutations, observer) {{\n",
       "        var display = window.getComputedStyle(gd).display;\n",
       "        if (!display || display === 'none') {{\n",
       "            console.log([gd, 'removed!']);\n",
       "            Plotly.purge(gd);\n",
       "            observer.disconnect();\n",
       "        }}\n",
       "}});\n",
       "\n",
       "// Listen for the removal of the full notebook cells\n",
       "var notebookContainer = gd.closest('#notebook-container');\n",
       "if (notebookContainer) {{\n",
       "    x.observe(notebookContainer, {childList: true});\n",
       "}}\n",
       "\n",
       "// Listen for the clearing of the current output cell\n",
       "var outputEl = gd.closest('.output');\n",
       "if (outputEl) {{\n",
       "    x.observe(outputEl, {childList: true});\n",
       "}}\n",
       "\n",
       "                        })\n",
       "                };\n",
       "                });\n",
       "            </script>\n",
       "        </div>"
      ]
     },
     "metadata": {},
     "output_type": "display_data"
    }
   ],
   "source": [
    "\n",
    "# Create figure\n",
    "fig = go.Figure()\n",
    "\n",
    "# Add traces, one for each slider step\n",
    "days = data['dateRep'][data['dateRep'] > pd.to_datetime('15-02-2020')].sort_values(ascending=True).unique()\n",
    "\n",
    "#figure['layout']['updatemenus'] = \n",
    "\n",
    "\n",
    "for day in days:\n",
    "    chart_data_2 = data.loc[data['dateRep'] == day][data['total_deaths']>20].sort_values(by = 'total_deaths', ascending = False)\n",
    "    \n",
    "    fig.add_trace(go.Bar(x = [' '.join(x.split('_')) for x in chart_data_2['countriesAndTerritories']],\n",
    "                     y=chart_data_2['total_deaths'],\n",
    "              visible = False,\n",
    "              name = ''))\n",
    "    \n",
    "frames = [] \n",
    "for day in days:\n",
    "    chart_data_2 = data.loc[data['dateRep'] == day][data['total_deaths']>20].sort_values(by = 'total_deaths', ascending = False)\n",
    "    frame = go.Frame(data =[ go.Bar(x = [' '.join(x.split('_')) for x in chart_data_2['countriesAndTerritories']],\n",
    "                     y=chart_data_2['total_deaths'],\n",
    "              name = '')]) \n",
    "        \n",
    "    frames.append(frame)  \n",
    "    \n",
    "fig.frames=frames\n",
    "\n",
    "# Make 10th trace visible\n",
    "fig.data[0].visible = True\n",
    "\n",
    "# Create and add slider\n",
    "steps = []\n",
    "for i in range(len(fig.data)):\n",
    "    step = dict(\n",
    "        method=\"restyle\",\n",
    "        args=[\"visible\", [False] * len(fig.data)],\n",
    "        label = pd.to_datetime(str(days[i])).strftime(\"%d %b\")\n",
    "        \n",
    "    )\n",
    "    step[\"args\"][1][i] = True  # Toggle i'th trace to \"visible\"\n",
    "    steps.append(step)\n",
    "\n",
    "sliders = [dict(\n",
    "    y = 2,\n",
    "    active=0,\n",
    "    currentvalue={\"prefix\": \"Date: \"},\n",
    "    pad={\"t\": 50},\n",
    "    steps=steps\n",
    ")]\n",
    "\n",
    "fig.update_layout(\n",
    "    sliders=sliders,\n",
    "    height = 800,\n",
    "    title = 'Total deaths',\n",
    "    updatemenus = [dict(type ='buttons',\n",
    "                        buttons=list([\n",
    "                dict(\n",
    "                    args=[None],\n",
    "                    label=\"Play\",\n",
    "                    method=\"animate\"\n",
    "                ),\n",
    "                            dict(\n",
    "                    args=[None,{\"mode\": \"immediate\"}],\n",
    "                    label=\"Pause\",\n",
    "                    method=\"animate\")]\n",
    "                            \n",
    "                        ))]\n",
    "\n",
    ")\n",
    "\n",
    "fig.layout.yaxis.update(range=[0,\n",
    "                              18000])\n",
    "\n",
    "fig.show()"
   ]
  },
  {
   "cell_type": "code",
   "execution_count": null,
   "metadata": {},
   "outputs": [],
   "source": []
  }
 ],
 "metadata": {
  "kernelspec": {
   "display_name": "Python 3",
   "language": "python",
   "name": "python3"
  },
  "language_info": {
   "codemirror_mode": {
    "name": "ipython",
    "version": 3
   },
   "file_extension": ".py",
   "mimetype": "text/x-python",
   "name": "python",
   "nbconvert_exporter": "python",
   "pygments_lexer": "ipython3",
   "version": "3.7.7"
  }
 },
 "nbformat": 4,
 "nbformat_minor": 4
}
