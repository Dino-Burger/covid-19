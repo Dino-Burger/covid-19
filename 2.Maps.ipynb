{
 "cells": [
  {
   "cell_type": "markdown",
   "metadata": {},
   "source": [
    "## 0. Import Python packages"
   ]
  },
  {
   "cell_type": "code",
   "execution_count": 60,
   "metadata": {},
   "outputs": [],
   "source": [
    "# for data managaement\n",
    "import numpy as np\n",
    "import pandas as pd\n",
    "import time\n",
    "from datetime import datetime, timedelta\n",
    "\n",
    "# for charting\n",
    "import plotly\n",
    "import plotly.graph_objects as go\n",
    "\n"
   ]
  },
  {
   "cell_type": "markdown",
   "metadata": {},
   "source": [
    "## 1. Import Data"
   ]
  },
  {
   "cell_type": "code",
   "execution_count": 57,
   "metadata": {},
   "outputs": [],
   "source": [
    "data = pd.read_csv('https://opendata.ecdc.europa.eu/covid19/casedistribution/csv',usecols = list(range(0,10)))\n"
   ]
  },
  {
   "cell_type": "code",
   "execution_count": 66,
   "metadata": {},
   "outputs": [
    {
     "data": {
      "text/html": [
       "<div>\n",
       "<style scoped>\n",
       "    .dataframe tbody tr th:only-of-type {\n",
       "        vertical-align: middle;\n",
       "    }\n",
       "\n",
       "    .dataframe tbody tr th {\n",
       "        vertical-align: top;\n",
       "    }\n",
       "\n",
       "    .dataframe thead th {\n",
       "        text-align: right;\n",
       "    }\n",
       "</style>\n",
       "<table border=\"1\" class=\"dataframe\">\n",
       "  <thead>\n",
       "    <tr style=\"text-align: right;\">\n",
       "      <th></th>\n",
       "      <th>Continent_Name</th>\n",
       "      <th>Continent_Code</th>\n",
       "      <th>Country_Name</th>\n",
       "      <th>Two_Letter_Country_Code</th>\n",
       "      <th>Three_Letter_Country_Code</th>\n",
       "      <th>Country_Number</th>\n",
       "    </tr>\n",
       "  </thead>\n",
       "  <tbody>\n",
       "    <tr>\n",
       "      <th>0</th>\n",
       "      <td>Asia</td>\n",
       "      <td>AS</td>\n",
       "      <td>Afghanistan, Islamic Republic of</td>\n",
       "      <td>AF</td>\n",
       "      <td>AFG</td>\n",
       "      <td>4.0</td>\n",
       "    </tr>\n",
       "    <tr>\n",
       "      <th>1</th>\n",
       "      <td>Europe</td>\n",
       "      <td>EU</td>\n",
       "      <td>Albania, Republic of</td>\n",
       "      <td>AL</td>\n",
       "      <td>ALB</td>\n",
       "      <td>8.0</td>\n",
       "    </tr>\n",
       "    <tr>\n",
       "      <th>2</th>\n",
       "      <td>Antarctica</td>\n",
       "      <td>AN</td>\n",
       "      <td>Antarctica (the territory South of 60 deg S)</td>\n",
       "      <td>AQ</td>\n",
       "      <td>ATA</td>\n",
       "      <td>10.0</td>\n",
       "    </tr>\n",
       "    <tr>\n",
       "      <th>3</th>\n",
       "      <td>Africa</td>\n",
       "      <td>AF</td>\n",
       "      <td>Algeria, People's Democratic Republic of</td>\n",
       "      <td>DZ</td>\n",
       "      <td>DZA</td>\n",
       "      <td>12.0</td>\n",
       "    </tr>\n",
       "    <tr>\n",
       "      <th>4</th>\n",
       "      <td>Oceania</td>\n",
       "      <td>OC</td>\n",
       "      <td>American Samoa</td>\n",
       "      <td>AS</td>\n",
       "      <td>ASM</td>\n",
       "      <td>16.0</td>\n",
       "    </tr>\n",
       "  </tbody>\n",
       "</table>\n",
       "</div>"
      ],
      "text/plain": [
       "  Continent_Name Continent_Code                                  Country_Name  \\\n",
       "0           Asia             AS              Afghanistan, Islamic Republic of   \n",
       "1         Europe             EU                          Albania, Republic of   \n",
       "2     Antarctica             AN  Antarctica (the territory South of 60 deg S)   \n",
       "3         Africa             AF      Algeria, People's Democratic Republic of   \n",
       "4        Oceania             OC                                American Samoa   \n",
       "\n",
       "  Two_Letter_Country_Code Three_Letter_Country_Code  Country_Number  \n",
       "0                      AF                       AFG             4.0  \n",
       "1                      AL                       ALB             8.0  \n",
       "2                      AQ                       ATA            10.0  \n",
       "3                      DZ                       DZA            12.0  \n",
       "4                      AS                       ASM            16.0  "
      ]
     },
     "execution_count": 66,
     "metadata": {},
     "output_type": "execute_result"
    }
   ],
   "source": [
    "continents = pd.read_csv('Assets/continents.csv')\n",
    "continents.head()"
   ]
  },
  {
   "cell_type": "markdown",
   "metadata": {},
   "source": [
    "## 2. Data Cleaning and Wrangling"
   ]
  },
  {
   "cell_type": "code",
   "execution_count": 111,
   "metadata": {},
   "outputs": [],
   "source": [
    "# make datetime\n",
    "data['dateRep'] = pd.to_datetime(data['dateRep'], dayfirst=True)\n",
    "\n",
    "#sort values by country and date\n",
    "data.sort_values(by=['countriesAndTerritories','dateRep'], ascending = True, inplace = True)\n",
    "\n",
    "#reindex the data now its sorted to prevent errors when creating aggregates\n",
    "data = data.reindex()"
   ]
  },
  {
   "cell_type": "code",
   "execution_count": 112,
   "metadata": {},
   "outputs": [],
   "source": [
    "#create cumulative sum of deaths and cases by country\n",
    "data['total_cases'] = data.groupby(by='countriesAndTerritories')['cases'].cumsum()\n",
    "data['total_deaths'] = data.groupby(by='countriesAndTerritories')['deaths'].cumsum()"
   ]
  },
  {
   "cell_type": "code",
   "execution_count": 108,
   "metadata": {},
   "outputs": [],
   "source": [
    "# Create a continents var\n",
    "\n",
    "data = pd.merge(data, continents[['Continent_Name','Three_Letter_Country_Code']], how='left', left_on='countryterritoryCode', right_on='Three_Letter_Country_Code')\n"
   ]
  },
  {
   "cell_type": "code",
   "execution_count": 109,
   "metadata": {},
   "outputs": [
    {
     "name": "stdout",
     "output_type": "stream",
     "text": [
      "<class 'pandas.core.frame.DataFrame'>\n",
      "Int64Index: 9800 entries, 0 to 9799\n",
      "Data columns (total 12 columns):\n",
      " #   Column                     Non-Null Count  Dtype  \n",
      "---  ------                     --------------  -----  \n",
      " 0   dateRep                    9800 non-null   object \n",
      " 1   day                        9800 non-null   int64  \n",
      " 2   month                      9800 non-null   int64  \n",
      " 3   year                       9800 non-null   int64  \n",
      " 4   cases                      9800 non-null   int64  \n",
      " 5   deaths                     9800 non-null   int64  \n",
      " 6   countriesAndTerritories    9800 non-null   object \n",
      " 7   geoId                      9777 non-null   object \n",
      " 8   countryterritoryCode       9464 non-null   object \n",
      " 9   popData2018                9704 non-null   float64\n",
      " 10  Continent_Name             9778 non-null   object \n",
      " 11  Three_Letter_Country_Code  9442 non-null   object \n",
      "dtypes: float64(1), int64(5), object(6)\n",
      "memory usage: 995.3+ KB\n"
     ]
    }
   ],
   "source": [
    "data.info()"
   ]
  },
  {
   "cell_type": "code",
   "execution_count": 113,
   "metadata": {},
   "outputs": [],
   "source": [
    "latest_data = data['dateRep'].max()- timedelta(days=1)\n",
    "latest_data_string = latest_data.strftime(\"%d %b %Y\")"
   ]
  },
  {
   "cell_type": "code",
   "execution_count": 114,
   "metadata": {},
   "outputs": [],
   "source": [
    "data['date_str'] = data['dateRep'].map(lambda x : str(x))"
   ]
  },
  {
   "cell_type": "markdown",
   "metadata": {},
   "source": [
    "## 3. Plot map"
   ]
  },
  {
   "cell_type": "code",
   "execution_count": 128,
   "metadata": {},
   "outputs": [
    {
     "data": {
      "application/vnd.plotly.v1+json": {
       "config": {
        "plotlyServerURL": "https://plot.ly"
       },
       "data": [
        {
         "locationmode": "ISO-3",
         "locations": [
          "AFG",
          null,
          null,
          null,
          "ARM",
          "AZE",
          "BHR",
          "BGD",
          "BTN",
          null,
          null,
          null,
          "BRN",
          "KHM",
          "CHN",
          "CYP",
          null,
          null,
          null,
          "GEO",
          "IND",
          "IDN",
          "IRN",
          "IRQ",
          "ISR",
          "JPN",
          "JOR",
          "KAZ",
          "KWT",
          "KGZ",
          "LAO",
          "LBN",
          "MYS",
          "MDV",
          "MNG",
          "MMR",
          "NPL",
          "OMN",
          "PAK",
          "PSE",
          "PHL",
          "QAT",
          "RUS",
          "SAU",
          "SGP",
          "KOR",
          "LKA",
          "SYR",
          "TWN",
          "THA",
          "TLS",
          "TUR",
          "ARE",
          "UZB",
          "VNM"
         ],
         "marker": {
          "color": "royalblue",
          "line": {
           "color": "#ffffff",
           "width": 0.5
          },
          "size": [
           0.7,
           0,
           0,
           0,
           1.4,
           1.4,
           0.4,
           0.9,
           0,
           0,
           0,
           0,
           0.1,
           0,
           333.5,
           2.8,
           0,
           0,
           0,
           0.4,
           10.9,
           19.8,
           360.3,
           6.1,
           4.9,
           7.3,
           0.5,
           1,
           0.1,
           0.4,
           0,
           1.8,
           6.1,
           0,
           0,
           0.1,
           0,
           0.2,
           5,
           0.1,
           15.2,
           0.4,
           9,
           3.4,
           0.6,
           18.6,
           0.5,
           0.2,
           0.5,
           2.6,
           0,
           114.8,
           1,
           0.2,
           0
          ],
          "sizemode": "area"
         },
         "name": "Asia",
         "text": [
          "Afghanistan<BR>Total Deaths: 7",
          "Anguilla<BR>Total Deaths: 0",
          "Anguilla<BR>Total Deaths: 0",
          "Anguilla<BR>Total Deaths: 0",
          "Armenia<BR>Total Deaths: 14",
          "Azerbaijan<BR>Total Deaths: 14",
          "Bahrain<BR>Total Deaths: 4",
          "Bangladesh<BR>Total Deaths: 9",
          "Bhutan<BR>Total Deaths: 0",
          "Bonaire, Saint Eustatius and Saba<BR>Total Deaths: 0",
          "Bonaire, Saint Eustatius and Saba<BR>Total Deaths: 0",
          "Bonaire, Saint Eustatius and Saba<BR>Total Deaths: 0",
          "Brunei_Darussalam<BR>Total Deaths: 1",
          "Cambodia<BR>Total Deaths: 0",
          "China<BR>Total Deaths: 3335",
          "Cyprus<BR>Total Deaths: 28",
          "Falkland_Islands_(Malvinas)<BR>Total Deaths: 0",
          "Falkland_Islands_(Malvinas)<BR>Total Deaths: 0",
          "Falkland_Islands_(Malvinas)<BR>Total Deaths: 0",
          "Georgia<BR>Total Deaths: 4",
          "India<BR>Total Deaths: 109",
          "Indonesia<BR>Total Deaths: 198",
          "Iran<BR>Total Deaths: 3603",
          "Iraq<BR>Total Deaths: 61",
          "Israel<BR>Total Deaths: 49",
          "Japan<BR>Total Deaths: 73",
          "Jordan<BR>Total Deaths: 5",
          "Kazakhstan<BR>Total Deaths: 10",
          "Kuwait<BR>Total Deaths: 1",
          "Kyrgyzstan<BR>Total Deaths: 4",
          "Laos<BR>Total Deaths: 0",
          "Lebanon<BR>Total Deaths: 18",
          "Malaysia<BR>Total Deaths: 61",
          "Maldives<BR>Total Deaths: 0",
          "Mongolia<BR>Total Deaths: 0",
          "Myanmar<BR>Total Deaths: 1",
          "Nepal<BR>Total Deaths: 0",
          "Oman<BR>Total Deaths: 2",
          "Pakistan<BR>Total Deaths: 50",
          "Palestine<BR>Total Deaths: 1",
          "Philippines<BR>Total Deaths: 152",
          "Qatar<BR>Total Deaths: 4",
          "Russia<BR>Total Deaths: 90",
          "Saudi_Arabia<BR>Total Deaths: 34",
          "Singapore<BR>Total Deaths: 6",
          "South_Korea<BR>Total Deaths: 186",
          "Sri_Lanka<BR>Total Deaths: 5",
          "Syria<BR>Total Deaths: 2",
          "Taiwan<BR>Total Deaths: 5",
          "Thailand<BR>Total Deaths: 26",
          "Timor_Leste<BR>Total Deaths: 0",
          "Turkey<BR>Total Deaths: 1148",
          "United_Arab_Emirates<BR>Total Deaths: 10",
          "Uzbekistan<BR>Total Deaths: 2",
          "Vietnam<BR>Total Deaths: 0"
         ],
         "type": "scattergeo"
        },
        {
         "locationmode": "ISO-3",
         "locations": [
          "ALB",
          "AND",
          "ARM",
          "AUT",
          "AZE",
          "BLR",
          "BEL",
          "BIH",
          "BGR",
          "HRV",
          "CYP",
          "CZE",
          "DNK",
          "EST",
          "FRO",
          "FIN",
          "FRA",
          "GEO",
          "DEU",
          "GIB",
          "GRC",
          "GGY",
          "VAT",
          "HUN",
          "ISL",
          "IRL",
          "IMN",
          "ITA",
          "JEY",
          "KAZ",
          "LVA",
          "LIE",
          "LTU",
          "LUX",
          "MLT",
          "MDA",
          "MCO",
          "MNE",
          "MKD",
          "NOR",
          "POL",
          "PRT",
          "ROU",
          "RUS",
          "SMR",
          "SRB",
          "SVK",
          "SVN",
          "ESP",
          "SWE",
          "CHE",
          "TUR",
          "UKR",
          "GBR"
         ],
         "marker": {
          "color": "crimson",
          "line": {
           "color": "#ffffff",
           "width": 0.5
          },
          "size": [
           2.1,
           1.8,
           1.4,
           20.4,
           1.2,
           0.8,
           144.7,
           2.4,
           2,
           1.5,
           2.5,
           6.7,
           17.9,
           1.5,
           0,
           2.8,
           807.8,
           0.2,
           143.4,
           0.1,
           7.3,
           0.3,
           0,
           3.8,
           0.4,
           15.8,
           0.1,
           1588.9,
           0.3,
           0.8,
           0.1,
           0.1,
           1.3,
           3.6,
           0,
           1.5,
           0.2,
           0.2,
           1.7,
           5.8,
           9.4,
           29.5,
           14.8,
           8.8,
           3.2,
           5.1,
           0,
           2.8,
           1241.8,
           40.1,
           71.5,
           107.5,
           3.2,
           493.4
          ],
          "sizemode": "area"
         },
         "name": "Europe",
         "text": [
          "Albania<BR>Total Deaths: 21",
          "Andorra<BR>Total Deaths: 18",
          "Armenia<BR>Total Deaths: 14",
          "Austria<BR>Total Deaths: 204",
          "Azerbaijan<BR>Total Deaths: 12",
          "Belarus<BR>Total Deaths: 8",
          "Belgium<BR>Total Deaths: 1447",
          "Bosnia_and_Herzegovina<BR>Total Deaths: 24",
          "Bulgaria<BR>Total Deaths: 20",
          "Croatia<BR>Total Deaths: 15",
          "Cyprus<BR>Total Deaths: 25",
          "Czech_Republic<BR>Total Deaths: 67",
          "Denmark<BR>Total Deaths: 179",
          "Estonia<BR>Total Deaths: 15",
          "Faroe_Islands<BR>Total Deaths: 0",
          "Finland<BR>Total Deaths: 28",
          "France<BR>Total Deaths: 8078",
          "Georgia<BR>Total Deaths: 2",
          "Germany<BR>Total Deaths: 1434",
          "Gibraltar<BR>Total Deaths: 1",
          "Greece<BR>Total Deaths: 73",
          "Guernsey<BR>Total Deaths: 3",
          "Holy_See<BR>Total Deaths: 0",
          "Hungary<BR>Total Deaths: 38",
          "Iceland<BR>Total Deaths: 4",
          "Ireland<BR>Total Deaths: 158",
          "Isle_of_Man<BR>Total Deaths: 1",
          "Italy<BR>Total Deaths: 15889",
          "Jersey<BR>Total Deaths: 3",
          "Kazakhstan<BR>Total Deaths: 8",
          "Latvia<BR>Total Deaths: 1",
          "Liechtenstein<BR>Total Deaths: 1",
          "Lithuania<BR>Total Deaths: 13",
          "Luxembourg<BR>Total Deaths: 36",
          "Malta<BR>Total Deaths: 0",
          "Moldova<BR>Total Deaths: 15",
          "Monaco<BR>Total Deaths: 2",
          "Montenegro<BR>Total Deaths: 2",
          "North_Macedonia<BR>Total Deaths: 17",
          "Norway<BR>Total Deaths: 58",
          "Poland<BR>Total Deaths: 94",
          "Portugal<BR>Total Deaths: 295",
          "Romania<BR>Total Deaths: 148",
          "Russia<BR>Total Deaths: 88",
          "San_Marino<BR>Total Deaths: 32",
          "Serbia<BR>Total Deaths: 51",
          "Slovakia<BR>Total Deaths: 0",
          "Slovenia<BR>Total Deaths: 28",
          "Spain<BR>Total Deaths: 12418",
          "Sweden<BR>Total Deaths: 401",
          "Switzerland<BR>Total Deaths: 715",
          "Turkey<BR>Total Deaths: 1075",
          "Ukraine<BR>Total Deaths: 32",
          "United_Kingdom<BR>Total Deaths: 4934"
         ],
         "type": "scattergeo",
         "visible": true
        },
        {
         "locationmode": "ISO-3",
         "locations": [
          "DZA",
          "AGO",
          "BEN",
          "BWA",
          "BFA",
          "BDI",
          "CMR",
          "CPV",
          "CAF",
          "TCD",
          "COG",
          "CIV",
          "COD",
          "DJI",
          "EGY",
          "GNQ",
          "ERI",
          "SWZ",
          "ETH",
          "GAB",
          "GMB",
          "GHA",
          "GIN",
          "GNB",
          "KEN",
          "LBR",
          "LBY",
          "MDG",
          "MWI",
          "MLI",
          "MRT",
          "MUS",
          "MAR",
          "MOZ",
          "NAM",
          "NER",
          "NGA",
          "RWA",
          "SEN",
          "SYC",
          "SLE",
          "SOM",
          "ZAF",
          "SSD",
          "SDN",
          "TGO",
          "TUN",
          "UGA",
          "TZA",
          "ZMB",
          "ZWE"
         ],
         "marker": {
          "color": "lightseagreen",
          "line": {
           "color": "#ffffff",
           "width": 0.5
          },
          "size": [
           15.2,
           0.2,
           0,
           0.1,
           1.7,
           0,
           0.9,
           0.1,
           0,
           0,
           0.5,
           0.3,
           1.8,
           0,
           7.1,
           0,
           0,
           0,
           0.2,
           0.1,
           0.1,
           0.5,
           0.5,
           0,
           0.4,
           0.3,
           0.1,
           0,
           0,
           0.5,
           0.1,
           0.7,
           7,
           0,
           0,
           1,
           0.5,
           0,
           0.2,
           0,
           0,
           0,
           1.1,
           0,
           0.2,
           0.3,
           1.9,
           0,
           0.1,
           0.1,
           0.1
          ],
          "sizemode": "area"
         },
         "name": "Africa",
         "text": [
          "Algeria<BR>Total Deaths: 152",
          "Angola<BR>Total Deaths: 2",
          "Benin<BR>Total Deaths: 0",
          "Botswana<BR>Total Deaths: 1",
          "Burkina_Faso<BR>Total Deaths: 17",
          "Burundi<BR>Total Deaths: 0",
          "Cameroon<BR>Total Deaths: 9",
          "Cape_Verde<BR>Total Deaths: 1",
          "Central_African_Republic<BR>Total Deaths: 0",
          "Chad<BR>Total Deaths: 0",
          "Congo<BR>Total Deaths: 5",
          "Cote_dIvoire<BR>Total Deaths: 3",
          "Democratic_Republic_of_the_Congo<BR>Total Deaths: 18",
          "Djibouti<BR>Total Deaths: 0",
          "Egypt<BR>Total Deaths: 71",
          "Equatorial_Guinea<BR>Total Deaths: 0",
          "Eritrea<BR>Total Deaths: 0",
          "Eswatini<BR>Total Deaths: 0",
          "Ethiopia<BR>Total Deaths: 2",
          "Gabon<BR>Total Deaths: 1",
          "Gambia<BR>Total Deaths: 1",
          "Ghana<BR>Total Deaths: 5",
          "Guinea<BR>Total Deaths: 5",
          "Guinea_Bissau<BR>Total Deaths: 0",
          "Kenya<BR>Total Deaths: 4",
          "Liberia<BR>Total Deaths: 3",
          "Libya<BR>Total Deaths: 1",
          "Madagascar<BR>Total Deaths: 0",
          "Malawi<BR>Total Deaths: 0",
          "Mali<BR>Total Deaths: 5",
          "Mauritania<BR>Total Deaths: 1",
          "Mauritius<BR>Total Deaths: 7",
          "Morocco<BR>Total Deaths: 70",
          "Mozambique<BR>Total Deaths: 0",
          "Namibia<BR>Total Deaths: 0",
          "Niger<BR>Total Deaths: 10",
          "Nigeria<BR>Total Deaths: 5",
          "Rwanda<BR>Total Deaths: 0",
          "Senegal<BR>Total Deaths: 2",
          "Seychelles<BR>Total Deaths: 0",
          "Sierra_Leone<BR>Total Deaths: 0",
          "Somalia<BR>Total Deaths: 0",
          "South_Africa<BR>Total Deaths: 11",
          "South_Sudan<BR>Total Deaths: 0",
          "Sudan<BR>Total Deaths: 2",
          "Togo<BR>Total Deaths: 3",
          "Tunisia<BR>Total Deaths: 19",
          "Uganda<BR>Total Deaths: 0",
          "United_Republic_of_Tanzania<BR>Total Deaths: 1",
          "Zambia<BR>Total Deaths: 1",
          "Zimbabwe<BR>Total Deaths: 1"
         ],
         "type": "scattergeo"
        },
        {
         "locationmode": "ISO-3",
         "locations": [
          null,
          "AUS",
          null,
          null,
          "FJI",
          "PYF",
          "GUM",
          "NCL",
          "NZL",
          "MNP",
          "PNG"
         ],
         "marker": {
          "color": "orange",
          "line": {
           "color": "#ffffff",
           "width": 0.5
          },
          "size": [
           0,
           3.6,
           0,
           0,
           0,
           0,
           0.4,
           0,
           0.1,
           0.1,
           0
          ],
          "sizemode": "area"
         },
         "name": "Oceania",
         "text": [
          "Anguilla<BR>Total Deaths: 0",
          "Australia<BR>Total Deaths: 36",
          "Bonaire, Saint Eustatius and Saba<BR>Total Deaths: 0",
          "Falkland_Islands_(Malvinas)<BR>Total Deaths: 0",
          "Fiji<BR>Total Deaths: 0",
          "French_Polynesia<BR>Total Deaths: 0",
          "Guam<BR>Total Deaths: 4",
          "New_Caledonia<BR>Total Deaths: 0",
          "New_Zealand<BR>Total Deaths: 1",
          "Northern_Mariana_Islands<BR>Total Deaths: 1",
          "Papua_New_Guinea<BR>Total Deaths: 0"
         ],
         "type": "scattergeo"
        },
        {
         "locationmode": "ISO-3",
         "locations": [
          "ATG",
          "ABW",
          "BHS",
          "BRB",
          "BLZ",
          "BMU",
          "VGB",
          "CAN",
          "CYM",
          "CRI",
          "CUB",
          "CUW",
          "DMA",
          "DOM",
          "SLV",
          "GRL",
          "GRD",
          "GTM",
          "HTI",
          "HND",
          "JAM",
          "MEX",
          "MSR",
          "NIC",
          "PAN",
          "PRI",
          "KNA",
          "LCA",
          "VCT",
          "SXM",
          "TTO",
          "TCA",
          "VIR",
          "USA"
         ],
         "marker": {
          "color": "gold",
          "line": {
           "color": "#ffffff",
           "width": 0.5
          },
          "size": [
           0,
           0,
           0.5,
           0.1,
           0.1,
           0,
           0,
           28,
           0.1,
           0.2,
           0.8,
           0.1,
           0,
           8.2,
           0.3,
           0,
           0,
           0.3,
           0,
           2.2,
           0.3,
           9.4,
           0,
           0.1,
           5.4,
           2,
           0,
           0,
           0,
           0.4,
           0.7,
           0.1,
           0.1,
           964.7
          ],
          "sizemode": "area"
         },
         "name": "North America",
         "text": [
          "Antigua_and_Barbuda<BR>Total Deaths: 0",
          "Aruba<BR>Total Deaths: 0",
          "Bahamas<BR>Total Deaths: 5",
          "Barbados<BR>Total Deaths: 1",
          "Belize<BR>Total Deaths: 1",
          "Bermuda<BR>Total Deaths: 0",
          "British_Virgin_Islands<BR>Total Deaths: 0",
          "Canada<BR>Total Deaths: 280",
          "Cayman_Islands<BR>Total Deaths: 1",
          "Costa_Rica<BR>Total Deaths: 2",
          "Cuba<BR>Total Deaths: 8",
          "Curaçao<BR>Total Deaths: 1",
          "Dominica<BR>Total Deaths: 0",
          "Dominican_Republic<BR>Total Deaths: 82",
          "El_Salvador<BR>Total Deaths: 3",
          "Greenland<BR>Total Deaths: 0",
          "Grenada<BR>Total Deaths: 0",
          "Guatemala<BR>Total Deaths: 3",
          "Haiti<BR>Total Deaths: 0",
          "Honduras<BR>Total Deaths: 22",
          "Jamaica<BR>Total Deaths: 3",
          "Mexico<BR>Total Deaths: 94",
          "Montserrat<BR>Total Deaths: 0",
          "Nicaragua<BR>Total Deaths: 1",
          "Panama<BR>Total Deaths: 54",
          "Puerto_Rico<BR>Total Deaths: 20",
          "Saint_Kitts_and_Nevis<BR>Total Deaths: 0",
          "Saint_Lucia<BR>Total Deaths: 0",
          "Saint_Vincent_and_the_Grenadines<BR>Total Deaths: 0",
          "Sint_Maarten<BR>Total Deaths: 4",
          "Trinidad_and_Tobago<BR>Total Deaths: 7",
          "Turks_and_Caicos_islands<BR>Total Deaths: 1",
          "United_States_Virgin_Islands<BR>Total Deaths: 1",
          "United_States_of_America<BR>Total Deaths: 9647"
         ],
         "type": "scattergeo"
        },
        {
         "locationmode": "ISO-3",
         "locations": [
          "ARG",
          "BOL",
          "BRA",
          "CHL",
          "COL",
          "ECU",
          "GUY",
          "PRY",
          "PER",
          "SUR",
          "URY",
          "VEN"
         ],
         "marker": {
          "color": "firebrick",
          "line": {
           "color": "#ffffff",
           "width": 0.5
          },
          "size": [
           4.6,
           1.1,
           48.6,
           3.4,
           3.5,
           18,
           0.4,
           0.5,
           8.3,
           0.1,
           0.6,
           0.5
          ],
          "sizemode": "area"
         },
         "name": "South America",
         "text": [
          "Argentina<BR>Total Deaths: 46",
          "Bolivia<BR>Total Deaths: 11",
          "Brazil<BR>Total Deaths: 486",
          "Chile<BR>Total Deaths: 34",
          "Colombia<BR>Total Deaths: 35",
          "Ecuador<BR>Total Deaths: 180",
          "Guyana<BR>Total Deaths: 4",
          "Paraguay<BR>Total Deaths: 5",
          "Peru<BR>Total Deaths: 83",
          "Suriname<BR>Total Deaths: 1",
          "Uruguay<BR>Total Deaths: 6",
          "Venezuela<BR>Total Deaths: 5"
         ],
         "type": "scattergeo"
        },
        {
         "locationmode": "ISO-3",
         "locations": [],
         "marker": {
          "color": "peru",
          "line": {
           "color": "#ffffff",
           "width": 0.5
          },
          "size": [],
          "sizemode": "area"
         },
         "name": "nan",
         "text": [],
         "type": "scattergeo"
        }
       ],
       "layout": {
        "geo": {
         "center": {
          "lat": 3.0210842720755005,
          "lon": -20.410286023622433
         },
         "coastlinecolor": "#ffffff",
         "countrycolor": "#ffffff",
         "countrywidth": 0.5,
         "fitbounds": false,
         "landcolor": "rgb(217, 217, 217)",
         "projection": {
          "rotation": {
           "lon": -20.410286023622433
          },
          "scale": 1.000000000000001
         },
         "scope": "world"
        },
        "height": 600,
        "showlegend": true,
        "template": {
         "data": {
          "bar": [
           {
            "error_x": {
             "color": "#2a3f5f"
            },
            "error_y": {
             "color": "#2a3f5f"
            },
            "marker": {
             "line": {
              "color": "#E5ECF6",
              "width": 0.5
             }
            },
            "type": "bar"
           }
          ],
          "barpolar": [
           {
            "marker": {
             "line": {
              "color": "#E5ECF6",
              "width": 0.5
             }
            },
            "type": "barpolar"
           }
          ],
          "carpet": [
           {
            "aaxis": {
             "endlinecolor": "#2a3f5f",
             "gridcolor": "white",
             "linecolor": "white",
             "minorgridcolor": "white",
             "startlinecolor": "#2a3f5f"
            },
            "baxis": {
             "endlinecolor": "#2a3f5f",
             "gridcolor": "white",
             "linecolor": "white",
             "minorgridcolor": "white",
             "startlinecolor": "#2a3f5f"
            },
            "type": "carpet"
           }
          ],
          "choropleth": [
           {
            "colorbar": {
             "outlinewidth": 0,
             "ticks": ""
            },
            "type": "choropleth"
           }
          ],
          "contour": [
           {
            "colorbar": {
             "outlinewidth": 0,
             "ticks": ""
            },
            "colorscale": [
             [
              0,
              "#0d0887"
             ],
             [
              0.1111111111111111,
              "#46039f"
             ],
             [
              0.2222222222222222,
              "#7201a8"
             ],
             [
              0.3333333333333333,
              "#9c179e"
             ],
             [
              0.4444444444444444,
              "#bd3786"
             ],
             [
              0.5555555555555556,
              "#d8576b"
             ],
             [
              0.6666666666666666,
              "#ed7953"
             ],
             [
              0.7777777777777778,
              "#fb9f3a"
             ],
             [
              0.8888888888888888,
              "#fdca26"
             ],
             [
              1,
              "#f0f921"
             ]
            ],
            "type": "contour"
           }
          ],
          "contourcarpet": [
           {
            "colorbar": {
             "outlinewidth": 0,
             "ticks": ""
            },
            "type": "contourcarpet"
           }
          ],
          "heatmap": [
           {
            "colorbar": {
             "outlinewidth": 0,
             "ticks": ""
            },
            "colorscale": [
             [
              0,
              "#0d0887"
             ],
             [
              0.1111111111111111,
              "#46039f"
             ],
             [
              0.2222222222222222,
              "#7201a8"
             ],
             [
              0.3333333333333333,
              "#9c179e"
             ],
             [
              0.4444444444444444,
              "#bd3786"
             ],
             [
              0.5555555555555556,
              "#d8576b"
             ],
             [
              0.6666666666666666,
              "#ed7953"
             ],
             [
              0.7777777777777778,
              "#fb9f3a"
             ],
             [
              0.8888888888888888,
              "#fdca26"
             ],
             [
              1,
              "#f0f921"
             ]
            ],
            "type": "heatmap"
           }
          ],
          "heatmapgl": [
           {
            "colorbar": {
             "outlinewidth": 0,
             "ticks": ""
            },
            "colorscale": [
             [
              0,
              "#0d0887"
             ],
             [
              0.1111111111111111,
              "#46039f"
             ],
             [
              0.2222222222222222,
              "#7201a8"
             ],
             [
              0.3333333333333333,
              "#9c179e"
             ],
             [
              0.4444444444444444,
              "#bd3786"
             ],
             [
              0.5555555555555556,
              "#d8576b"
             ],
             [
              0.6666666666666666,
              "#ed7953"
             ],
             [
              0.7777777777777778,
              "#fb9f3a"
             ],
             [
              0.8888888888888888,
              "#fdca26"
             ],
             [
              1,
              "#f0f921"
             ]
            ],
            "type": "heatmapgl"
           }
          ],
          "histogram": [
           {
            "marker": {
             "colorbar": {
              "outlinewidth": 0,
              "ticks": ""
             }
            },
            "type": "histogram"
           }
          ],
          "histogram2d": [
           {
            "colorbar": {
             "outlinewidth": 0,
             "ticks": ""
            },
            "colorscale": [
             [
              0,
              "#0d0887"
             ],
             [
              0.1111111111111111,
              "#46039f"
             ],
             [
              0.2222222222222222,
              "#7201a8"
             ],
             [
              0.3333333333333333,
              "#9c179e"
             ],
             [
              0.4444444444444444,
              "#bd3786"
             ],
             [
              0.5555555555555556,
              "#d8576b"
             ],
             [
              0.6666666666666666,
              "#ed7953"
             ],
             [
              0.7777777777777778,
              "#fb9f3a"
             ],
             [
              0.8888888888888888,
              "#fdca26"
             ],
             [
              1,
              "#f0f921"
             ]
            ],
            "type": "histogram2d"
           }
          ],
          "histogram2dcontour": [
           {
            "colorbar": {
             "outlinewidth": 0,
             "ticks": ""
            },
            "colorscale": [
             [
              0,
              "#0d0887"
             ],
             [
              0.1111111111111111,
              "#46039f"
             ],
             [
              0.2222222222222222,
              "#7201a8"
             ],
             [
              0.3333333333333333,
              "#9c179e"
             ],
             [
              0.4444444444444444,
              "#bd3786"
             ],
             [
              0.5555555555555556,
              "#d8576b"
             ],
             [
              0.6666666666666666,
              "#ed7953"
             ],
             [
              0.7777777777777778,
              "#fb9f3a"
             ],
             [
              0.8888888888888888,
              "#fdca26"
             ],
             [
              1,
              "#f0f921"
             ]
            ],
            "type": "histogram2dcontour"
           }
          ],
          "mesh3d": [
           {
            "colorbar": {
             "outlinewidth": 0,
             "ticks": ""
            },
            "type": "mesh3d"
           }
          ],
          "parcoords": [
           {
            "line": {
             "colorbar": {
              "outlinewidth": 0,
              "ticks": ""
             }
            },
            "type": "parcoords"
           }
          ],
          "pie": [
           {
            "automargin": true,
            "type": "pie"
           }
          ],
          "scatter": [
           {
            "marker": {
             "colorbar": {
              "outlinewidth": 0,
              "ticks": ""
             }
            },
            "type": "scatter"
           }
          ],
          "scatter3d": [
           {
            "line": {
             "colorbar": {
              "outlinewidth": 0,
              "ticks": ""
             }
            },
            "marker": {
             "colorbar": {
              "outlinewidth": 0,
              "ticks": ""
             }
            },
            "type": "scatter3d"
           }
          ],
          "scattercarpet": [
           {
            "marker": {
             "colorbar": {
              "outlinewidth": 0,
              "ticks": ""
             }
            },
            "type": "scattercarpet"
           }
          ],
          "scattergeo": [
           {
            "marker": {
             "colorbar": {
              "outlinewidth": 0,
              "ticks": ""
             }
            },
            "type": "scattergeo"
           }
          ],
          "scattergl": [
           {
            "marker": {
             "colorbar": {
              "outlinewidth": 0,
              "ticks": ""
             }
            },
            "type": "scattergl"
           }
          ],
          "scattermapbox": [
           {
            "marker": {
             "colorbar": {
              "outlinewidth": 0,
              "ticks": ""
             }
            },
            "type": "scattermapbox"
           }
          ],
          "scatterpolar": [
           {
            "marker": {
             "colorbar": {
              "outlinewidth": 0,
              "ticks": ""
             }
            },
            "type": "scatterpolar"
           }
          ],
          "scatterpolargl": [
           {
            "marker": {
             "colorbar": {
              "outlinewidth": 0,
              "ticks": ""
             }
            },
            "type": "scatterpolargl"
           }
          ],
          "scatterternary": [
           {
            "marker": {
             "colorbar": {
              "outlinewidth": 0,
              "ticks": ""
             }
            },
            "type": "scatterternary"
           }
          ],
          "surface": [
           {
            "colorbar": {
             "outlinewidth": 0,
             "ticks": ""
            },
            "colorscale": [
             [
              0,
              "#0d0887"
             ],
             [
              0.1111111111111111,
              "#46039f"
             ],
             [
              0.2222222222222222,
              "#7201a8"
             ],
             [
              0.3333333333333333,
              "#9c179e"
             ],
             [
              0.4444444444444444,
              "#bd3786"
             ],
             [
              0.5555555555555556,
              "#d8576b"
             ],
             [
              0.6666666666666666,
              "#ed7953"
             ],
             [
              0.7777777777777778,
              "#fb9f3a"
             ],
             [
              0.8888888888888888,
              "#fdca26"
             ],
             [
              1,
              "#f0f921"
             ]
            ],
            "type": "surface"
           }
          ],
          "table": [
           {
            "cells": {
             "fill": {
              "color": "#EBF0F8"
             },
             "line": {
              "color": "white"
             }
            },
            "header": {
             "fill": {
              "color": "#C8D4E3"
             },
             "line": {
              "color": "white"
             }
            },
            "type": "table"
           }
          ]
         },
         "layout": {
          "annotationdefaults": {
           "arrowcolor": "#2a3f5f",
           "arrowhead": 0,
           "arrowwidth": 1
          },
          "coloraxis": {
           "colorbar": {
            "outlinewidth": 0,
            "ticks": ""
           }
          },
          "colorscale": {
           "diverging": [
            [
             0,
             "#8e0152"
            ],
            [
             0.1,
             "#c51b7d"
            ],
            [
             0.2,
             "#de77ae"
            ],
            [
             0.3,
             "#f1b6da"
            ],
            [
             0.4,
             "#fde0ef"
            ],
            [
             0.5,
             "#f7f7f7"
            ],
            [
             0.6,
             "#e6f5d0"
            ],
            [
             0.7,
             "#b8e186"
            ],
            [
             0.8,
             "#7fbc41"
            ],
            [
             0.9,
             "#4d9221"
            ],
            [
             1,
             "#276419"
            ]
           ],
           "sequential": [
            [
             0,
             "#0d0887"
            ],
            [
             0.1111111111111111,
             "#46039f"
            ],
            [
             0.2222222222222222,
             "#7201a8"
            ],
            [
             0.3333333333333333,
             "#9c179e"
            ],
            [
             0.4444444444444444,
             "#bd3786"
            ],
            [
             0.5555555555555556,
             "#d8576b"
            ],
            [
             0.6666666666666666,
             "#ed7953"
            ],
            [
             0.7777777777777778,
             "#fb9f3a"
            ],
            [
             0.8888888888888888,
             "#fdca26"
            ],
            [
             1,
             "#f0f921"
            ]
           ],
           "sequentialminus": [
            [
             0,
             "#0d0887"
            ],
            [
             0.1111111111111111,
             "#46039f"
            ],
            [
             0.2222222222222222,
             "#7201a8"
            ],
            [
             0.3333333333333333,
             "#9c179e"
            ],
            [
             0.4444444444444444,
             "#bd3786"
            ],
            [
             0.5555555555555556,
             "#d8576b"
            ],
            [
             0.6666666666666666,
             "#ed7953"
            ],
            [
             0.7777777777777778,
             "#fb9f3a"
            ],
            [
             0.8888888888888888,
             "#fdca26"
            ],
            [
             1,
             "#f0f921"
            ]
           ]
          },
          "colorway": [
           "#636efa",
           "#EF553B",
           "#00cc96",
           "#ab63fa",
           "#FFA15A",
           "#19d3f3",
           "#FF6692",
           "#B6E880",
           "#FF97FF",
           "#FECB52"
          ],
          "font": {
           "color": "#2a3f5f"
          },
          "geo": {
           "bgcolor": "white",
           "lakecolor": "white",
           "landcolor": "#E5ECF6",
           "showlakes": true,
           "showland": true,
           "subunitcolor": "white"
          },
          "hoverlabel": {
           "align": "left"
          },
          "hovermode": "closest",
          "mapbox": {
           "style": "light"
          },
          "paper_bgcolor": "white",
          "plot_bgcolor": "#E5ECF6",
          "polar": {
           "angularaxis": {
            "gridcolor": "white",
            "linecolor": "white",
            "ticks": ""
           },
           "bgcolor": "#E5ECF6",
           "radialaxis": {
            "gridcolor": "white",
            "linecolor": "white",
            "ticks": ""
           }
          },
          "scene": {
           "xaxis": {
            "backgroundcolor": "#E5ECF6",
            "gridcolor": "white",
            "gridwidth": 2,
            "linecolor": "white",
            "showbackground": true,
            "ticks": "",
            "zerolinecolor": "white"
           },
           "yaxis": {
            "backgroundcolor": "#E5ECF6",
            "gridcolor": "white",
            "gridwidth": 2,
            "linecolor": "white",
            "showbackground": true,
            "ticks": "",
            "zerolinecolor": "white"
           },
           "zaxis": {
            "backgroundcolor": "#E5ECF6",
            "gridcolor": "white",
            "gridwidth": 2,
            "linecolor": "white",
            "showbackground": true,
            "ticks": "",
            "zerolinecolor": "white"
           }
          },
          "shapedefaults": {
           "line": {
            "color": "#2a3f5f"
           }
          },
          "ternary": {
           "aaxis": {
            "gridcolor": "white",
            "linecolor": "white",
            "ticks": ""
           },
           "baxis": {
            "gridcolor": "white",
            "linecolor": "white",
            "ticks": ""
           },
           "bgcolor": "#E5ECF6",
           "caxis": {
            "gridcolor": "white",
            "linecolor": "white",
            "ticks": ""
           }
          },
          "title": {
           "x": 0.05
          },
          "xaxis": {
           "automargin": true,
           "gridcolor": "white",
           "linecolor": "white",
           "ticks": "",
           "title": {
            "standoff": 15
           },
           "zerolinecolor": "white",
           "zerolinewidth": 2
          },
          "yaxis": {
           "automargin": true,
           "gridcolor": "white",
           "linecolor": "white",
           "ticks": "",
           "title": {
            "standoff": 15
           },
           "zerolinecolor": "white",
           "zerolinewidth": 2
          }
         }
        },
        "title": {
         "text": "<b> World Wide Corona virus deaths </b> <BR> As reported at 05 Apr 2020"
        },
        "width": 1000
       }
      },
      "image/png": "[encoded data removed]",
      "text/html": [
       "<div>\n",
       "        \n",
       "        \n",
       "            <div id=\"da0de16f-3434-4cc9-b005-254ecfd64a60\" class=\"plotly-graph-div\" style=\"height:600px; width:1000px;\"></div>\n",
       "            <script type=\"text/javascript\">\n",
       "                require([\"plotly\"], function(Plotly) {\n",
       "                    window.PLOTLYENV=window.PLOTLYENV || {};\n",
       "                    \n",
       "                if (document.getElementById(\"da0de16f-3434-4cc9-b005-254ecfd64a60\")) {\n",
       "                    Plotly.newPlot(\n",
       "                        'da0de16f-3434-4cc9-b005-254ecfd64a60',\n",
       "                        [{\"locationmode\": \"ISO-3\", \"locations\": [\"AFG\", null, null, null, \"ARM\", \"AZE\", \"BHR\", \"BGD\", \"BTN\", null, null, null, \"BRN\", \"KHM\", \"CHN\", \"CYP\", null, null, null, \"GEO\", \"IND\", \"IDN\", \"IRN\", \"IRQ\", \"ISR\", \"JPN\", \"JOR\", \"KAZ\", \"KWT\", \"KGZ\", \"LAO\", \"LBN\", \"MYS\", \"MDV\", \"MNG\", \"MMR\", \"NPL\", \"OMN\", \"PAK\", \"PSE\", \"PHL\", \"QAT\", \"RUS\", \"SAU\", \"SGP\", \"KOR\", \"LKA\", \"SYR\", \"TWN\", \"THA\", \"TLS\", \"TUR\", \"ARE\", \"UZB\", \"VNM\"], \"marker\": {\"color\": \"royalblue\", \"line\": {\"color\": \"#ffffff\", \"width\": 0.5}, \"size\": [0.7, 0.0, 0.0, 0.0, 1.4, 1.4, 0.4, 0.9, 0.0, 0.0, 0.0, 0.0, 0.1, 0.0, 333.5, 2.8, 0.0, 0.0, 0.0, 0.4, 10.9, 19.8, 360.3, 6.1, 4.9, 7.3, 0.5, 1.0, 0.1, 0.4, 0.0, 1.8, 6.1, 0.0, 0.0, 0.1, 0.0, 0.2, 5.0, 0.1, 15.2, 0.4, 9.0, 3.4, 0.6, 18.6, 0.5, 0.2, 0.5, 2.6, 0.0, 114.8, 1.0, 0.2, 0.0], \"sizemode\": \"area\"}, \"name\": \"Asia\", \"text\": [\"Afghanistan<BR>Total Deaths: 7\", \"Anguilla<BR>Total Deaths: 0\", \"Anguilla<BR>Total Deaths: 0\", \"Anguilla<BR>Total Deaths: 0\", \"Armenia<BR>Total Deaths: 14\", \"Azerbaijan<BR>Total Deaths: 14\", \"Bahrain<BR>Total Deaths: 4\", \"Bangladesh<BR>Total Deaths: 9\", \"Bhutan<BR>Total Deaths: 0\", \"Bonaire, Saint Eustatius and Saba<BR>Total Deaths: 0\", \"Bonaire, Saint Eustatius and Saba<BR>Total Deaths: 0\", \"Bonaire, Saint Eustatius and Saba<BR>Total Deaths: 0\", \"Brunei_Darussalam<BR>Total Deaths: 1\", \"Cambodia<BR>Total Deaths: 0\", \"China<BR>Total Deaths: 3335\", \"Cyprus<BR>Total Deaths: 28\", \"Falkland_Islands_(Malvinas)<BR>Total Deaths: 0\", \"Falkland_Islands_(Malvinas)<BR>Total Deaths: 0\", \"Falkland_Islands_(Malvinas)<BR>Total Deaths: 0\", \"Georgia<BR>Total Deaths: 4\", \"India<BR>Total Deaths: 109\", \"Indonesia<BR>Total Deaths: 198\", \"Iran<BR>Total Deaths: 3603\", \"Iraq<BR>Total Deaths: 61\", \"Israel<BR>Total Deaths: 49\", \"Japan<BR>Total Deaths: 73\", \"Jordan<BR>Total Deaths: 5\", \"Kazakhstan<BR>Total Deaths: 10\", \"Kuwait<BR>Total Deaths: 1\", \"Kyrgyzstan<BR>Total Deaths: 4\", \"Laos<BR>Total Deaths: 0\", \"Lebanon<BR>Total Deaths: 18\", \"Malaysia<BR>Total Deaths: 61\", \"Maldives<BR>Total Deaths: 0\", \"Mongolia<BR>Total Deaths: 0\", \"Myanmar<BR>Total Deaths: 1\", \"Nepal<BR>Total Deaths: 0\", \"Oman<BR>Total Deaths: 2\", \"Pakistan<BR>Total Deaths: 50\", \"Palestine<BR>Total Deaths: 1\", \"Philippines<BR>Total Deaths: 152\", \"Qatar<BR>Total Deaths: 4\", \"Russia<BR>Total Deaths: 90\", \"Saudi_Arabia<BR>Total Deaths: 34\", \"Singapore<BR>Total Deaths: 6\", \"South_Korea<BR>Total Deaths: 186\", \"Sri_Lanka<BR>Total Deaths: 5\", \"Syria<BR>Total Deaths: 2\", \"Taiwan<BR>Total Deaths: 5\", \"Thailand<BR>Total Deaths: 26\", \"Timor_Leste<BR>Total Deaths: 0\", \"Turkey<BR>Total Deaths: 1148\", \"United_Arab_Emirates<BR>Total Deaths: 10\", \"Uzbekistan<BR>Total Deaths: 2\", \"Vietnam<BR>Total Deaths: 0\"], \"type\": \"scattergeo\"}, {\"locationmode\": \"ISO-3\", \"locations\": [\"ALB\", \"AND\", \"ARM\", \"AUT\", \"AZE\", \"BLR\", \"BEL\", \"BIH\", \"BGR\", \"HRV\", \"CYP\", \"CZE\", \"DNK\", \"EST\", \"FRO\", \"FIN\", \"FRA\", \"GEO\", \"DEU\", \"GIB\", \"GRC\", \"GGY\", \"VAT\", \"HUN\", \"ISL\", \"IRL\", \"IMN\", \"ITA\", \"JEY\", \"KAZ\", \"LVA\", \"LIE\", \"LTU\", \"LUX\", \"MLT\", \"MDA\", \"MCO\", \"MNE\", \"MKD\", \"NOR\", \"POL\", \"PRT\", \"ROU\", \"RUS\", \"SMR\", \"SRB\", \"SVK\", \"SVN\", \"ESP\", \"SWE\", \"CHE\", \"TUR\", \"UKR\", \"GBR\"], \"marker\": {\"color\": \"crimson\", \"line\": {\"color\": \"#ffffff\", \"width\": 0.5}, \"size\": [2.1, 1.8, 1.4, 20.4, 1.2, 0.8, 144.7, 2.4, 2.0, 1.5, 2.5, 6.7, 17.9, 1.5, 0.0, 2.8, 807.8, 0.2, 143.4, 0.1, 7.3, 0.3, 0.0, 3.8, 0.4, 15.8, 0.1, 1588.9, 0.3, 0.8, 0.1, 0.1, 1.3, 3.6, 0.0, 1.5, 0.2, 0.2, 1.7, 5.8, 9.4, 29.5, 14.8, 8.8, 3.2, 5.1, 0.0, 2.8, 1241.8, 40.1, 71.5, 107.5, 3.2, 493.4], \"sizemode\": \"area\"}, \"name\": \"Europe\", \"text\": [\"Albania<BR>Total Deaths: 21\", \"Andorra<BR>Total Deaths: 18\", \"Armenia<BR>Total Deaths: 14\", \"Austria<BR>Total Deaths: 204\", \"Azerbaijan<BR>Total Deaths: 12\", \"Belarus<BR>Total Deaths: 8\", \"Belgium<BR>Total Deaths: 1447\", \"Bosnia_and_Herzegovina<BR>Total Deaths: 24\", \"Bulgaria<BR>Total Deaths: 20\", \"Croatia<BR>Total Deaths: 15\", \"Cyprus<BR>Total Deaths: 25\", \"Czech_Republic<BR>Total Deaths: 67\", \"Denmark<BR>Total Deaths: 179\", \"Estonia<BR>Total Deaths: 15\", \"Faroe_Islands<BR>Total Deaths: 0\", \"Finland<BR>Total Deaths: 28\", \"France<BR>Total Deaths: 8078\", \"Georgia<BR>Total Deaths: 2\", \"Germany<BR>Total Deaths: 1434\", \"Gibraltar<BR>Total Deaths: 1\", \"Greece<BR>Total Deaths: 73\", \"Guernsey<BR>Total Deaths: 3\", \"Holy_See<BR>Total Deaths: 0\", \"Hungary<BR>Total Deaths: 38\", \"Iceland<BR>Total Deaths: 4\", \"Ireland<BR>Total Deaths: 158\", \"Isle_of_Man<BR>Total Deaths: 1\", \"Italy<BR>Total Deaths: 15889\", \"Jersey<BR>Total Deaths: 3\", \"Kazakhstan<BR>Total Deaths: 8\", \"Latvia<BR>Total Deaths: 1\", \"Liechtenstein<BR>Total Deaths: 1\", \"Lithuania<BR>Total Deaths: 13\", \"Luxembourg<BR>Total Deaths: 36\", \"Malta<BR>Total Deaths: 0\", \"Moldova<BR>Total Deaths: 15\", \"Monaco<BR>Total Deaths: 2\", \"Montenegro<BR>Total Deaths: 2\", \"North_Macedonia<BR>Total Deaths: 17\", \"Norway<BR>Total Deaths: 58\", \"Poland<BR>Total Deaths: 94\", \"Portugal<BR>Total Deaths: 295\", \"Romania<BR>Total Deaths: 148\", \"Russia<BR>Total Deaths: 88\", \"San_Marino<BR>Total Deaths: 32\", \"Serbia<BR>Total Deaths: 51\", \"Slovakia<BR>Total Deaths: 0\", \"Slovenia<BR>Total Deaths: 28\", \"Spain<BR>Total Deaths: 12418\", \"Sweden<BR>Total Deaths: 401\", \"Switzerland<BR>Total Deaths: 715\", \"Turkey<BR>Total Deaths: 1075\", \"Ukraine<BR>Total Deaths: 32\", \"United_Kingdom<BR>Total Deaths: 4934\"], \"type\": \"scattergeo\"}, {\"locationmode\": \"ISO-3\", \"locations\": [\"DZA\", \"AGO\", \"BEN\", \"BWA\", \"BFA\", \"BDI\", \"CMR\", \"CPV\", \"CAF\", \"TCD\", \"COG\", \"CIV\", \"COD\", \"DJI\", \"EGY\", \"GNQ\", \"ERI\", \"SWZ\", \"ETH\", \"GAB\", \"GMB\", \"GHA\", \"GIN\", \"GNB\", \"KEN\", \"LBR\", \"LBY\", \"MDG\", \"MWI\", \"MLI\", \"MRT\", \"MUS\", \"MAR\", \"MOZ\", \"NAM\", \"NER\", \"NGA\", \"RWA\", \"SEN\", \"SYC\", \"SLE\", \"SOM\", \"ZAF\", \"SSD\", \"SDN\", \"TGO\", \"TUN\", \"UGA\", \"TZA\", \"ZMB\", \"ZWE\"], \"marker\": {\"color\": \"lightseagreen\", \"line\": {\"color\": \"#ffffff\", \"width\": 0.5}, \"size\": [15.2, 0.2, 0.0, 0.1, 1.7, 0.0, 0.9, 0.1, 0.0, 0.0, 0.5, 0.3, 1.8, 0.0, 7.1, 0.0, 0.0, 0.0, 0.2, 0.1, 0.1, 0.5, 0.5, 0.0, 0.4, 0.3, 0.1, 0.0, 0.0, 0.5, 0.1, 0.7, 7.0, 0.0, 0.0, 1.0, 0.5, 0.0, 0.2, 0.0, 0.0, 0.0, 1.1, 0.0, 0.2, 0.3, 1.9, 0.0, 0.1, 0.1, 0.1], \"sizemode\": \"area\"}, \"name\": \"Africa\", \"text\": [\"Algeria<BR>Total Deaths: 152\", \"Angola<BR>Total Deaths: 2\", \"Benin<BR>Total Deaths: 0\", \"Botswana<BR>Total Deaths: 1\", \"Burkina_Faso<BR>Total Deaths: 17\", \"Burundi<BR>Total Deaths: 0\", \"Cameroon<BR>Total Deaths: 9\", \"Cape_Verde<BR>Total Deaths: 1\", \"Central_African_Republic<BR>Total Deaths: 0\", \"Chad<BR>Total Deaths: 0\", \"Congo<BR>Total Deaths: 5\", \"Cote_dIvoire<BR>Total Deaths: 3\", \"Democratic_Republic_of_the_Congo<BR>Total Deaths: 18\", \"Djibouti<BR>Total Deaths: 0\", \"Egypt<BR>Total Deaths: 71\", \"Equatorial_Guinea<BR>Total Deaths: 0\", \"Eritrea<BR>Total Deaths: 0\", \"Eswatini<BR>Total Deaths: 0\", \"Ethiopia<BR>Total Deaths: 2\", \"Gabon<BR>Total Deaths: 1\", \"Gambia<BR>Total Deaths: 1\", \"Ghana<BR>Total Deaths: 5\", \"Guinea<BR>Total Deaths: 5\", \"Guinea_Bissau<BR>Total Deaths: 0\", \"Kenya<BR>Total Deaths: 4\", \"Liberia<BR>Total Deaths: 3\", \"Libya<BR>Total Deaths: 1\", \"Madagascar<BR>Total Deaths: 0\", \"Malawi<BR>Total Deaths: 0\", \"Mali<BR>Total Deaths: 5\", \"Mauritania<BR>Total Deaths: 1\", \"Mauritius<BR>Total Deaths: 7\", \"Morocco<BR>Total Deaths: 70\", \"Mozambique<BR>Total Deaths: 0\", \"Namibia<BR>Total Deaths: 0\", \"Niger<BR>Total Deaths: 10\", \"Nigeria<BR>Total Deaths: 5\", \"Rwanda<BR>Total Deaths: 0\", \"Senegal<BR>Total Deaths: 2\", \"Seychelles<BR>Total Deaths: 0\", \"Sierra_Leone<BR>Total Deaths: 0\", \"Somalia<BR>Total Deaths: 0\", \"South_Africa<BR>Total Deaths: 11\", \"South_Sudan<BR>Total Deaths: 0\", \"Sudan<BR>Total Deaths: 2\", \"Togo<BR>Total Deaths: 3\", \"Tunisia<BR>Total Deaths: 19\", \"Uganda<BR>Total Deaths: 0\", \"United_Republic_of_Tanzania<BR>Total Deaths: 1\", \"Zambia<BR>Total Deaths: 1\", \"Zimbabwe<BR>Total Deaths: 1\"], \"type\": \"scattergeo\"}, {\"locationmode\": \"ISO-3\", \"locations\": [null, \"AUS\", null, null, \"FJI\", \"PYF\", \"GUM\", \"NCL\", \"NZL\", \"MNP\", \"PNG\"], \"marker\": {\"color\": \"orange\", \"line\": {\"color\": \"#ffffff\", \"width\": 0.5}, \"size\": [0.0, 3.6, 0.0, 0.0, 0.0, 0.0, 0.4, 0.0, 0.1, 0.1, 0.0], \"sizemode\": \"area\"}, \"name\": \"Oceania\", \"text\": [\"Anguilla<BR>Total Deaths: 0\", \"Australia<BR>Total Deaths: 36\", \"Bonaire, Saint Eustatius and Saba<BR>Total Deaths: 0\", \"Falkland_Islands_(Malvinas)<BR>Total Deaths: 0\", \"Fiji<BR>Total Deaths: 0\", \"French_Polynesia<BR>Total Deaths: 0\", \"Guam<BR>Total Deaths: 4\", \"New_Caledonia<BR>Total Deaths: 0\", \"New_Zealand<BR>Total Deaths: 1\", \"Northern_Mariana_Islands<BR>Total Deaths: 1\", \"Papua_New_Guinea<BR>Total Deaths: 0\"], \"type\": \"scattergeo\"}, {\"locationmode\": \"ISO-3\", \"locations\": [\"ATG\", \"ABW\", \"BHS\", \"BRB\", \"BLZ\", \"BMU\", \"VGB\", \"CAN\", \"CYM\", \"CRI\", \"CUB\", \"CUW\", \"DMA\", \"DOM\", \"SLV\", \"GRL\", \"GRD\", \"GTM\", \"HTI\", \"HND\", \"JAM\", \"MEX\", \"MSR\", \"NIC\", \"PAN\", \"PRI\", \"KNA\", \"LCA\", \"VCT\", \"SXM\", \"TTO\", \"TCA\", \"VIR\", \"USA\"], \"marker\": {\"color\": \"gold\", \"line\": {\"color\": \"#ffffff\", \"width\": 0.5}, \"size\": [0.0, 0.0, 0.5, 0.1, 0.1, 0.0, 0.0, 28.0, 0.1, 0.2, 0.8, 0.1, 0.0, 8.2, 0.3, 0.0, 0.0, 0.3, 0.0, 2.2, 0.3, 9.4, 0.0, 0.1, 5.4, 2.0, 0.0, 0.0, 0.0, 0.4, 0.7, 0.1, 0.1, 964.7], \"sizemode\": \"area\"}, \"name\": \"North America\", \"text\": [\"Antigua_and_Barbuda<BR>Total Deaths: 0\", \"Aruba<BR>Total Deaths: 0\", \"Bahamas<BR>Total Deaths: 5\", \"Barbados<BR>Total Deaths: 1\", \"Belize<BR>Total Deaths: 1\", \"Bermuda<BR>Total Deaths: 0\", \"British_Virgin_Islands<BR>Total Deaths: 0\", \"Canada<BR>Total Deaths: 280\", \"Cayman_Islands<BR>Total Deaths: 1\", \"Costa_Rica<BR>Total Deaths: 2\", \"Cuba<BR>Total Deaths: 8\", \"Cura\\u00e7ao<BR>Total Deaths: 1\", \"Dominica<BR>Total Deaths: 0\", \"Dominican_Republic<BR>Total Deaths: 82\", \"El_Salvador<BR>Total Deaths: 3\", \"Greenland<BR>Total Deaths: 0\", \"Grenada<BR>Total Deaths: 0\", \"Guatemala<BR>Total Deaths: 3\", \"Haiti<BR>Total Deaths: 0\", \"Honduras<BR>Total Deaths: 22\", \"Jamaica<BR>Total Deaths: 3\", \"Mexico<BR>Total Deaths: 94\", \"Montserrat<BR>Total Deaths: 0\", \"Nicaragua<BR>Total Deaths: 1\", \"Panama<BR>Total Deaths: 54\", \"Puerto_Rico<BR>Total Deaths: 20\", \"Saint_Kitts_and_Nevis<BR>Total Deaths: 0\", \"Saint_Lucia<BR>Total Deaths: 0\", \"Saint_Vincent_and_the_Grenadines<BR>Total Deaths: 0\", \"Sint_Maarten<BR>Total Deaths: 4\", \"Trinidad_and_Tobago<BR>Total Deaths: 7\", \"Turks_and_Caicos_islands<BR>Total Deaths: 1\", \"United_States_Virgin_Islands<BR>Total Deaths: 1\", \"United_States_of_America<BR>Total Deaths: 9647\"], \"type\": \"scattergeo\"}, {\"locationmode\": \"ISO-3\", \"locations\": [\"ARG\", \"BOL\", \"BRA\", \"CHL\", \"COL\", \"ECU\", \"GUY\", \"PRY\", \"PER\", \"SUR\", \"URY\", \"VEN\"], \"marker\": {\"color\": \"firebrick\", \"line\": {\"color\": \"#ffffff\", \"width\": 0.5}, \"size\": [4.6, 1.1, 48.6, 3.4, 3.5, 18.0, 0.4, 0.5, 8.3, 0.1, 0.6, 0.5], \"sizemode\": \"area\"}, \"name\": \"South America\", \"text\": [\"Argentina<BR>Total Deaths: 46\", \"Bolivia<BR>Total Deaths: 11\", \"Brazil<BR>Total Deaths: 486\", \"Chile<BR>Total Deaths: 34\", \"Colombia<BR>Total Deaths: 35\", \"Ecuador<BR>Total Deaths: 180\", \"Guyana<BR>Total Deaths: 4\", \"Paraguay<BR>Total Deaths: 5\", \"Peru<BR>Total Deaths: 83\", \"Suriname<BR>Total Deaths: 1\", \"Uruguay<BR>Total Deaths: 6\", \"Venezuela<BR>Total Deaths: 5\"], \"type\": \"scattergeo\"}, {\"locationmode\": \"ISO-3\", \"locations\": [], \"marker\": {\"color\": \"peru\", \"line\": {\"color\": \"#ffffff\", \"width\": 0.5}, \"size\": [], \"sizemode\": \"area\"}, \"name\": \"nan\", \"text\": [], \"type\": \"scattergeo\"}],\n",
       "                        {\"geo\": {\"coastlinecolor\": \"#ffffff\", \"countrycolor\": \"#ffffff\", \"countrywidth\": 0.5, \"landcolor\": \"rgb(217, 217, 217)\", \"scope\": \"world\"}, \"height\": 600, \"showlegend\": true, \"template\": {\"data\": {\"bar\": [{\"error_x\": {\"color\": \"#2a3f5f\"}, \"error_y\": {\"color\": \"#2a3f5f\"}, \"marker\": {\"line\": {\"color\": \"#E5ECF6\", \"width\": 0.5}}, \"type\": \"bar\"}], \"barpolar\": [{\"marker\": {\"line\": {\"color\": \"#E5ECF6\", \"width\": 0.5}}, \"type\": \"barpolar\"}], \"carpet\": [{\"aaxis\": {\"endlinecolor\": \"#2a3f5f\", \"gridcolor\": \"white\", \"linecolor\": \"white\", \"minorgridcolor\": \"white\", \"startlinecolor\": \"#2a3f5f\"}, \"baxis\": {\"endlinecolor\": \"#2a3f5f\", \"gridcolor\": \"white\", \"linecolor\": \"white\", \"minorgridcolor\": \"white\", \"startlinecolor\": \"#2a3f5f\"}, \"type\": \"carpet\"}], \"choropleth\": [{\"colorbar\": {\"outlinewidth\": 0, \"ticks\": \"\"}, \"type\": \"choropleth\"}], \"contour\": [{\"colorbar\": {\"outlinewidth\": 0, \"ticks\": \"\"}, \"colorscale\": [[0.0, \"#0d0887\"], [0.1111111111111111, \"#46039f\"], [0.2222222222222222, \"#7201a8\"], [0.3333333333333333, \"#9c179e\"], [0.4444444444444444, \"#bd3786\"], [0.5555555555555556, \"#d8576b\"], [0.6666666666666666, \"#ed7953\"], [0.7777777777777778, \"#fb9f3a\"], [0.8888888888888888, \"#fdca26\"], [1.0, \"#f0f921\"]], \"type\": \"contour\"}], \"contourcarpet\": [{\"colorbar\": {\"outlinewidth\": 0, \"ticks\": \"\"}, \"type\": \"contourcarpet\"}], \"heatmap\": [{\"colorbar\": {\"outlinewidth\": 0, \"ticks\": \"\"}, \"colorscale\": [[0.0, \"#0d0887\"], [0.1111111111111111, \"#46039f\"], [0.2222222222222222, \"#7201a8\"], [0.3333333333333333, \"#9c179e\"], [0.4444444444444444, \"#bd3786\"], [0.5555555555555556, \"#d8576b\"], [0.6666666666666666, \"#ed7953\"], [0.7777777777777778, \"#fb9f3a\"], [0.8888888888888888, \"#fdca26\"], [1.0, \"#f0f921\"]], \"type\": \"heatmap\"}], \"heatmapgl\": [{\"colorbar\": {\"outlinewidth\": 0, \"ticks\": \"\"}, \"colorscale\": [[0.0, \"#0d0887\"], [0.1111111111111111, \"#46039f\"], [0.2222222222222222, \"#7201a8\"], [0.3333333333333333, \"#9c179e\"], [0.4444444444444444, \"#bd3786\"], [0.5555555555555556, \"#d8576b\"], [0.6666666666666666, \"#ed7953\"], [0.7777777777777778, \"#fb9f3a\"], [0.8888888888888888, \"#fdca26\"], [1.0, \"#f0f921\"]], \"type\": \"heatmapgl\"}], \"histogram\": [{\"marker\": {\"colorbar\": {\"outlinewidth\": 0, \"ticks\": \"\"}}, \"type\": \"histogram\"}], \"histogram2d\": [{\"colorbar\": {\"outlinewidth\": 0, \"ticks\": \"\"}, \"colorscale\": [[0.0, \"#0d0887\"], [0.1111111111111111, \"#46039f\"], [0.2222222222222222, \"#7201a8\"], [0.3333333333333333, \"#9c179e\"], [0.4444444444444444, \"#bd3786\"], [0.5555555555555556, \"#d8576b\"], [0.6666666666666666, \"#ed7953\"], [0.7777777777777778, \"#fb9f3a\"], [0.8888888888888888, \"#fdca26\"], [1.0, \"#f0f921\"]], \"type\": \"histogram2d\"}], \"histogram2dcontour\": [{\"colorbar\": {\"outlinewidth\": 0, \"ticks\": \"\"}, \"colorscale\": [[0.0, \"#0d0887\"], [0.1111111111111111, \"#46039f\"], [0.2222222222222222, \"#7201a8\"], [0.3333333333333333, \"#9c179e\"], [0.4444444444444444, \"#bd3786\"], [0.5555555555555556, \"#d8576b\"], [0.6666666666666666, \"#ed7953\"], [0.7777777777777778, \"#fb9f3a\"], [0.8888888888888888, \"#fdca26\"], [1.0, \"#f0f921\"]], \"type\": \"histogram2dcontour\"}], \"mesh3d\": [{\"colorbar\": {\"outlinewidth\": 0, \"ticks\": \"\"}, \"type\": \"mesh3d\"}], \"parcoords\": [{\"line\": {\"colorbar\": {\"outlinewidth\": 0, \"ticks\": \"\"}}, \"type\": \"parcoords\"}], \"pie\": [{\"automargin\": true, \"type\": \"pie\"}], \"scatter\": [{\"marker\": {\"colorbar\": {\"outlinewidth\": 0, \"ticks\": \"\"}}, \"type\": \"scatter\"}], \"scatter3d\": [{\"line\": {\"colorbar\": {\"outlinewidth\": 0, \"ticks\": \"\"}}, \"marker\": {\"colorbar\": {\"outlinewidth\": 0, \"ticks\": \"\"}}, \"type\": \"scatter3d\"}], \"scattercarpet\": [{\"marker\": {\"colorbar\": {\"outlinewidth\": 0, \"ticks\": \"\"}}, \"type\": \"scattercarpet\"}], \"scattergeo\": [{\"marker\": {\"colorbar\": {\"outlinewidth\": 0, \"ticks\": \"\"}}, \"type\": \"scattergeo\"}], \"scattergl\": [{\"marker\": {\"colorbar\": {\"outlinewidth\": 0, \"ticks\": \"\"}}, \"type\": \"scattergl\"}], \"scattermapbox\": [{\"marker\": {\"colorbar\": {\"outlinewidth\": 0, \"ticks\": \"\"}}, \"type\": \"scattermapbox\"}], \"scatterpolar\": [{\"marker\": {\"colorbar\": {\"outlinewidth\": 0, \"ticks\": \"\"}}, \"type\": \"scatterpolar\"}], \"scatterpolargl\": [{\"marker\": {\"colorbar\": {\"outlinewidth\": 0, \"ticks\": \"\"}}, \"type\": \"scatterpolargl\"}], \"scatterternary\": [{\"marker\": {\"colorbar\": {\"outlinewidth\": 0, \"ticks\": \"\"}}, \"type\": \"scatterternary\"}], \"surface\": [{\"colorbar\": {\"outlinewidth\": 0, \"ticks\": \"\"}, \"colorscale\": [[0.0, \"#0d0887\"], [0.1111111111111111, \"#46039f\"], [0.2222222222222222, \"#7201a8\"], [0.3333333333333333, \"#9c179e\"], [0.4444444444444444, \"#bd3786\"], [0.5555555555555556, \"#d8576b\"], [0.6666666666666666, \"#ed7953\"], [0.7777777777777778, \"#fb9f3a\"], [0.8888888888888888, \"#fdca26\"], [1.0, \"#f0f921\"]], \"type\": \"surface\"}], \"table\": [{\"cells\": {\"fill\": {\"color\": \"#EBF0F8\"}, \"line\": {\"color\": \"white\"}}, \"header\": {\"fill\": {\"color\": \"#C8D4E3\"}, \"line\": {\"color\": \"white\"}}, \"type\": \"table\"}]}, \"layout\": {\"annotationdefaults\": {\"arrowcolor\": \"#2a3f5f\", \"arrowhead\": 0, \"arrowwidth\": 1}, \"coloraxis\": {\"colorbar\": {\"outlinewidth\": 0, \"ticks\": \"\"}}, \"colorscale\": {\"diverging\": [[0, \"#8e0152\"], [0.1, \"#c51b7d\"], [0.2, \"#de77ae\"], [0.3, \"#f1b6da\"], [0.4, \"#fde0ef\"], [0.5, \"#f7f7f7\"], [0.6, \"#e6f5d0\"], [0.7, \"#b8e186\"], [0.8, \"#7fbc41\"], [0.9, \"#4d9221\"], [1, \"#276419\"]], \"sequential\": [[0.0, \"#0d0887\"], [0.1111111111111111, \"#46039f\"], [0.2222222222222222, \"#7201a8\"], [0.3333333333333333, \"#9c179e\"], [0.4444444444444444, \"#bd3786\"], [0.5555555555555556, \"#d8576b\"], [0.6666666666666666, \"#ed7953\"], [0.7777777777777778, \"#fb9f3a\"], [0.8888888888888888, \"#fdca26\"], [1.0, \"#f0f921\"]], \"sequentialminus\": [[0.0, \"#0d0887\"], [0.1111111111111111, \"#46039f\"], [0.2222222222222222, \"#7201a8\"], [0.3333333333333333, \"#9c179e\"], [0.4444444444444444, \"#bd3786\"], [0.5555555555555556, \"#d8576b\"], [0.6666666666666666, \"#ed7953\"], [0.7777777777777778, \"#fb9f3a\"], [0.8888888888888888, \"#fdca26\"], [1.0, \"#f0f921\"]]}, \"colorway\": [\"#636efa\", \"#EF553B\", \"#00cc96\", \"#ab63fa\", \"#FFA15A\", \"#19d3f3\", \"#FF6692\", \"#B6E880\", \"#FF97FF\", \"#FECB52\"], \"font\": {\"color\": \"#2a3f5f\"}, \"geo\": {\"bgcolor\": \"white\", \"lakecolor\": \"white\", \"landcolor\": \"#E5ECF6\", \"showlakes\": true, \"showland\": true, \"subunitcolor\": \"white\"}, \"hoverlabel\": {\"align\": \"left\"}, \"hovermode\": \"closest\", \"mapbox\": {\"style\": \"light\"}, \"paper_bgcolor\": \"white\", \"plot_bgcolor\": \"#E5ECF6\", \"polar\": {\"angularaxis\": {\"gridcolor\": \"white\", \"linecolor\": \"white\", \"ticks\": \"\"}, \"bgcolor\": \"#E5ECF6\", \"radialaxis\": {\"gridcolor\": \"white\", \"linecolor\": \"white\", \"ticks\": \"\"}}, \"scene\": {\"xaxis\": {\"backgroundcolor\": \"#E5ECF6\", \"gridcolor\": \"white\", \"gridwidth\": 2, \"linecolor\": \"white\", \"showbackground\": true, \"ticks\": \"\", \"zerolinecolor\": \"white\"}, \"yaxis\": {\"backgroundcolor\": \"#E5ECF6\", \"gridcolor\": \"white\", \"gridwidth\": 2, \"linecolor\": \"white\", \"showbackground\": true, \"ticks\": \"\", \"zerolinecolor\": \"white\"}, \"zaxis\": {\"backgroundcolor\": \"#E5ECF6\", \"gridcolor\": \"white\", \"gridwidth\": 2, \"linecolor\": \"white\", \"showbackground\": true, \"ticks\": \"\", \"zerolinecolor\": \"white\"}}, \"shapedefaults\": {\"line\": {\"color\": \"#2a3f5f\"}}, \"ternary\": {\"aaxis\": {\"gridcolor\": \"white\", \"linecolor\": \"white\", \"ticks\": \"\"}, \"baxis\": {\"gridcolor\": \"white\", \"linecolor\": \"white\", \"ticks\": \"\"}, \"bgcolor\": \"#E5ECF6\", \"caxis\": {\"gridcolor\": \"white\", \"linecolor\": \"white\", \"ticks\": \"\"}}, \"title\": {\"x\": 0.05}, \"xaxis\": {\"automargin\": true, \"gridcolor\": \"white\", \"linecolor\": \"white\", \"ticks\": \"\", \"title\": {\"standoff\": 15}, \"zerolinecolor\": \"white\", \"zerolinewidth\": 2}, \"yaxis\": {\"automargin\": true, \"gridcolor\": \"white\", \"linecolor\": \"white\", \"ticks\": \"\", \"title\": {\"standoff\": 15}, \"zerolinecolor\": \"white\", \"zerolinewidth\": 2}}}, \"title\": {\"text\": \"<b> World Wide Corona virus deaths </b> <BR> As reported at 05 Apr 2020\"}, \"width\": 1000},\n",
       "                        {\"responsive\": true}\n",
       "                    ).then(function(){\n",
       "                            \n",
       "var gd = document.getElementById('da0de16f-3434-4cc9-b005-254ecfd64a60');\n",
       "var x = new MutationObserver(function (mutations, observer) {{\n",
       "        var display = window.getComputedStyle(gd).display;\n",
       "        if (!display || display === 'none') {{\n",
       "            console.log([gd, 'removed!']);\n",
       "            Plotly.purge(gd);\n",
       "            observer.disconnect();\n",
       "        }}\n",
       "}});\n",
       "\n",
       "// Listen for the removal of the full notebook cells\n",
       "var notebookContainer = gd.closest('#notebook-container');\n",
       "if (notebookContainer) {{\n",
       "    x.observe(notebookContainer, {childList: true});\n",
       "}}\n",
       "\n",
       "// Listen for the clearing of the current output cell\n",
       "var outputEl = gd.closest('.output');\n",
       "if (outputEl) {{\n",
       "    x.observe(outputEl, {childList: true});\n",
       "}}\n",
       "\n",
       "                        })\n",
       "                };\n",
       "                });\n",
       "            </script>\n",
       "        </div>"
      ]
     },
     "metadata": {},
     "output_type": "display_data"
    }
   ],
   "source": [
    "\n",
    "df = data.loc[data['dateRep'] == max(data['dateRep'])].reset_index()\n",
    "\n",
    "colors = [\"royalblue\",\"crimson\",\"lightseagreen\",\"orange\",\"gold\",\"firebrick\",\"peru\"]\n",
    "scale = 5\n",
    "\n",
    "fig = go.Figure()\n",
    "\n",
    "for i, cont in enumerate(df['Continent_Name'].unique()):\n",
    "    df_sub = df[df['Continent_Name'] == cont].reset_index()\n",
    "    fig.add_trace(go.Scattergeo(\n",
    "        locationmode = 'ISO-3',\n",
    "        locations = df_sub['countryterritoryCode'],\n",
    "        marker = dict(\n",
    "            size = df_sub['total_deaths']/10,\n",
    "            color = colors[i],\n",
    "            line_color= '#ffffff',\n",
    "            line_width=0.5,\n",
    "            sizemode = 'area'\n",
    "        ),\n",
    "        name = '{}'.format(cont),\n",
    "        text = ['{}<BR>Total Deaths: {}'.format(df_sub['countriesAndTerritories'][x],df_sub['total_deaths'][x]) for x in range(len(df_sub))]\n",
    "       ))\n",
    "\n",
    "fig.update_layout(\n",
    "    height = 600,\n",
    "    width = 1000,\n",
    "        title_text = '<b> World Wide Corona virus deaths </b> <BR> As reported at ' + latest_data_string,\n",
    "        showlegend = True,\n",
    "        geo = dict(\n",
    "            scope = 'world',\n",
    "            landcolor = 'rgb(217, 217, 217)',\n",
    "            coastlinecolor = '#ffffff',\n",
    "            countrywidth = 0.5,\n",
    "            countrycolor = '#ffffff'\n",
    "            \n",
    "            \n",
    "        )\n",
    "    )\n",
    "\n",
    "fig.show()"
   ]
  }
 ],
 "metadata": {
  "kernelspec": {
   "display_name": "Python 3",
   "language": "python",
   "name": "python3"
  },
  "language_info": {
   "codemirror_mode": {
    "name": "ipython",
    "version": 3
   },
   "file_extension": ".py",
   "mimetype": "text/x-python",
   "name": "python",
   "nbconvert_exporter": "python",
   "pygments_lexer": "ipython3",
   "version": "3.7.7"
  }
 },
 "nbformat": 4,
 "nbformat_minor": 4
}
